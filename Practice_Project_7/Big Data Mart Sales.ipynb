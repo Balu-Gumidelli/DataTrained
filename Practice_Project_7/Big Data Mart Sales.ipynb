{
 "cells": [
  {
   "cell_type": "markdown",
   "id": "82c38a3e",
   "metadata": {},
   "source": [
    "# Problem Statement:\n",
    "The data scientists at BigMart have collected 2013 sales data for 1559 products across 10 stores in different cities. Also, certain attributes of each product and store have been defined. The aim is to build a predictive model and find out the sales of each product at a particular store.\n",
    "\n",
    "Using this model, BigMart will try to understand the properties of products and stores which play a key role in increasing the sales of their products."
   ]
  },
  {
   "cell_type": "markdown",
   "id": "c0b6e0af",
   "metadata": {},
   "source": [
    "# Importing Required Libraries:"
   ]
  },
  {
   "cell_type": "code",
   "execution_count": null,
   "id": "0a968976",
   "metadata": {},
   "outputs": [],
   "source": [
    "import pandas as pd\n",
    "import numpy as np\n",
    "import matplotlib.pyplot as plt\n",
    "import seaborn as sns\n",
    "import warnings\n",
    "warnings.filterwarnings(\"ignore\")"
   ]
  },
  {
   "cell_type": "markdown",
   "id": "6534b184",
   "metadata": {},
   "source": [
    "# Importing Dataset:"
   ]
  },
  {
   "cell_type": "code",
   "execution_count": null,
   "id": "e75ee56b",
   "metadata": {},
   "outputs": [],
   "source": [
    "df=pd.read_csv(\"bigdatamart_Train.csv\")\n",
    "df"
   ]
  },
  {
   "cell_type": "markdown",
   "id": "17ff187d",
   "metadata": {},
   "source": [
    "# EDA:"
   ]
  },
  {
   "cell_type": "code",
   "execution_count": null,
   "id": "e746ba76",
   "metadata": {},
   "outputs": [],
   "source": [
    "df.shape"
   ]
  },
  {
   "cell_type": "code",
   "execution_count": null,
   "id": "e317c15d",
   "metadata": {},
   "outputs": [],
   "source": [
    "df.dtypes"
   ]
  },
  {
   "cell_type": "code",
   "execution_count": null,
   "id": "832e0945",
   "metadata": {},
   "outputs": [],
   "source": [
    "df.nunique()"
   ]
  },
  {
   "cell_type": "code",
   "execution_count": null,
   "id": "d435d1f1",
   "metadata": {},
   "outputs": [],
   "source": [
    "df.info()"
   ]
  },
  {
   "cell_type": "code",
   "execution_count": null,
   "id": "79b2b1ea",
   "metadata": {},
   "outputs": [],
   "source": [
    "df.isnull().sum()"
   ]
  },
  {
   "cell_type": "code",
   "execution_count": null,
   "id": "9acd76af",
   "metadata": {},
   "outputs": [],
   "source": [
    "sns.heatmap(df.isnull())"
   ]
  },
  {
   "cell_type": "code",
   "execution_count": null,
   "id": "e1bbdaa2",
   "metadata": {},
   "outputs": [],
   "source": [
    "df.describe()"
   ]
  },
  {
   "cell_type": "code",
   "execution_count": null,
   "id": "0d144275",
   "metadata": {},
   "outputs": [],
   "source": [
    "df.columns"
   ]
  },
  {
   "cell_type": "markdown",
   "id": "d189a75f",
   "metadata": {},
   "source": [
    "# Data Visualization:"
   ]
  },
  {
   "cell_type": "code",
   "execution_count": null,
   "id": "48097e91",
   "metadata": {},
   "outputs": [],
   "source": [
    "sns.countplot(df[\"Item_Fat_Content\"])"
   ]
  },
  {
   "cell_type": "code",
   "execution_count": null,
   "id": "df0d4a8f",
   "metadata": {},
   "outputs": [],
   "source": [
    "df[\"Item_Fat_Content\"]=df[\"Item_Fat_Content\"].replace('low fat','Low Fat')\n",
    "df[\"Item_Fat_Content\"]=df[\"Item_Fat_Content\"].replace('LF','Low Fat')\n",
    "df[\"Item_Fat_Content\"]=df[\"Item_Fat_Content\"].replace('reg','Regular')"
   ]
  },
  {
   "cell_type": "code",
   "execution_count": null,
   "id": "f587c2c8",
   "metadata": {},
   "outputs": [],
   "source": [
    "sns.countplot(df[\"Item_Fat_Content\"])"
   ]
  },
  {
   "cell_type": "code",
   "execution_count": null,
   "id": "5cb2cf59",
   "metadata": {},
   "outputs": [],
   "source": [
    "plt.figure(figsize=[15,10])\n",
    "sns.countplot(df[\"Item_Type\"])\n",
    "plt.xticks(rotation=90)\n",
    "plt.title(\"Item_Type\")"
   ]
  },
  {
   "cell_type": "code",
   "execution_count": null,
   "id": "27efc774",
   "metadata": {},
   "outputs": [],
   "source": [
    "sns.countplot(df[\"Outlet_Size\"])"
   ]
  },
  {
   "cell_type": "code",
   "execution_count": null,
   "id": "c2fd9f8f",
   "metadata": {},
   "outputs": [],
   "source": [
    "sns.countplot(df[\"Outlet_Location_Type\"])"
   ]
  },
  {
   "cell_type": "code",
   "execution_count": null,
   "id": "652268ab",
   "metadata": {},
   "outputs": [],
   "source": [
    "plt.figure(figsize=[15,10])\n",
    "sns.countplot(df[\"Outlet_Type\"])\n",
    "plt.title(\"Outlet_Type\")"
   ]
  },
  {
   "cell_type": "code",
   "execution_count": null,
   "id": "3abc6df6",
   "metadata": {},
   "outputs": [],
   "source": [
    "sns.distplot(df['Item_Outlet_Sales'])"
   ]
  },
  {
   "cell_type": "code",
   "execution_count": null,
   "id": "e0acd9d9",
   "metadata": {},
   "outputs": [],
   "source": [
    "sns.distplot(df['Item_Weight'])"
   ]
  },
  {
   "cell_type": "code",
   "execution_count": null,
   "id": "05c4ec4d",
   "metadata": {},
   "outputs": [],
   "source": [
    "plt.figure(figsize=[5,10])\n",
    "sns.scatterplot(x=df['Item_Weight'],y=df['Outlet_Type'], hue=df[\"Item_Outlet_Sales\"], data=df)"
   ]
  },
  {
   "cell_type": "code",
   "execution_count": null,
   "id": "1af6e89e",
   "metadata": {},
   "outputs": [],
   "source": [
    "plt.figure(figsize=(5,10))\n",
    "sns.scatterplot(x='Item_Weight',y='Item_Outlet_Sales', hue='Item_Type',data=df)\n",
    "plt.show()"
   ]
  },
  {
   "cell_type": "code",
   "execution_count": null,
   "id": "536b9cac",
   "metadata": {},
   "outputs": [],
   "source": [
    "plt.figure(figsize=(5,10))\n",
    "sns.scatterplot(x='Outlet_Location_Type', y='Item_Type', hue='Item_Outlet_Sales',  data=df)\n",
    "plt.show()"
   ]
  },
  {
   "cell_type": "code",
   "execution_count": null,
   "id": "f50738ea",
   "metadata": {},
   "outputs": [],
   "source": [
    "sns.pairplot(df,hue=\"Item_Outlet_Sales\")"
   ]
  },
  {
   "cell_type": "markdown",
   "id": "6f33dbf2",
   "metadata": {},
   "source": [
    "# Correlation:"
   ]
  },
  {
   "cell_type": "code",
   "execution_count": null,
   "id": "6703a505",
   "metadata": {},
   "outputs": [],
   "source": [
    "df.corr()"
   ]
  },
  {
   "cell_type": "code",
   "execution_count": null,
   "id": "7fd18d28",
   "metadata": {},
   "outputs": [],
   "source": [
    "import matplotlib.pyplot as plt\n",
    "plt.figure(figsize=(15,7))\n",
    "sns.heatmap(df.corr(),annot=True,linewidth=0.5,fmt='.2f')"
   ]
  },
  {
   "cell_type": "markdown",
   "id": "db9ba2ef",
   "metadata": {},
   "source": [
    "# Data Cleaning:"
   ]
  },
  {
   "cell_type": "code",
   "execution_count": null,
   "id": "57db0d05",
   "metadata": {},
   "outputs": [],
   "source": [
    "df[\"Item_Weight\"].fillna(df[\"Item_Weight\"].mean(),inplace=True)"
   ]
  },
  {
   "cell_type": "code",
   "execution_count": null,
   "id": "71252935",
   "metadata": {},
   "outputs": [],
   "source": [
    "from sklearn.impute import SimpleImputer\n",
    "emb=SimpleImputer(strategy=\"most_frequent\")\n",
    "df['Outlet_Size']=emb.fit_transform(df['Outlet_Size'].values.reshape(-1, 1))"
   ]
  },
  {
   "cell_type": "code",
   "execution_count": null,
   "id": "00289570",
   "metadata": {},
   "outputs": [],
   "source": [
    "df.isnull().sum()"
   ]
  },
  {
   "cell_type": "code",
   "execution_count": null,
   "id": "88b0fadf",
   "metadata": {},
   "outputs": [],
   "source": [
    "sns.heatmap(df.isnull())"
   ]
  },
  {
   "cell_type": "markdown",
   "id": "8ad0e30d",
   "metadata": {},
   "source": [
    "# Checking Outliers:"
   ]
  },
  {
   "cell_type": "code",
   "execution_count": null,
   "id": "74c36480",
   "metadata": {},
   "outputs": [],
   "source": [
    "df.plot(kind='box',fontsize=10,figsize=(20,10))"
   ]
  },
  {
   "cell_type": "markdown",
   "id": "ad4372e7",
   "metadata": {},
   "source": [
    "Item_Visibility has outliers"
   ]
  },
  {
   "cell_type": "markdown",
   "id": "9b90f860",
   "metadata": {},
   "source": [
    "# Removing Outliers:"
   ]
  },
  {
   "cell_type": "code",
   "execution_count": null,
   "id": "aef3d6ce",
   "metadata": {},
   "outputs": [],
   "source": [
    "col=df[[\"Item_Visibility\"]]"
   ]
  },
  {
   "cell_type": "code",
   "execution_count": null,
   "id": "a3430dc5",
   "metadata": {},
   "outputs": [],
   "source": [
    "from scipy.stats import zscore\n",
    "z=np.abs(zscore(col))\n",
    "df_new=df[(z<3).all(axis=1)]\n",
    "df_new"
   ]
  },
  {
   "cell_type": "code",
   "execution_count": null,
   "id": "9f5e2e2e",
   "metadata": {},
   "outputs": [],
   "source": [
    "df.shape"
   ]
  },
  {
   "cell_type": "code",
   "execution_count": null,
   "id": "e1cd42f0",
   "metadata": {},
   "outputs": [],
   "source": [
    "df_new.shape"
   ]
  },
  {
   "cell_type": "markdown",
   "id": "dba88bb5",
   "metadata": {},
   "source": [
    "# Percentage of Data Loss:"
   ]
  },
  {
   "cell_type": "code",
   "execution_count": null,
   "id": "f3578d3b",
   "metadata": {},
   "outputs": [],
   "source": [
    "Data_loss = (8523-8428)/8523*100\n",
    "Data_loss"
   ]
  },
  {
   "cell_type": "markdown",
   "id": "b22866e3",
   "metadata": {},
   "source": [
    "# Skewness:"
   ]
  },
  {
   "cell_type": "code",
   "execution_count": null,
   "id": "2bd93473",
   "metadata": {},
   "outputs": [],
   "source": [
    "df_new.skew()"
   ]
  },
  {
   "cell_type": "code",
   "execution_count": null,
   "id": "f68b5be2",
   "metadata": {},
   "outputs": [],
   "source": [
    "sk=[\"Item_Visibility\"]"
   ]
  },
  {
   "cell_type": "code",
   "execution_count": null,
   "id": "df1f177c",
   "metadata": {},
   "outputs": [],
   "source": [
    "from sklearn.preprocessing import PowerTransformer\n",
    "Scaler=PowerTransformer(method='yeo-johnson')"
   ]
  },
  {
   "cell_type": "code",
   "execution_count": null,
   "id": "eb6c6313",
   "metadata": {},
   "outputs": [],
   "source": [
    "df_new[sk] = Scaler.fit_transform(df_new[sk].values)"
   ]
  },
  {
   "cell_type": "markdown",
   "id": "c2aac587",
   "metadata": {},
   "source": [
    "# Encoding the Data:"
   ]
  },
  {
   "cell_type": "code",
   "execution_count": null,
   "id": "9cfafcd5",
   "metadata": {},
   "outputs": [],
   "source": [
    "from sklearn.preprocessing import LabelEncoder as LE"
   ]
  },
  {
   "cell_type": "code",
   "execution_count": null,
   "id": "d29c5c4c",
   "metadata": {},
   "outputs": [],
   "source": [
    "cols=[\"Item_Identifier\", \"Item_Fat_Content\", \"Item_Type\", \"Outlet_Identifier\", \"Outlet_Size\", \"Outlet_Location_Type\", \"Outlet_Type\"]"
   ]
  },
  {
   "cell_type": "code",
   "execution_count": null,
   "id": "5813458a",
   "metadata": {},
   "outputs": [],
   "source": [
    "from sklearn.preprocessing import LabelEncoder\n",
    "LE=LabelEncoder()\n",
    "df_new[cols]=df_new[cols].apply(LE.fit_transform)"
   ]
  },
  {
   "cell_type": "code",
   "execution_count": null,
   "id": "e6b46f69",
   "metadata": {},
   "outputs": [],
   "source": [
    "df_new"
   ]
  },
  {
   "cell_type": "markdown",
   "id": "5a6b76d8",
   "metadata": {},
   "source": [
    "# Data Preprocessing:"
   ]
  },
  {
   "cell_type": "code",
   "execution_count": null,
   "id": "93966e4c",
   "metadata": {},
   "outputs": [],
   "source": [
    "x=df_new.drop(\"Item_Outlet_Sales\",axis=1)\n",
    "y=df_new[\"Item_Outlet_Sales\"]"
   ]
  },
  {
   "cell_type": "markdown",
   "id": "a13ba9a9",
   "metadata": {},
   "source": [
    "# Scaling:"
   ]
  },
  {
   "cell_type": "code",
   "execution_count": null,
   "id": "c01da3d3",
   "metadata": {},
   "outputs": [],
   "source": [
    "from sklearn.preprocessing import MinMaxScaler\n",
    "mms=MinMaxScaler()\n",
    "x=pd.DataFrame(mms.fit_transform(x),columns=x.columns)\n",
    "x"
   ]
  },
  {
   "cell_type": "markdown",
   "id": "9bc6ee32",
   "metadata": {},
   "source": [
    "# Finding Best Random State:"
   ]
  },
  {
   "cell_type": "code",
   "execution_count": null,
   "id": "b2f92977",
   "metadata": {},
   "outputs": [],
   "source": [
    "import sklearn\n",
    "from sklearn.linear_model import LinearRegression\n",
    "from sklearn.metrics import r2_score\n",
    "from sklearn.metrics import mean_squared_error,mean_absolute_error\n",
    "from sklearn.model_selection import train_test_split\n",
    "from sklearn.ensemble import RandomForestRegressor\n",
    "from sklearn.ensemble import AdaBoostRegressor\n",
    "from sklearn.neighbors import KNeighborsRegressor\n",
    "from sklearn.tree import DecisionTreeRegressor\n",
    "from sklearn.metrics import classification_report\n",
    "from sklearn.model_selection import cross_val_score\n",
    "from sklearn.model_selection import GridSearchCV"
   ]
  },
  {
   "cell_type": "code",
   "execution_count": null,
   "id": "6648ba71",
   "metadata": {},
   "outputs": [],
   "source": [
    "maxAccu=0\n",
    "maxRS=0\n",
    "for i in range(1,200):\n",
    "    x_train,x_test,y_train,y_test = train_test_split(x,y,test_size=.30, random_state=i)\n",
    "    mod = LinearRegression()\n",
    "    mod.fit(x_train, y_train)\n",
    "    pred = mod.predict(x_test)\n",
    "    acc=r2_score(y_test, pred)\n",
    "    if acc>maxAccu:\n",
    "        maxAccu=acc\n",
    "        maxRS=i\n",
    "print(\"Maximum r2 score is \",maxAccu,\" on Random_state \",maxRS)"
   ]
  },
  {
   "cell_type": "code",
   "execution_count": null,
   "id": "2d251716",
   "metadata": {},
   "outputs": [],
   "source": [
    "x_train,x_test,y_train,y_test=train_test_split(x,y,random_state=10,test_size=.20)"
   ]
  },
  {
   "cell_type": "markdown",
   "id": "9ff96a8a",
   "metadata": {},
   "source": [
    "# Random Forest Regressor:"
   ]
  },
  {
   "cell_type": "code",
   "execution_count": null,
   "id": "0ec44fb8",
   "metadata": {},
   "outputs": [],
   "source": [
    "RFR=RandomForestRegressor()\n",
    "RFR.fit(x_train,y_train)\n",
    "pred=RFR.predict(x_test)\n",
    "acc=r2_score(y_test,pred)\n",
    "print('R2_Score:',r2_score(y_test,pred))\n",
    "print('MAE:',mean_absolute_error(y_test,pred))\n",
    "print('MSE:',mean_squared_error(y_test,pred))"
   ]
  },
  {
   "cell_type": "markdown",
   "id": "8ec04190",
   "metadata": {},
   "source": [
    "# Decision Tree Regressor:"
   ]
  },
  {
   "cell_type": "code",
   "execution_count": null,
   "id": "b3a54704",
   "metadata": {},
   "outputs": [],
   "source": [
    "DTR=RandomForestRegressor()\n",
    "DTR.fit(x_train,y_train)\n",
    "pred=DTR.predict(x_test)\n",
    "acc=r2_score(y_test,pred)\n",
    "print('R2_Score:',r2_score(y_test,pred))\n",
    "print('MAE:',mean_absolute_error(y_test, pred))\n",
    "print('MSE:',mean_squared_error(y_test, pred))"
   ]
  },
  {
   "cell_type": "markdown",
   "id": "83c3561e",
   "metadata": {},
   "source": [
    "# KNeighbors Regressor:"
   ]
  },
  {
   "cell_type": "code",
   "execution_count": null,
   "id": "ad9ade3d",
   "metadata": {},
   "outputs": [],
   "source": [
    "KN=KNeighborsRegressor()\n",
    "KN.fit(x_train,y_train)\n",
    "pred=KN.predict(x_test)\n",
    "acc=r2_score(y_test,pred)\n",
    "print('R2_Score:',r2_score(y_test,pred))\n",
    "print('MAE:',mean_absolute_error(y_test,pred))\n",
    "print('MSE:',mean_squared_error(y_test,pred))"
   ]
  },
  {
   "cell_type": "markdown",
   "id": "f9f29603",
   "metadata": {},
   "source": [
    "# Linear Regression:"
   ]
  },
  {
   "cell_type": "code",
   "execution_count": null,
   "id": "5bb187a1",
   "metadata": {},
   "outputs": [],
   "source": [
    "LR = LinearRegression()\n",
    "LR.fit(x_train,y_train)\n",
    "predLR=LR.predict(x_test)\n",
    "print('R2_score:',r2_score(y_test,predLR))\n",
    "print('MAE:',mean_absolute_error(y_test, predLR))\n",
    "print('MSE:',mean_squared_error(y_test, predLR))"
   ]
  },
  {
   "cell_type": "markdown",
   "id": "27750850",
   "metadata": {},
   "source": [
    "# Cross Validation Score:"
   ]
  },
  {
   "cell_type": "code",
   "execution_count": null,
   "id": "a86707c4",
   "metadata": {},
   "outputs": [],
   "source": [
    "from sklearn.model_selection import cross_val_score\n",
    "for i in range(2,8):\n",
    "    cr=cross_val_score(DTR,x,y,cv=i)\n",
    "    cr_mean=cr.mean()\n",
    "    print(\"at cv= \", i)\n",
    "    print('cross val score = ',cr_mean*100)"
   ]
  },
  {
   "cell_type": "code",
   "execution_count": null,
   "id": "e4ec8e02",
   "metadata": {},
   "outputs": [],
   "source": [
    "print(cross_val_score(RFR,x,y,cv=6).mean())"
   ]
  },
  {
   "cell_type": "code",
   "execution_count": null,
   "id": "42b65f79",
   "metadata": {},
   "outputs": [],
   "source": [
    "print(cross_val_score(DTR,x,y,cv=6).mean())"
   ]
  },
  {
   "cell_type": "code",
   "execution_count": null,
   "id": "459b1bfe",
   "metadata": {},
   "outputs": [],
   "source": [
    "print(cross_val_score(KN,x,y,cv=6).mean())"
   ]
  },
  {
   "cell_type": "code",
   "execution_count": null,
   "id": "520fe6e8",
   "metadata": {},
   "outputs": [],
   "source": [
    "print(cross_val_score(LR,x,y,cv=6).mean())"
   ]
  },
  {
   "cell_type": "markdown",
   "id": "faaf32be",
   "metadata": {},
   "source": [
    "# Saving:"
   ]
  },
  {
   "cell_type": "code",
   "execution_count": null,
   "id": "f174dc13",
   "metadata": {},
   "outputs": [],
   "source": [
    "import joblib\n",
    "joblib.dump(RFR,\"Big_Data_Mart_Sales.pkl\")"
   ]
  },
  {
   "cell_type": "markdown",
   "id": "63f9e0e2",
   "metadata": {},
   "source": [
    "# Now Let's Import Test Dataset:"
   ]
  },
  {
   "cell_type": "code",
   "execution_count": null,
   "id": "eeadee8a",
   "metadata": {},
   "outputs": [],
   "source": [
    "df_test=pd.read_csv(\"bigdatamart_test.csv\")\n",
    "df_test.head()"
   ]
  },
  {
   "cell_type": "code",
   "execution_count": null,
   "id": "2e962976",
   "metadata": {},
   "outputs": [],
   "source": [
    "df_test.shape"
   ]
  },
  {
   "cell_type": "code",
   "execution_count": null,
   "id": "f463f71f",
   "metadata": {},
   "outputs": [],
   "source": [
    "df_test.dtypes"
   ]
  },
  {
   "cell_type": "code",
   "execution_count": null,
   "id": "7dea301a",
   "metadata": {},
   "outputs": [],
   "source": [
    "df_test.info()"
   ]
  },
  {
   "cell_type": "code",
   "execution_count": null,
   "id": "14f093b6",
   "metadata": {},
   "outputs": [],
   "source": [
    "df_test.nunique()"
   ]
  },
  {
   "cell_type": "code",
   "execution_count": null,
   "id": "2d6548d3",
   "metadata": {},
   "outputs": [],
   "source": [
    "df_test.isnull().sum()"
   ]
  },
  {
   "cell_type": "code",
   "execution_count": null,
   "id": "ea1e347b",
   "metadata": {},
   "outputs": [],
   "source": [
    "sns.heatmap(df_test.isnull())"
   ]
  },
  {
   "cell_type": "markdown",
   "id": "a903c4eb",
   "metadata": {},
   "source": [
    "# Data Visualization:"
   ]
  },
  {
   "cell_type": "code",
   "execution_count": null,
   "id": "160b430a",
   "metadata": {},
   "outputs": [],
   "source": [
    "sns.countplot(df_test[\"Item_Fat_Content\"])"
   ]
  },
  {
   "cell_type": "code",
   "execution_count": null,
   "id": "8789f302",
   "metadata": {},
   "outputs": [],
   "source": [
    "df_test[\"Item_Fat_Content\"]=df_test[\"Item_Fat_Content\"].replace('low fat','Low Fat')\n",
    "df_test[\"Item_Fat_Content\"]=df_test[\"Item_Fat_Content\"].replace('LF','Low Fat')\n",
    "df_test[\"Item_Fat_Content\"]=df_test[\"Item_Fat_Content\"].replace('reg','Regular')"
   ]
  },
  {
   "cell_type": "code",
   "execution_count": null,
   "id": "7fb921db",
   "metadata": {},
   "outputs": [],
   "source": [
    "sns.countplot(df_test[\"Item_Fat_Content\"])"
   ]
  },
  {
   "cell_type": "markdown",
   "id": "f7c3d5d0",
   "metadata": {},
   "source": [
    "# Data Cleaning:"
   ]
  },
  {
   "cell_type": "code",
   "execution_count": null,
   "id": "b974e231",
   "metadata": {},
   "outputs": [],
   "source": [
    "df_test[\"Item_Weight\"].fillna(df_test[\"Item_Weight\"].mean(),inplace=True)"
   ]
  },
  {
   "cell_type": "code",
   "execution_count": null,
   "id": "91e706eb",
   "metadata": {},
   "outputs": [],
   "source": [
    "from sklearn.impute import SimpleImputer\n",
    "emb=SimpleImputer(strategy=\"most_frequent\")\n",
    "df_test['Outlet_Size']=emb.fit_transform(df_test['Outlet_Size'].values.reshape(-1, 1))"
   ]
  },
  {
   "cell_type": "code",
   "execution_count": null,
   "id": "9a4d6bb0",
   "metadata": {},
   "outputs": [],
   "source": [
    "sns.heatmap(df_test.isnull())"
   ]
  },
  {
   "cell_type": "markdown",
   "id": "0c780491",
   "metadata": {},
   "source": [
    "# Outliers:"
   ]
  },
  {
   "cell_type": "code",
   "execution_count": null,
   "id": "e7910d7b",
   "metadata": {},
   "outputs": [],
   "source": [
    "df_test.plot(kind='box',fontsize=10,figsize=(20,10))"
   ]
  },
  {
   "cell_type": "markdown",
   "id": "9864f5f6",
   "metadata": {},
   "source": [
    "# Removing the Outliers:"
   ]
  },
  {
   "cell_type": "code",
   "execution_count": null,
   "id": "bd5191f1",
   "metadata": {},
   "outputs": [],
   "source": [
    "col=df_test[[\"Item_Visibility\"]]"
   ]
  },
  {
   "cell_type": "code",
   "execution_count": null,
   "id": "c9f460aa",
   "metadata": {},
   "outputs": [],
   "source": [
    "from scipy.stats import zscore\n",
    "z=np.abs(zscore(col))\n",
    "df_test_new=df_test[(z<3).all(axis=1)]\n",
    "df_test_new"
   ]
  },
  {
   "cell_type": "code",
   "execution_count": null,
   "id": "25093dde",
   "metadata": {},
   "outputs": [],
   "source": [
    "df_test.shape"
   ]
  },
  {
   "cell_type": "code",
   "execution_count": null,
   "id": "d10bf565",
   "metadata": {},
   "outputs": [],
   "source": [
    "df_test_new.shape"
   ]
  },
  {
   "cell_type": "markdown",
   "id": "b771166d",
   "metadata": {},
   "source": [
    "# Percentage of Data Loss:"
   ]
  },
  {
   "cell_type": "code",
   "execution_count": null,
   "id": "9c6551d7",
   "metadata": {},
   "outputs": [],
   "source": [
    "Data_loss = (5681-5600)/5681*100"
   ]
  },
  {
   "cell_type": "code",
   "execution_count": null,
   "id": "606a78f3",
   "metadata": {},
   "outputs": [],
   "source": [
    "Data_loss"
   ]
  },
  {
   "cell_type": "markdown",
   "id": "be4fbf4a",
   "metadata": {},
   "source": [
    "# Skewness:"
   ]
  },
  {
   "cell_type": "code",
   "execution_count": null,
   "id": "c2d749a8",
   "metadata": {},
   "outputs": [],
   "source": [
    "df_test_new.skew()"
   ]
  },
  {
   "cell_type": "code",
   "execution_count": null,
   "id": "7118e0a1",
   "metadata": {},
   "outputs": [],
   "source": [
    "from sklearn.preprocessing import PowerTransformer\n",
    "Scaler=PowerTransformer(method='yeo-johnson')"
   ]
  },
  {
   "cell_type": "code",
   "execution_count": null,
   "id": "95fdf8a0",
   "metadata": {},
   "outputs": [],
   "source": [
    "sk=['Item_Visibility']"
   ]
  },
  {
   "cell_type": "code",
   "execution_count": null,
   "id": "5ee21ad1",
   "metadata": {},
   "outputs": [],
   "source": [
    "df_new[sk] = Scaler.fit_transform(df_new[sk].values)"
   ]
  },
  {
   "cell_type": "markdown",
   "id": "8b767f4e",
   "metadata": {},
   "source": [
    "# Encoding:"
   ]
  },
  {
   "cell_type": "code",
   "execution_count": null,
   "id": "75c348aa",
   "metadata": {},
   "outputs": [],
   "source": [
    "from sklearn.preprocessing import LabelEncoder as LE"
   ]
  },
  {
   "cell_type": "code",
   "execution_count": null,
   "id": "cd103ef4",
   "metadata": {},
   "outputs": [],
   "source": [
    "cols=[\"Item_Identifier\", \"Item_Fat_Content\", \"Item_Type\", \"Outlet_Identifier\", \"Outlet_Size\", \"Outlet_Location_Type\", \"Outlet_Type\"]"
   ]
  },
  {
   "cell_type": "code",
   "execution_count": null,
   "id": "6bb0e39f",
   "metadata": {},
   "outputs": [],
   "source": [
    "from sklearn.preprocessing import LabelEncoder\n",
    "LE=LabelEncoder()\n",
    "df_test_new[cols]=df_test_new[cols].apply(LE.fit_transform)"
   ]
  },
  {
   "cell_type": "markdown",
   "id": "736aa5af",
   "metadata": {},
   "source": [
    "# Scaling:"
   ]
  },
  {
   "cell_type": "code",
   "execution_count": null,
   "id": "b9abf4aa",
   "metadata": {},
   "outputs": [],
   "source": [
    "from sklearn.preprocessing import MinMaxScaler\n",
    "mms=MinMaxScaler()\n",
    "df_test_new=pd.DataFrame(mms.fit_transform(df_test_new),columns=df_test_new.columns)\n",
    "df_test_new\n"
   ]
  },
  {
   "cell_type": "markdown",
   "id": "36e1eb3c",
   "metadata": {},
   "source": [
    "No let's load our trained Model"
   ]
  },
  {
   "cell_type": "code",
   "execution_count": 217,
   "id": "f9a2a12c",
   "metadata": {},
   "outputs": [],
   "source": [
    "Model=joblib.load(\"Big_Data_Mart_Sales.pkl\")"
   ]
  },
  {
   "cell_type": "code",
   "execution_count": 211,
   "id": "81164ed7",
   "metadata": {},
   "outputs": [],
   "source": [
    "prdct = Model.predict(x_test)"
   ]
  },
  {
   "cell_type": "code",
   "execution_count": 212,
   "id": "e85ed486",
   "metadata": {},
   "outputs": [],
   "source": [
    "pred = pd.DataFrame(prdct)"
   ]
  },
  {
   "cell_type": "code",
   "execution_count": 215,
   "id": "44c040ed",
   "metadata": {},
   "outputs": [
    {
     "data": {
      "text/html": [
       "<div>\n",
       "<style scoped>\n",
       "    .dataframe tbody tr th:only-of-type {\n",
       "        vertical-align: middle;\n",
       "    }\n",
       "\n",
       "    .dataframe tbody tr th {\n",
       "        vertical-align: top;\n",
       "    }\n",
       "\n",
       "    .dataframe thead th {\n",
       "        text-align: right;\n",
       "    }\n",
       "</style>\n",
       "<table border=\"1\" class=\"dataframe\">\n",
       "  <thead>\n",
       "    <tr style=\"text-align: right;\">\n",
       "      <th></th>\n",
       "      <th>0</th>\n",
       "    </tr>\n",
       "  </thead>\n",
       "  <tbody>\n",
       "    <tr>\n",
       "      <th>0</th>\n",
       "      <td>3895.702328</td>\n",
       "    </tr>\n",
       "    <tr>\n",
       "      <th>1</th>\n",
       "      <td>4049.921582</td>\n",
       "    </tr>\n",
       "    <tr>\n",
       "      <th>2</th>\n",
       "      <td>174.466232</td>\n",
       "    </tr>\n",
       "    <tr>\n",
       "      <th>3</th>\n",
       "      <td>856.292038</td>\n",
       "    </tr>\n",
       "    <tr>\n",
       "      <th>4</th>\n",
       "      <td>834.626906</td>\n",
       "    </tr>\n",
       "    <tr>\n",
       "      <th>...</th>\n",
       "      <td>...</td>\n",
       "    </tr>\n",
       "    <tr>\n",
       "      <th>1681</th>\n",
       "      <td>1427.009140</td>\n",
       "    </tr>\n",
       "    <tr>\n",
       "      <th>1682</th>\n",
       "      <td>2404.809678</td>\n",
       "    </tr>\n",
       "    <tr>\n",
       "      <th>1683</th>\n",
       "      <td>292.958658</td>\n",
       "    </tr>\n",
       "    <tr>\n",
       "      <th>1684</th>\n",
       "      <td>1721.385952</td>\n",
       "    </tr>\n",
       "    <tr>\n",
       "      <th>1685</th>\n",
       "      <td>810.351838</td>\n",
       "    </tr>\n",
       "  </tbody>\n",
       "</table>\n",
       "<p>1686 rows × 1 columns</p>\n",
       "</div>"
      ],
      "text/plain": [
       "                0\n",
       "0     3895.702328\n",
       "1     4049.921582\n",
       "2      174.466232\n",
       "3      856.292038\n",
       "4      834.626906\n",
       "...           ...\n",
       "1681  1427.009140\n",
       "1682  2404.809678\n",
       "1683   292.958658\n",
       "1684  1721.385952\n",
       "1685   810.351838\n",
       "\n",
       "[1686 rows x 1 columns]"
      ]
     },
     "execution_count": 215,
     "metadata": {},
     "output_type": "execute_result"
    }
   ],
   "source": [
    "pred"
   ]
  },
  {
   "cell_type": "code",
   "execution_count": 218,
   "id": "d20c6efb",
   "metadata": {},
   "outputs": [],
   "source": [
    "prdct=Model.predict(x_train)"
   ]
  },
  {
   "cell_type": "code",
   "execution_count": null,
   "id": "b914936e",
   "metadata": {},
   "outputs": [],
   "source": [
    "pred2=pd.DataFrame(Prdct)\n",
    "pred2"
   ]
  },
  {
   "cell_type": "markdown",
   "id": "a79ca284",
   "metadata": {},
   "source": [
    "Now,let's save the predicted values"
   ]
  },
  {
   "cell_type": "code",
   "execution_count": null,
   "id": "fc65578b",
   "metadata": {},
   "outputs": [],
   "source": [
    "pred2.to_csv('Sales.csv')"
   ]
  },
  {
   "cell_type": "code",
   "execution_count": null,
   "id": "ffff76f8",
   "metadata": {},
   "outputs": [],
   "source": []
  }
 ],
 "metadata": {
  "kernelspec": {
   "display_name": "Python 3 (ipykernel)",
   "language": "python",
   "name": "python3"
  },
  "language_info": {
   "codemirror_mode": {
    "name": "ipython",
    "version": 3
   },
   "file_extension": ".py",
   "mimetype": "text/x-python",
   "name": "python",
   "nbconvert_exporter": "python",
   "pygments_lexer": "ipython3",
   "version": "3.9.7"
  }
 },
 "nbformat": 4,
 "nbformat_minor": 5
}
