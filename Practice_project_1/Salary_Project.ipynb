{
 "cells": [
  {
   "cell_type": "markdown",
   "id": "d05d1da4",
   "metadata": {},
   "source": [
    "Problem Statement:\n",
    "\n",
    "Predict the salary if the employee using the features provided in the data."
   ]
  },
  {
   "cell_type": "code",
   "execution_count": 1,
   "id": "ce9ce448",
   "metadata": {},
   "outputs": [],
   "source": [
    "import pandas as pd\n",
    "import numpy as np\n",
    "import warnings\n",
    "warnings.filterwarnings('ignore')"
   ]
  },
  {
   "cell_type": "code",
   "execution_count": 2,
   "id": "8e74c50b",
   "metadata": {
    "scrolled": true
   },
   "outputs": [
    {
     "data": {
      "text/html": [
       "<div>\n",
       "<style scoped>\n",
       "    .dataframe tbody tr th:only-of-type {\n",
       "        vertical-align: middle;\n",
       "    }\n",
       "\n",
       "    .dataframe tbody tr th {\n",
       "        vertical-align: top;\n",
       "    }\n",
       "\n",
       "    .dataframe thead th {\n",
       "        text-align: right;\n",
       "    }\n",
       "</style>\n",
       "<table border=\"1\" class=\"dataframe\">\n",
       "  <thead>\n",
       "    <tr style=\"text-align: right;\">\n",
       "      <th></th>\n",
       "      <th>rank</th>\n",
       "      <th>discipline</th>\n",
       "      <th>yrs.since.phd</th>\n",
       "      <th>yrs.service</th>\n",
       "      <th>sex</th>\n",
       "      <th>salary</th>\n",
       "    </tr>\n",
       "  </thead>\n",
       "  <tbody>\n",
       "    <tr>\n",
       "      <th>0</th>\n",
       "      <td>Prof</td>\n",
       "      <td>B</td>\n",
       "      <td>19</td>\n",
       "      <td>18</td>\n",
       "      <td>Male</td>\n",
       "      <td>139750</td>\n",
       "    </tr>\n",
       "    <tr>\n",
       "      <th>1</th>\n",
       "      <td>Prof</td>\n",
       "      <td>B</td>\n",
       "      <td>20</td>\n",
       "      <td>16</td>\n",
       "      <td>Male</td>\n",
       "      <td>173200</td>\n",
       "    </tr>\n",
       "    <tr>\n",
       "      <th>2</th>\n",
       "      <td>AsstProf</td>\n",
       "      <td>B</td>\n",
       "      <td>4</td>\n",
       "      <td>3</td>\n",
       "      <td>Male</td>\n",
       "      <td>79750</td>\n",
       "    </tr>\n",
       "    <tr>\n",
       "      <th>3</th>\n",
       "      <td>Prof</td>\n",
       "      <td>B</td>\n",
       "      <td>45</td>\n",
       "      <td>39</td>\n",
       "      <td>Male</td>\n",
       "      <td>115000</td>\n",
       "    </tr>\n",
       "    <tr>\n",
       "      <th>4</th>\n",
       "      <td>Prof</td>\n",
       "      <td>B</td>\n",
       "      <td>40</td>\n",
       "      <td>41</td>\n",
       "      <td>Male</td>\n",
       "      <td>141500</td>\n",
       "    </tr>\n",
       "    <tr>\n",
       "      <th>...</th>\n",
       "      <td>...</td>\n",
       "      <td>...</td>\n",
       "      <td>...</td>\n",
       "      <td>...</td>\n",
       "      <td>...</td>\n",
       "      <td>...</td>\n",
       "    </tr>\n",
       "    <tr>\n",
       "      <th>392</th>\n",
       "      <td>Prof</td>\n",
       "      <td>A</td>\n",
       "      <td>33</td>\n",
       "      <td>30</td>\n",
       "      <td>Male</td>\n",
       "      <td>103106</td>\n",
       "    </tr>\n",
       "    <tr>\n",
       "      <th>393</th>\n",
       "      <td>Prof</td>\n",
       "      <td>A</td>\n",
       "      <td>31</td>\n",
       "      <td>19</td>\n",
       "      <td>Male</td>\n",
       "      <td>150564</td>\n",
       "    </tr>\n",
       "    <tr>\n",
       "      <th>394</th>\n",
       "      <td>Prof</td>\n",
       "      <td>A</td>\n",
       "      <td>42</td>\n",
       "      <td>25</td>\n",
       "      <td>Male</td>\n",
       "      <td>101738</td>\n",
       "    </tr>\n",
       "    <tr>\n",
       "      <th>395</th>\n",
       "      <td>Prof</td>\n",
       "      <td>A</td>\n",
       "      <td>25</td>\n",
       "      <td>15</td>\n",
       "      <td>Male</td>\n",
       "      <td>95329</td>\n",
       "    </tr>\n",
       "    <tr>\n",
       "      <th>396</th>\n",
       "      <td>AsstProf</td>\n",
       "      <td>A</td>\n",
       "      <td>8</td>\n",
       "      <td>4</td>\n",
       "      <td>Male</td>\n",
       "      <td>81035</td>\n",
       "    </tr>\n",
       "  </tbody>\n",
       "</table>\n",
       "<p>397 rows × 6 columns</p>\n",
       "</div>"
      ],
      "text/plain": [
       "         rank discipline  yrs.since.phd  yrs.service   sex  salary\n",
       "0        Prof          B             19           18  Male  139750\n",
       "1        Prof          B             20           16  Male  173200\n",
       "2    AsstProf          B              4            3  Male   79750\n",
       "3        Prof          B             45           39  Male  115000\n",
       "4        Prof          B             40           41  Male  141500\n",
       "..        ...        ...            ...          ...   ...     ...\n",
       "392      Prof          A             33           30  Male  103106\n",
       "393      Prof          A             31           19  Male  150564\n",
       "394      Prof          A             42           25  Male  101738\n",
       "395      Prof          A             25           15  Male   95329\n",
       "396  AsstProf          A              8            4  Male   81035\n",
       "\n",
       "[397 rows x 6 columns]"
      ]
     },
     "execution_count": 2,
     "metadata": {},
     "output_type": "execute_result"
    }
   ],
   "source": [
    "df=pd.read_csv(\"salaries.csv\")\n",
    "df"
   ]
  },
  {
   "cell_type": "code",
   "execution_count": 3,
   "id": "6b65db13",
   "metadata": {},
   "outputs": [
    {
     "data": {
      "text/plain": [
       "Index(['rank', 'discipline', 'yrs.since.phd', 'yrs.service', 'sex', 'salary'], dtype='object')"
      ]
     },
     "execution_count": 3,
     "metadata": {},
     "output_type": "execute_result"
    }
   ],
   "source": [
    "df.columns"
   ]
  },
  {
   "cell_type": "markdown",
   "id": "4d0f9d6b",
   "metadata": {},
   "source": [
    "# About the columns"
   ]
  },
  {
   "cell_type": "markdown",
   "id": "1feac11e",
   "metadata": {},
   "source": [
    "Discipline:\n",
    "    This Column shows the grade of discipline of employees.\n",
    "\n",
    "yrs.since.phd:\n",
    "    This column shows the No.of years since phd of employees.\n",
    "    \n",
    "yrs.service:\n",
    "    The years of service is shown in this column.\n",
    "    \n",
    "Sex:\n",
    "   Gender of the employees is given in this column.\n",
    "   \n",
    "Salary:\n",
    "   It shows the salary of the employees.\n",
    "    "
   ]
  },
  {
   "cell_type": "code",
   "execution_count": 4,
   "id": "6cf02176",
   "metadata": {},
   "outputs": [
    {
     "data": {
      "text/plain": [
       "rank             0\n",
       "discipline       0\n",
       "yrs.since.phd    0\n",
       "yrs.service      0\n",
       "sex              0\n",
       "salary           0\n",
       "dtype: int64"
      ]
     },
     "execution_count": 4,
     "metadata": {},
     "output_type": "execute_result"
    }
   ],
   "source": [
    "df.isnull().sum()"
   ]
  },
  {
   "cell_type": "markdown",
   "id": "70231380",
   "metadata": {},
   "source": [
    "# EDA"
   ]
  },
  {
   "cell_type": "code",
   "execution_count": 7,
   "id": "283a2543",
   "metadata": {},
   "outputs": [
    {
     "data": {
      "text/plain": [
       "<AxesSubplot:xlabel='yrs.since.phd', ylabel='salary'>"
      ]
     },
     "execution_count": 7,
     "metadata": {},
     "output_type": "execute_result"
    },
    {
     "data": {
      "image/png": "[encoded data removed]",
      "text/plain": [
       "<Figure size 432x288 with 1 Axes>"
      ]
     },
     "metadata": {
      "needs_background": "light"
     },
     "output_type": "display_data"
    }
   ],
   "source": [
    "import seaborn as sns\n",
    "sns.scatterplot(x=\"yrs.since.phd\",y=\"salary\",data=df)"
   ]
  },
  {
   "cell_type": "code",
   "execution_count": 8,
   "id": "c12aef30",
   "metadata": {},
   "outputs": [
    {
     "data": {
      "text/plain": [
       "<AxesSubplot:xlabel='yrs.service', ylabel='salary'>"
      ]
     },
     "execution_count": 8,
     "metadata": {},
     "output_type": "execute_result"
    },
    {
     "data": {
      "image/png": "[encoded data removed]",
      "text/plain": [
       "<Figure size 432x288 with 1 Axes>"
      ]
     },
     "metadata": {
      "needs_background": "light"
     },
     "output_type": "display_data"
    }
   ],
   "source": [
    "import seaborn as sns\n",
    "sns.scatterplot(x=\"yrs.service\",y=\"salary\",data=df)"
   ]
  },
  {
   "cell_type": "code",
   "execution_count": 10,
   "id": "4c1016b8",
   "metadata": {},
   "outputs": [
    {
     "data": {
      "text/plain": [
       "<AxesSubplot:xlabel='sex', ylabel='salary'>"
      ]
     },
     "execution_count": 10,
     "metadata": {},
     "output_type": "execute_result"
    },
    {
     "data": {
      "image/png": "[encoded data removed]",
      "text/plain": [
       "<Figure size 432x288 with 1 Axes>"
      ]
     },
     "metadata": {
      "needs_background": "light"
     },
     "output_type": "display_data"
    }
   ],
   "source": [
    "import seaborn as sns\n",
    "sns.scatterplot(x=\"sex\",y=\"salary\",data=df)\n"
   ]
  },
  {
   "cell_type": "code",
   "execution_count": 19,
   "id": "b863db61",
   "metadata": {},
   "outputs": [
    {
     "data": {
      "text/plain": [
       "<AxesSubplot:xlabel='rank', ylabel='salary'>"
      ]
     },
     "execution_count": 19,
     "metadata": {},
     "output_type": "execute_result"
    },
    {
     "data": {
      "image/png": "[encoded data removed]",
      "text/plain": [
       "<Figure size 432x288 with 1 Axes>"
      ]
     },
     "metadata": {
      "needs_background": "light"
     },
     "output_type": "display_data"
    }
   ],
   "source": [
    "import seaborn as sns\n",
    "sns.scatterplot(x=\"rank\",y=\"salary\",data=df)"
   ]
  },
  {
   "cell_type": "code",
   "execution_count": 20,
   "id": "d7848fbc",
   "metadata": {},
   "outputs": [
    {
     "data": {
      "text/plain": [
       "<AxesSubplot:xlabel='discipline', ylabel='salary'>"
      ]
     },
     "execution_count": 20,
     "metadata": {},
     "output_type": "execute_result"
    },
    {
     "data": {
      "image/png": "[encoded data removed]",
      "text/plain": [
       "<Figure size 432x288 with 1 Axes>"
      ]
     },
     "metadata": {
      "needs_background": "light"
     },
     "output_type": "display_data"
    }
   ],
   "source": [
    "import seaborn as sns\n",
    "sns.scatterplot(x=\"discipline\",y=\"salary\",data=df)"
   ]
  },
  {
   "cell_type": "markdown",
   "id": "89eb0dc4",
   "metadata": {},
   "source": [
    "# Correlation:"
   ]
  },
  {
   "cell_type": "code",
   "execution_count": 21,
   "id": "8d75a630",
   "metadata": {},
   "outputs": [
    {
     "data": {
      "text/html": [
       "<div>\n",
       "<style scoped>\n",
       "    .dataframe tbody tr th:only-of-type {\n",
       "        vertical-align: middle;\n",
       "    }\n",
       "\n",
       "    .dataframe tbody tr th {\n",
       "        vertical-align: top;\n",
       "    }\n",
       "\n",
       "    .dataframe thead th {\n",
       "        text-align: right;\n",
       "    }\n",
       "</style>\n",
       "<table border=\"1\" class=\"dataframe\">\n",
       "  <thead>\n",
       "    <tr style=\"text-align: right;\">\n",
       "      <th></th>\n",
       "      <th>yrs.since.phd</th>\n",
       "      <th>yrs.service</th>\n",
       "      <th>salary</th>\n",
       "    </tr>\n",
       "  </thead>\n",
       "  <tbody>\n",
       "    <tr>\n",
       "      <th>yrs.since.phd</th>\n",
       "      <td>1.000000</td>\n",
       "      <td>0.909649</td>\n",
       "      <td>0.419231</td>\n",
       "    </tr>\n",
       "    <tr>\n",
       "      <th>yrs.service</th>\n",
       "      <td>0.909649</td>\n",
       "      <td>1.000000</td>\n",
       "      <td>0.334745</td>\n",
       "    </tr>\n",
       "    <tr>\n",
       "      <th>salary</th>\n",
       "      <td>0.419231</td>\n",
       "      <td>0.334745</td>\n",
       "      <td>1.000000</td>\n",
       "    </tr>\n",
       "  </tbody>\n",
       "</table>\n",
       "</div>"
      ],
      "text/plain": [
       "               yrs.since.phd  yrs.service    salary\n",
       "yrs.since.phd       1.000000     0.909649  0.419231\n",
       "yrs.service         0.909649     1.000000  0.334745\n",
       "salary              0.419231     0.334745  1.000000"
      ]
     },
     "execution_count": 21,
     "metadata": {},
     "output_type": "execute_result"
    }
   ],
   "source": [
    "df.corr()"
   ]
  },
  {
   "cell_type": "markdown",
   "id": "f7d57b2a",
   "metadata": {},
   "source": [
    "# Correlation using Heatmap:"
   ]
  },
  {
   "cell_type": "code",
   "execution_count": 24,
   "id": "c1770027",
   "metadata": {},
   "outputs": [
    {
     "data": {
      "text/plain": [
       "<AxesSubplot:>"
      ]
     },
     "execution_count": 24,
     "metadata": {},
     "output_type": "execute_result"
    },
    {
     "data": {
      "image/png": "[encoded data removed]",
      "text/plain": [
       "<Figure size 720x360 with 2 Axes>"
      ]
     },
     "metadata": {
      "needs_background": "light"
     },
     "output_type": "display_data"
    }
   ],
   "source": [
    "import matplotlib.pyplot as plt\n",
    "plt.figure(figsize=(10,5))\n",
    "sns.heatmap(df.corr(),annot=True,linewidth=0.5,fmt='.2f')"
   ]
  },
  {
   "cell_type": "markdown",
   "id": "39f87d25",
   "metadata": {},
   "source": [
    "# Describing Datasets:"
   ]
  },
  {
   "cell_type": "code",
   "execution_count": 25,
   "id": "f836fd61",
   "metadata": {
    "scrolled": true
   },
   "outputs": [
    {
     "data": {
      "text/html": [
       "<div>\n",
       "<style scoped>\n",
       "    .dataframe tbody tr th:only-of-type {\n",
       "        vertical-align: middle;\n",
       "    }\n",
       "\n",
       "    .dataframe tbody tr th {\n",
       "        vertical-align: top;\n",
       "    }\n",
       "\n",
       "    .dataframe thead th {\n",
       "        text-align: right;\n",
       "    }\n",
       "</style>\n",
       "<table border=\"1\" class=\"dataframe\">\n",
       "  <thead>\n",
       "    <tr style=\"text-align: right;\">\n",
       "      <th></th>\n",
       "      <th>yrs.since.phd</th>\n",
       "      <th>yrs.service</th>\n",
       "      <th>salary</th>\n",
       "    </tr>\n",
       "  </thead>\n",
       "  <tbody>\n",
       "    <tr>\n",
       "      <th>count</th>\n",
       "      <td>397.000000</td>\n",
       "      <td>397.000000</td>\n",
       "      <td>397.000000</td>\n",
       "    </tr>\n",
       "    <tr>\n",
       "      <th>mean</th>\n",
       "      <td>22.314861</td>\n",
       "      <td>17.614610</td>\n",
       "      <td>113706.458438</td>\n",
       "    </tr>\n",
       "    <tr>\n",
       "      <th>std</th>\n",
       "      <td>12.887003</td>\n",
       "      <td>13.006024</td>\n",
       "      <td>30289.038695</td>\n",
       "    </tr>\n",
       "    <tr>\n",
       "      <th>min</th>\n",
       "      <td>1.000000</td>\n",
       "      <td>0.000000</td>\n",
       "      <td>57800.000000</td>\n",
       "    </tr>\n",
       "    <tr>\n",
       "      <th>25%</th>\n",
       "      <td>12.000000</td>\n",
       "      <td>7.000000</td>\n",
       "      <td>91000.000000</td>\n",
       "    </tr>\n",
       "    <tr>\n",
       "      <th>50%</th>\n",
       "      <td>21.000000</td>\n",
       "      <td>16.000000</td>\n",
       "      <td>107300.000000</td>\n",
       "    </tr>\n",
       "    <tr>\n",
       "      <th>75%</th>\n",
       "      <td>32.000000</td>\n",
       "      <td>27.000000</td>\n",
       "      <td>134185.000000</td>\n",
       "    </tr>\n",
       "    <tr>\n",
       "      <th>max</th>\n",
       "      <td>56.000000</td>\n",
       "      <td>60.000000</td>\n",
       "      <td>231545.000000</td>\n",
       "    </tr>\n",
       "  </tbody>\n",
       "</table>\n",
       "</div>"
      ],
      "text/plain": [
       "       yrs.since.phd  yrs.service         salary\n",
       "count     397.000000   397.000000     397.000000\n",
       "mean       22.314861    17.614610  113706.458438\n",
       "std        12.887003    13.006024   30289.038695\n",
       "min         1.000000     0.000000   57800.000000\n",
       "25%        12.000000     7.000000   91000.000000\n",
       "50%        21.000000    16.000000  107300.000000\n",
       "75%        32.000000    27.000000  134185.000000\n",
       "max        56.000000    60.000000  231545.000000"
      ]
     },
     "execution_count": 25,
     "metadata": {},
     "output_type": "execute_result"
    }
   ],
   "source": [
    "df.describe()"
   ]
  },
  {
   "cell_type": "code",
   "execution_count": 28,
   "id": "de20ce4f",
   "metadata": {},
   "outputs": [
    {
     "data": {
      "image/png": "[encoded data removed]",
      "text/plain": [
       "<Figure size 720x360 with 2 Axes>"
      ]
     },
     "metadata": {
      "needs_background": "light"
     },
     "output_type": "display_data"
    }
   ],
   "source": [
    "plt.figure(figsize=(10,5))\n",
    "sns.heatmap(round(df.describe()[1:].transpose(),2),linewidth=2,annot=True,fmt=\"f\")\n",
    "plt.xticks(fontsize=18)\n",
    "plt.yticks(fontsize=12)\n",
    "plt.title(\"Variables summary\")\n",
    "plt.show()"
   ]
  },
  {
   "cell_type": "markdown",
   "id": "bf000d79",
   "metadata": {},
   "source": [
    "# Outcome of describe of datasets:"
   ]
  },
  {
   "cell_type": "markdown",
   "id": "16f83cee",
   "metadata": {},
   "source": [
    "From the above plotting we are determining mean,stadard deviation,minimum and maximum value of each column.It helps us further in data cleaning.\n",
    "\n",
    "Total No.of rows in the dataset:\n",
    "\n",
    "397\n",
    "\n",
    "Total No.of columns in the dataset:\n",
    "\n",
    "6\n",
    "\n",
    "yrs.since.phd:\n",
    "\n",
    "1.Mean = 22.314861\n",
    "\n",
    "2.std =  12.887003\n",
    "\n",
    "3.max_value = 56.000000\n",
    "\n",
    "4.min_value = 1.000000\n",
    "\n",
    "yrs.service:\n",
    "\n",
    "1.Mean = 17.614610\n",
    "\n",
    "2.std = 13.006024\n",
    "\n",
    "3.max_value = 60.000000\n",
    "\n",
    "4.min_value = 0.000000\n",
    "\n",
    "Salary:\n",
    "\n",
    "1.Mean = 113706.458438\n",
    "\n",
    "2.std = 30289.038695\n",
    "\n",
    "3.max_value = 231545.000000\n",
    "\n",
    "4.min_value = 57800.000000"
   ]
  },
  {
   "cell_type": "code",
   "execution_count": 29,
   "id": "c9c79f2f",
   "metadata": {},
   "outputs": [
    {
     "name": "stdout",
     "output_type": "stream",
     "text": [
      "<class 'pandas.core.frame.DataFrame'>\n",
      "RangeIndex: 397 entries, 0 to 396\n",
      "Data columns (total 6 columns):\n",
      " #   Column         Non-Null Count  Dtype \n",
      "---  ------         --------------  ----- \n",
      " 0   rank           397 non-null    object\n",
      " 1   discipline     397 non-null    object\n",
      " 2   yrs.since.phd  397 non-null    int64 \n",
      " 3   yrs.service    397 non-null    int64 \n",
      " 4   sex            397 non-null    object\n",
      " 5   salary         397 non-null    int64 \n",
      "dtypes: int64(3), object(3)\n",
      "memory usage: 18.7+ KB\n"
     ]
    }
   ],
   "source": [
    "df.info()"
   ]
  },
  {
   "cell_type": "markdown",
   "id": "8920f3a0",
   "metadata": {},
   "source": [
    "# Outliers Checking:"
   ]
  },
  {
   "cell_type": "code",
   "execution_count": 32,
   "id": "3b14bdba",
   "metadata": {},
   "outputs": [
    {
     "data": {
      "text/plain": [
       "<AxesSubplot:>"
      ]
     },
     "execution_count": 32,
     "metadata": {},
     "output_type": "execute_result"
    },
    {
     "data": {
      "image/png": "[encoded data removed]",
      "text/plain": [
       "<Figure size 432x288 with 1 Axes>"
      ]
     },
     "metadata": {
      "needs_background": "light"
     },
     "output_type": "display_data"
    }
   ],
   "source": [
    "df['yrs.since.phd'].plot.box()"
   ]
  },
  {
   "cell_type": "code",
   "execution_count": 33,
   "id": "e96653db",
   "metadata": {},
   "outputs": [
    {
     "data": {
      "text/plain": [
       "<AxesSubplot:>"
      ]
     },
     "execution_count": 33,
     "metadata": {},
     "output_type": "execute_result"
    },
    {
     "data": {
      "image/png": "[encoded data removed]",
      "text/plain": [
       "<Figure size 432x288 with 1 Axes>"
      ]
     },
     "metadata": {
      "needs_background": "light"
     },
     "output_type": "display_data"
    }
   ],
   "source": [
    "df['yrs.service'].plot.box()"
   ]
  },
  {
   "cell_type": "code",
   "execution_count": 34,
   "id": "449a16b6",
   "metadata": {},
   "outputs": [
    {
     "data": {
      "text/plain": [
       "<AxesSubplot:>"
      ]
     },
     "execution_count": 34,
     "metadata": {},
     "output_type": "execute_result"
    },
    {
     "data": {
      "image/png": "[encoded data removed]",
      "text/plain": [
       "<Figure size 432x288 with 1 Axes>"
      ]
     },
     "metadata": {
      "needs_background": "light"
     },
     "output_type": "display_data"
    }
   ],
   "source": [
    "df['salary'].plot.box()"
   ]
  },
  {
   "cell_type": "markdown",
   "id": "70b6594d",
   "metadata": {},
   "source": [
    "# Skewness:"
   ]
  },
  {
   "cell_type": "code",
   "execution_count": 35,
   "id": "f6f125ed",
   "metadata": {},
   "outputs": [
    {
     "data": {
      "text/plain": [
       "yrs.since.phd    0.300880\n",
       "yrs.service      0.650569\n",
       "salary           0.714568\n",
       "dtype: float64"
      ]
     },
     "execution_count": 35,
     "metadata": {},
     "output_type": "execute_result"
    }
   ],
   "source": [
    "df.skew()"
   ]
  },
  {
   "cell_type": "markdown",
   "id": "0e9d77b1",
   "metadata": {},
   "source": [
    "Outcome of Skewness:\n",
    "\n",
    "Skewness threshold is taken as +/-0.5."
   ]
  },
  {
   "cell_type": "markdown",
   "id": "c0e8bb5d",
   "metadata": {},
   "source": [
    "# Normal Distribution Curve:"
   ]
  },
  {
   "cell_type": "code",
   "execution_count": 36,
   "id": "113cae71",
   "metadata": {
    "scrolled": true
   },
   "outputs": [
    {
     "data": {
      "text/plain": [
       "<AxesSubplot:xlabel='yrs.since.phd', ylabel='Density'>"
      ]
     },
     "execution_count": 36,
     "metadata": {},
     "output_type": "execute_result"
    },
    {
     "data": {
      "image/png": "[encoded data removed]",
      "text/plain": [
       "<Figure size 432x288 with 1 Axes>"
      ]
     },
     "metadata": {
      "needs_background": "light"
     },
     "output_type": "display_data"
    }
   ],
   "source": [
    "sns.distplot(df[\"yrs.since.phd\"])"
   ]
  },
  {
   "cell_type": "code",
   "execution_count": 37,
   "id": "cbd13566",
   "metadata": {},
   "outputs": [
    {
     "data": {
      "text/plain": [
       "<AxesSubplot:xlabel='yrs.service', ylabel='Density'>"
      ]
     },
     "execution_count": 37,
     "metadata": {},
     "output_type": "execute_result"
    },
    {
     "data": {
      "image/png": "[encoded data removed]",
      "text/plain": [
       "<Figure size 432x288 with 1 Axes>"
      ]
     },
     "metadata": {
      "needs_background": "light"
     },
     "output_type": "display_data"
    }
   ],
   "source": [
    "sns.distplot(df[\"yrs.service\"])"
   ]
  },
  {
   "cell_type": "code",
   "execution_count": 38,
   "id": "74e04dc3",
   "metadata": {},
   "outputs": [
    {
     "data": {
      "text/plain": [
       "<AxesSubplot:xlabel='salary', ylabel='Density'>"
      ]
     },
     "execution_count": 38,
     "metadata": {},
     "output_type": "execute_result"
    },
    {
     "data": {
      "image/png": "[encoded data removed]",
      "text/plain": [
       "<Figure size 432x288 with 1 Axes>"
      ]
     },
     "metadata": {
      "needs_background": "light"
     },
     "output_type": "display_data"
    }
   ],
   "source": [
    "sns.distplot(df[\"salary\"])"
   ]
  },
  {
   "cell_type": "code",
   "execution_count": 40,
   "id": "1a96e2b2",
   "metadata": {},
   "outputs": [
    {
     "data": {
      "text/html": [
       "<div>\n",
       "<style scoped>\n",
       "    .dataframe tbody tr th:only-of-type {\n",
       "        vertical-align: middle;\n",
       "    }\n",
       "\n",
       "    .dataframe tbody tr th {\n",
       "        vertical-align: top;\n",
       "    }\n",
       "\n",
       "    .dataframe thead th {\n",
       "        text-align: right;\n",
       "    }\n",
       "</style>\n",
       "<table border=\"1\" class=\"dataframe\">\n",
       "  <thead>\n",
       "    <tr style=\"text-align: right;\">\n",
       "      <th></th>\n",
       "      <th>yrs.since.phd</th>\n",
       "      <th>yrs.service</th>\n",
       "      <th>salary</th>\n",
       "    </tr>\n",
       "  </thead>\n",
       "  <tbody>\n",
       "    <tr>\n",
       "      <th>0</th>\n",
       "      <td>19</td>\n",
       "      <td>18</td>\n",
       "      <td>139750</td>\n",
       "    </tr>\n",
       "    <tr>\n",
       "      <th>1</th>\n",
       "      <td>20</td>\n",
       "      <td>16</td>\n",
       "      <td>173200</td>\n",
       "    </tr>\n",
       "    <tr>\n",
       "      <th>2</th>\n",
       "      <td>4</td>\n",
       "      <td>3</td>\n",
       "      <td>79750</td>\n",
       "    </tr>\n",
       "    <tr>\n",
       "      <th>3</th>\n",
       "      <td>45</td>\n",
       "      <td>39</td>\n",
       "      <td>115000</td>\n",
       "    </tr>\n",
       "    <tr>\n",
       "      <th>4</th>\n",
       "      <td>40</td>\n",
       "      <td>41</td>\n",
       "      <td>141500</td>\n",
       "    </tr>\n",
       "    <tr>\n",
       "      <th>...</th>\n",
       "      <td>...</td>\n",
       "      <td>...</td>\n",
       "      <td>...</td>\n",
       "    </tr>\n",
       "    <tr>\n",
       "      <th>392</th>\n",
       "      <td>33</td>\n",
       "      <td>30</td>\n",
       "      <td>103106</td>\n",
       "    </tr>\n",
       "    <tr>\n",
       "      <th>393</th>\n",
       "      <td>31</td>\n",
       "      <td>19</td>\n",
       "      <td>150564</td>\n",
       "    </tr>\n",
       "    <tr>\n",
       "      <th>394</th>\n",
       "      <td>42</td>\n",
       "      <td>25</td>\n",
       "      <td>101738</td>\n",
       "    </tr>\n",
       "    <tr>\n",
       "      <th>395</th>\n",
       "      <td>25</td>\n",
       "      <td>15</td>\n",
       "      <td>95329</td>\n",
       "    </tr>\n",
       "    <tr>\n",
       "      <th>396</th>\n",
       "      <td>8</td>\n",
       "      <td>4</td>\n",
       "      <td>81035</td>\n",
       "    </tr>\n",
       "  </tbody>\n",
       "</table>\n",
       "<p>397 rows × 3 columns</p>\n",
       "</div>"
      ],
      "text/plain": [
       "     yrs.since.phd  yrs.service  salary\n",
       "0               19           18  139750\n",
       "1               20           16  173200\n",
       "2                4            3   79750\n",
       "3               45           39  115000\n",
       "4               40           41  141500\n",
       "..             ...          ...     ...\n",
       "392             33           30  103106\n",
       "393             31           19  150564\n",
       "394             42           25  101738\n",
       "395             25           15   95329\n",
       "396              8            4   81035\n",
       "\n",
       "[397 rows x 3 columns]"
      ]
     },
     "execution_count": 40,
     "metadata": {},
     "output_type": "execute_result"
    }
   ],
   "source": [
    "df1=df.drop(['rank','discipline','sex'],axis=1)\n",
    "df1"
   ]
  },
  {
   "cell_type": "markdown",
   "id": "76891dd3",
   "metadata": {},
   "source": [
    "# Removing Outliers:"
   ]
  },
  {
   "cell_type": "markdown",
   "id": "d0fca848",
   "metadata": {},
   "source": [
    "Z-score Technique"
   ]
  },
  {
   "cell_type": "code",
   "execution_count": 41,
   "id": "cd905cb1",
   "metadata": {},
   "outputs": [
    {
     "data": {
      "text/plain": [
       "(397, 3)"
      ]
     },
     "execution_count": 41,
     "metadata": {},
     "output_type": "execute_result"
    }
   ],
   "source": [
    "from scipy.stats import zscore\n",
    "import numpy as np\n",
    "z=np.abs(zscore(df1))\n",
    "z.shape"
   ]
  },
  {
   "cell_type": "code",
   "execution_count": 42,
   "id": "e54aa6ca",
   "metadata": {},
   "outputs": [
    {
     "name": "stdout",
     "output_type": "stream",
     "text": [
      "(array([ 43, 131, 330, 364], dtype=int64), array([2, 1, 1, 2], dtype=int64))\n"
     ]
    }
   ],
   "source": [
    "threshold=3\n",
    "print(np.where(z>3))"
   ]
  },
  {
   "cell_type": "code",
   "execution_count": 43,
   "id": "383ebd56",
   "metadata": {},
   "outputs": [
    {
     "name": "stdout",
     "output_type": "stream",
     "text": [
      "(397, 3)\n",
      "(393, 3)\n"
     ]
    }
   ],
   "source": [
    "df2=df1[(z<3).all(axis=1)]\n",
    "print(df1.shape)\n",
    "print(df2.shape)"
   ]
  },
  {
   "cell_type": "markdown",
   "id": "2ee31646",
   "metadata": {},
   "source": [
    "# Percentage Data Loss:"
   ]
  },
  {
   "cell_type": "code",
   "execution_count": 45,
   "id": "de34773f",
   "metadata": {},
   "outputs": [
    {
     "data": {
      "text/plain": [
       "1.0075566750629723"
      ]
     },
     "execution_count": 45,
     "metadata": {},
     "output_type": "execute_result"
    }
   ],
   "source": [
    "loss_percent=(397-393)/397*100\n",
    "loss_percent"
   ]
  },
  {
   "cell_type": "code",
   "execution_count": 46,
   "id": "3eced2a4",
   "metadata": {},
   "outputs": [],
   "source": [
    "x=df2.iloc[:,:-1]\n",
    "y=df2.iloc[:,-1]"
   ]
  },
  {
   "cell_type": "code",
   "execution_count": 47,
   "id": "e3c7edd3",
   "metadata": {},
   "outputs": [
    {
     "data": {
      "text/plain": [
       "array([[-0.11344983,  0.26888583],\n",
       "       [-0.03455335,  0.1209006 ],\n",
       "       [-1.6242611 , -1.28449532],\n",
       "       [ 1.59976363,  1.46109915],\n",
       "       [ 1.31028198,  1.55315864],\n",
       "       [-1.36187943, -0.84005312],\n",
       "       [ 0.68342795,  0.60337981],\n",
       "       [ 1.59976363,  1.72997607],\n",
       "       [ 0.04281072,  0.40814245],\n",
       "       [-0.19398811,  0.26888583],\n",
       "       [-0.72000082, -0.60348074],\n",
       "       [-1.24247753, -1.47508922],\n",
       "       [-2.12374282, -1.70716059],\n",
       "       [-1.93539178, -2.02223253],\n",
       "       [-0.03455335,  0.26888583],\n",
       "       [-0.72000082, -1.28449532],\n",
       "       [-0.11344983,  0.40814245],\n",
       "       [ 1.1904517 ,  1.21866709],\n",
       "       [ 1.12958897,  0.60337981],\n",
       "       [ 1.25067523,  1.31789249],\n",
       "       [ 0.74953316,  0.78500622],\n",
       "       [ 1.06806314,  1.06349813],\n",
       "       [ 0.94291868,  1.00992197],\n",
       "       [ 0.26663401,  0.33951754],\n",
       "       [-0.62629143, -0.60348074],\n",
       "       [ 0.04281072, -0.60348074],\n",
       "       [ 1.00584876,  0.60337981],\n",
       "       [-1.48854554, -1.28449532],\n",
       "       [-0.81672914, -2.02223253],\n",
       "       [-0.72000082, -0.60348074],\n",
       "       [-0.03455335, -1.11979784],\n",
       "       [-1.24247753, -1.47508922],\n",
       "       [-0.62629143, -0.49655514],\n",
       "       [-1.6242611 , -1.47508922],\n",
       "       [-1.6242611 , -1.47508922],\n",
       "       [-1.48854554, -2.02223253],\n",
       "       [ 0.11873986,  0.47490923],\n",
       "       [-1.24247753, -1.11979784],\n",
       "       [ 1.3692931 ,  1.06349813],\n",
       "       [-1.02077234, -0.49655514],\n",
       "       [ 0.19332141, -1.47508922],\n",
       "       [ 0.19332141,  0.60337981],\n",
       "       [ 1.31028198,  0.84294347],\n",
       "       [-0.11344983,  0.33951754],\n",
       "       [ 0.33874878,  0.04312953],\n",
       "       [ 1.31028198,  0.89970038],\n",
       "       [ 0.19332141,  0.33951754],\n",
       "       [ 0.33874878,  0.72581897],\n",
       "       [-2.12374282, -1.70716059],\n",
       "       [ 0.54852367,  0.89970038],\n",
       "       [-0.72000082, -0.29986145],\n",
       "       [-0.81672914, -1.28449532],\n",
       "       [-0.36050053, -0.49655514],\n",
       "       [-0.72000082, -0.29986145],\n",
       "       [-0.53530047, -0.97317433],\n",
       "       [ 0.19332141,  0.47490923],\n",
       "       [-1.02077234, -0.60348074],\n",
       "       [-0.91683853, -0.49655514],\n",
       "       [-1.12908354, -1.28449532],\n",
       "       [-1.02077234, -0.60348074],\n",
       "       [-1.7717242 , -1.47508922],\n",
       "       [ 0.87924385,  1.06349813],\n",
       "       [-0.81672914, -0.29986145],\n",
       "       [-1.6242611 , -1.28449532],\n",
       "       [-1.02077234, -0.60348074],\n",
       "       [ 0.11873986, -0.2085903 ],\n",
       "       [ 1.00584876,  1.06349813],\n",
       "       [-0.27629162,  0.19607812],\n",
       "       [ 0.54852367,  1.31789249],\n",
       "       [-0.27629162, -1.47508922],\n",
       "       [ 1.59976363,  1.72997607],\n",
       "       [ 0.61643875,  0.33951754],\n",
       "       [ 1.00584876,  1.21866709],\n",
       "       [ 0.54852367,  0.60337981],\n",
       "       [-1.12908354, -1.28449532],\n",
       "       [-0.27629162, -1.28449532],\n",
       "       [ 0.40973026,  0.33951754],\n",
       "       [-1.7717242 , -1.70716059],\n",
       "       [-1.36187943, -1.47508922],\n",
       "       [ 1.48560705,  0.89970038],\n",
       "       [-0.27629162,  0.1209006 ],\n",
       "       [ 0.11873986,  0.40814245],\n",
       "       [-1.36187943, -1.47508922],\n",
       "       [-0.27629162,  0.26888583],\n",
       "       [-0.44677519, -0.03749559],\n",
       "       [ 1.12958897,  1.36634754],\n",
       "       [-1.93539178, -1.47508922],\n",
       "       [ 0.33874878,  0.72581897],\n",
       "       [-1.02077234, -0.71749486],\n",
       "       [-0.91683853, -0.97317433],\n",
       "       [-0.91683853, -0.71749486],\n",
       "       [-0.91683853, -0.71749486],\n",
       "       [ 1.1904517 ,  1.41407334],\n",
       "       [ 0.04281072,  0.40814245],\n",
       "       [-1.6242611 , -2.02223253],\n",
       "       [-0.27629162, -0.2085903 ],\n",
       "       [-0.62629143, -0.71749486],\n",
       "       [ 0.68342795, -0.03749559],\n",
       "       [ 1.3692931 ,  0.78500622],\n",
       "       [ 1.42772852,  0.72581897],\n",
       "       [ 0.54852367,  0.60337981],\n",
       "       [-0.36050053, -0.97317433],\n",
       "       [-0.03455335, -0.03749559],\n",
       "       [-0.19398811, -0.39562866],\n",
       "       [ 0.74953316,  0.89970038],\n",
       "       [-0.81672914, -0.60348074],\n",
       "       [-0.91683853, -0.60348074],\n",
       "       [-0.44677519, -0.60348074],\n",
       "       [ 1.31028198,  1.06349813],\n",
       "       [-0.03455335,  0.1209006 ],\n",
       "       [-0.11344983,  0.1209006 ],\n",
       "       [-1.7717242 , -1.70716059],\n",
       "       [ 1.12958897,  1.36634754],\n",
       "       [-0.72000082, -2.02223253],\n",
       "       [ 0.04281072, -0.49655514],\n",
       "       [ 0.68342795,  0.9553405 ],\n",
       "       [ 1.25067523,  1.31789249],\n",
       "       [-1.6242611 , -1.70716059],\n",
       "       [-1.48854554, -1.28449532],\n",
       "       [-0.53530047, -0.03749559],\n",
       "       [ 0.81479315,  1.11611808],\n",
       "       [ 0.26663401,  0.53994937],\n",
       "       [ 0.33874878,  0.53994937],\n",
       "       [ 0.26663401,  0.53994937],\n",
       "       [ 2.09000468,  1.89813923],\n",
       "       [ 0.54852367,  0.78500622],\n",
       "       [-1.93539178, -2.02223253],\n",
       "       [ 0.81479315,  1.00992197],\n",
       "       [-1.6242611 , -1.47508922],\n",
       "       [-0.81672914, -0.49655514],\n",
       "       [-0.91683853, -0.60348074],\n",
       "       [-1.7717242 , -1.70716059],\n",
       "       [ 1.00584876,  0.72581897],\n",
       "       [-0.03455335,  0.26888583],\n",
       "       [-0.36050053, -0.03749559],\n",
       "       [-0.27629162, -0.03749559],\n",
       "       [-0.91683853, -0.71749486],\n",
       "       [ 0.04281072,  0.26888583],\n",
       "       [-0.53530047, -0.60348074],\n",
       "       [-0.44677519, -0.39562866],\n",
       "       [-0.11344983, -0.29986145],\n",
       "       [-1.7717242 , -1.28449532],\n",
       "       [ 0.47963729,  0.84294347],\n",
       "       [ 0.54852367,  0.89970038],\n",
       "       [-1.6242611 , -1.11979784],\n",
       "       [ 0.47963729,  0.84294347],\n",
       "       [ 1.06806314,  0.78500622],\n",
       "       [-1.6242611 , -1.28449532],\n",
       "       [-0.53530047, -0.2085903 ],\n",
       "       [-1.6242611 , -1.11979784],\n",
       "       [ 0.04281072, -0.49655514],\n",
       "       [-0.72000082, -0.39562866],\n",
       "       [-1.6242611 , -2.02223253],\n",
       "       [ 0.04281072,  0.47490923],\n",
       "       [-0.72000082,  0.26888583],\n",
       "       [-2.12374282, -2.02223253],\n",
       "       [-1.36187943, -0.84005312],\n",
       "       [-0.44677519,  0.1209006 ],\n",
       "       [-1.93539178, -1.47508922],\n",
       "       [ 0.40973026,  0.33951754],\n",
       "       [ 0.11873986, -0.71749486],\n",
       "       [-1.7717242 , -1.28449532],\n",
       "       [-2.12374282, -2.02223253],\n",
       "       [ 0.04281072, -0.60348074],\n",
       "       [-0.36050053,  0.1209006 ],\n",
       "       [-0.19398811,  0.33951754],\n",
       "       [-1.12908354, -0.84005312],\n",
       "       [ 0.33874878,  0.26888583],\n",
       "       [-1.48854554, -0.97317433],\n",
       "       [-0.11344983,  0.33951754],\n",
       "       [ 1.12958897,  0.66530506],\n",
       "       [-0.03455335,  0.40814245],\n",
       "       [-0.27629162, -0.84005312],\n",
       "       [ 0.54852367,  0.72581897],\n",
       "       [-0.91683853, -0.71749486],\n",
       "       [-0.62629143, -0.49655514],\n",
       "       [ 0.47963729, -0.03749559],\n",
       "       [-1.7717242 , -1.28449532],\n",
       "       [-0.81672914, -0.29986145],\n",
       "       [-0.19398811, -0.97317433],\n",
       "       [-1.12908354, -0.60348074],\n",
       "       [ 0.40973026,  0.53994937],\n",
       "       [ 0.19332141,  0.60337981],\n",
       "       [ 0.87924385,  1.00992197],\n",
       "       [-0.62629143, -0.39562866],\n",
       "       [-0.19398811, -0.39562866],\n",
       "       [ 0.54852367,  0.89970038],\n",
       "       [ 0.33874878,  0.33951754],\n",
       "       [ 0.11873986, -0.49655514],\n",
       "       [ 1.48560705,  0.53994937],\n",
       "       [-0.11344983,  0.26888583],\n",
       "       [-0.11344983,  0.33951754],\n",
       "       [ 1.76723708,  2.05871693],\n",
       "       [-1.02077234, -0.71749486],\n",
       "       [-1.6242611 , -1.11979784],\n",
       "       [-1.6242611 , -1.11979784],\n",
       "       [ 0.94291868,  1.16782711],\n",
       "       [ 1.1904517 ,  0.53994937],\n",
       "       [-1.6242611 , -1.11979784],\n",
       "       [ 1.31028198,  1.50745235],\n",
       "       [ 0.54852367,  0.19607812],\n",
       "       [-0.27629162,  0.19607812],\n",
       "       [-0.11344983, -0.97317433],\n",
       "       [ 0.04281072, -1.47508922],\n",
       "       [ 1.00584876,  1.16782711],\n",
       "       [-0.19398811,  0.26888583],\n",
       "       [-1.24247753, -1.47508922],\n",
       "       [-0.03455335,  0.40814245],\n",
       "       [-1.6242611 , -1.28449532],\n",
       "       [ 1.25067523,  1.46109915],\n",
       "       [-0.44677519, -0.71749486],\n",
       "       [ 0.40973026,  0.33951754],\n",
       "       [-0.81672914, -1.70716059],\n",
       "       [-0.36050053, -0.29986145],\n",
       "       [-0.44677519, -0.29986145],\n",
       "       [ 0.61643875,  0.53994937],\n",
       "       [-0.53530047, -0.71749486],\n",
       "       [-0.62629143, -0.29986145],\n",
       "       [ 0.04281072,  0.47490923],\n",
       "       [ 0.19332141, -0.39562866],\n",
       "       [-0.62629143, -0.84005312],\n",
       "       [ 0.94291868,  0.40814245],\n",
       "       [ 1.1904517 ,  1.26867686],\n",
       "       [-0.03455335,  0.40814245],\n",
       "       [-1.7717242 , -1.70716059],\n",
       "       [-1.02077234, -0.71749486],\n",
       "       [-0.36050053, -0.29986145],\n",
       "       [ 1.25067523,  1.41407334],\n",
       "       [ 0.61643875,  0.84294347],\n",
       "       [ 0.40973026,  0.66530506],\n",
       "       [ 1.1904517 ,  0.33951754],\n",
       "       [ 1.06806314,  0.33951754],\n",
       "       [-1.12908354, -1.28449532],\n",
       "       [ 0.54852367,  0.19607812],\n",
       "       [ 0.33874878,  0.72581897],\n",
       "       [-1.24247753, -0.84005312],\n",
       "       [ 1.65607448,  1.50745235],\n",
       "       [-0.11344983, -0.84005312],\n",
       "       [-1.48854554, -1.28449532],\n",
       "       [ 0.74953316,  1.00992197],\n",
       "       [ 1.1904517 ,  1.36634754],\n",
       "       [ 0.19332141,  0.60337981],\n",
       "       [-0.11344983,  0.60337981],\n",
       "       [-0.27629162, -0.29986145],\n",
       "       [ 0.68342795,  0.60337981],\n",
       "       [ 0.04281072,  0.26888583],\n",
       "       [ 0.54852367,  0.60337981],\n",
       "       [ 0.61643875, -0.71749486],\n",
       "       [ 1.25067523,  1.46109915],\n",
       "       [-0.03455335, -0.60348074],\n",
       "       [ 0.74953316, -0.2085903 ],\n",
       "       [-1.6242611 , -1.47508922],\n",
       "       [ 0.54852367, -0.71749486],\n",
       "       [-0.72000082, -0.60348074],\n",
       "       [ 0.11873986,  0.53994937],\n",
       "       [ 0.68342795,  0.60337981],\n",
       "       [-1.02077234, -1.28449532],\n",
       "       [ 0.81479315,  1.00992197],\n",
       "       [ 1.3692931 ,  1.16782711],\n",
       "       [ 1.59976363,  1.72997607],\n",
       "       [ 0.74953316,  0.78500622],\n",
       "       [ 0.74953316,  1.06349813],\n",
       "       [ 1.12958897,  1.26867686],\n",
       "       [ 1.06806314,  1.00992197],\n",
       "       [ 1.48560705,  1.64272548],\n",
       "       [-0.53530047, -0.39562866],\n",
       "       [ 1.71189417,  1.68663008],\n",
       "       [-0.62629143, -0.71749486],\n",
       "       [ 1.42772852,  1.50745235],\n",
       "       [ 1.42772852,  0.26888583],\n",
       "       [-1.6242611 , -1.70716059],\n",
       "       [-1.12908354, -1.11979784],\n",
       "       [-1.12908354, -1.28449532],\n",
       "       [-0.72000082, -0.84005312],\n",
       "       [ 1.98410497,  1.85684746],\n",
       "       [ 0.74953316,  0.84294347],\n",
       "       [ 0.26663401,  0.26888583],\n",
       "       [ 1.65607448,  1.77278246],\n",
       "       [ 1.25067523,  1.41407334],\n",
       "       [ 1.12958897,  0.84294347],\n",
       "       [ 1.93053872,  1.97931794],\n",
       "       [ 1.59976363,  1.64272548],\n",
       "       [-1.12908354, -0.84005312],\n",
       "       [ 1.8221169 ,  1.89813923],\n",
       "       [ 0.54852367,  0.84294347],\n",
       "       [-1.93539178, -2.02223253],\n",
       "       [ 0.61643875,  0.84294347],\n",
       "       [-1.12908354, -0.97317433],\n",
       "       [ 0.87924385, -0.71749486],\n",
       "       [ 0.81479315,  0.89970038],\n",
       "       [ 1.25067523, -0.49655514],\n",
       "       [-0.81672914, -1.70716059],\n",
       "       [-0.11344983, -0.71749486],\n",
       "       [ 1.31028198,  1.31789249],\n",
       "       [-0.19398811,  0.26888583],\n",
       "       [-0.27629162, -0.29986145],\n",
       "       [ 1.8221169 ,  1.64272548],\n",
       "       [ 1.59976363,  1.46109915],\n",
       "       [ 1.25067523,  1.31789249],\n",
       "       [ 0.47963729,  0.1209006 ],\n",
       "       [ 0.54852367, -0.12128092],\n",
       "       [-0.53530047, -1.11979784],\n",
       "       [ 1.65607448,  1.68663008],\n",
       "       [ 0.87924385,  1.06349813],\n",
       "       [-1.24247753, -1.11979784],\n",
       "       [ 0.74953316,  0.89970038],\n",
       "       [-1.48854554, -2.02223253],\n",
       "       [ 0.11873986,  0.04312953],\n",
       "       [-0.03455335, -0.71749486],\n",
       "       [-0.53530047, -0.49655514],\n",
       "       [ 0.61643875,  0.33951754],\n",
       "       [ 1.00584876,  1.26867686],\n",
       "       [ 0.11873986, -0.84005312],\n",
       "       [-1.36187943, -1.28449532],\n",
       "       [-0.72000082, -0.49655514],\n",
       "       [ 1.65607448,  1.72997607],\n",
       "       [-0.36050053,  0.1209006 ],\n",
       "       [-0.36050053,  0.04312953],\n",
       "       [ 0.26663401,  0.60337981],\n",
       "       [-1.02077234, -0.49655514],\n",
       "       [-0.62629143, -0.29986145],\n",
       "       [ 0.26663401,  0.04312953],\n",
       "       [ 0.68342795,  1.06349813],\n",
       "       [-1.12908354, -1.11979784],\n",
       "       [ 0.19332141,  0.04312953],\n",
       "       [ 1.12958897,  1.36634754],\n",
       "       [-0.91683853, -0.39562866],\n",
       "       [ 0.19332141,  0.60337981],\n",
       "       [-0.03455335, -0.49655514],\n",
       "       [-0.19398811, -0.39562866],\n",
       "       [ 0.87924385,  0.33951754],\n",
       "       [-0.11344983, -0.84005312],\n",
       "       [ 1.06806314,  1.41407334],\n",
       "       [ 1.00584876,  0.60337981],\n",
       "       [-0.62629143, -0.2085903 ],\n",
       "       [ 0.81479315,  0.72581897],\n",
       "       [ 1.12958897,  0.04312953],\n",
       "       [-0.62629143, -0.29986145],\n",
       "       [-0.27629162,  0.19607812],\n",
       "       [ 1.1904517 ,  1.41407334],\n",
       "       [ 0.74953316,  1.06349813],\n",
       "       [ 0.81479315,  1.26867686],\n",
       "       [-0.44677519, -0.39562866],\n",
       "       [ 1.3692931 ,  0.84294347],\n",
       "       [ 1.25067523,  1.16782711],\n",
       "       [-1.6242611 , -1.28449532],\n",
       "       [ 0.47963729,  0.89970038],\n",
       "       [ 2.19433033,  1.89813923],\n",
       "       [ 1.1904517 ,  1.41407334],\n",
       "       [ 0.40973026,  0.84294347],\n",
       "       [ 0.11873986,  0.40814245],\n",
       "       [-1.12908354, -1.70716059],\n",
       "       [ 0.33874878,  0.47490923],\n",
       "       [ 1.8221169 ,  1.50745235],\n",
       "       [ 1.25067523,  1.26867686],\n",
       "       [ 0.54852367, -0.03749559],\n",
       "       [-0.81672914, -1.11979784],\n",
       "       [-0.53530047, -0.29986145],\n",
       "       [ 0.19332141,  0.04312953],\n",
       "       [ 0.68342795,  1.00992197],\n",
       "       [-0.03455335,  0.19607812],\n",
       "       [ 1.48560705,  1.50745235],\n",
       "       [-0.44677519, -0.39562866],\n",
       "       [-0.91683853, -1.70716059],\n",
       "       [ 1.00584876,  1.00992197],\n",
       "       [ 0.87924385,  1.06349813],\n",
       "       [-0.62629143, -0.60348074],\n",
       "       [ 0.19332141,  0.40814245],\n",
       "       [-0.72000082, -0.71749486],\n",
       "       [ 0.68342795,  0.78500622],\n",
       "       [ 0.47963729,  0.33951754],\n",
       "       [ 0.54852367,  0.78500622],\n",
       "       [-1.6242611 , -1.70716059],\n",
       "       [-1.36187943, -1.28449532],\n",
       "       [ 1.1904517 ,  1.41407334],\n",
       "       [-0.81672914, -0.60348074],\n",
       "       [-1.12908354, -1.28449532],\n",
       "       [ 0.47963729,  0.60337981],\n",
       "       [-1.12908354, -0.97317433],\n",
       "       [ 1.54294647,  1.68663008],\n",
       "       [ 0.47963729,  0.47490923],\n",
       "       [-0.44677519, -0.49655514],\n",
       "       [ 0.61643875,  0.84294347],\n",
       "       [ 0.61643875,  0.04312953],\n",
       "       [ 1.1904517 ,  1.31789249],\n",
       "       [ 0.87924385,  0.26888583],\n",
       "       [ 1.31028198,  0.33951754],\n",
       "       [ 0.68342795,  0.33951754],\n",
       "       [ 0.87924385,  1.00992197],\n",
       "       [ 0.74953316,  0.33951754],\n",
       "       [ 1.42772852,  0.72581897],\n",
       "       [ 0.33874878,  0.04312953],\n",
       "       [-1.12908354, -1.11979784]])"
      ]
     },
     "execution_count": 47,
     "metadata": {},
     "output_type": "execute_result"
    }
   ],
   "source": [
    "from sklearn.preprocessing import power_transform\n",
    "x=power_transform(x,method='yeo-johnson')\n",
    "x"
   ]
  },
  {
   "cell_type": "code",
   "execution_count": 48,
   "id": "212f2096",
   "metadata": {},
   "outputs": [
    {
     "data": {
      "text/plain": [
       "array([[-0.11344983,  0.26888583],\n",
       "       [-0.03455335,  0.1209006 ],\n",
       "       [-1.6242611 , -1.28449532],\n",
       "       [ 1.59976363,  1.46109915],\n",
       "       [ 1.31028198,  1.55315864],\n",
       "       [-1.36187943, -0.84005312],\n",
       "       [ 0.68342795,  0.60337981],\n",
       "       [ 1.59976363,  1.72997607],\n",
       "       [ 0.04281072,  0.40814245],\n",
       "       [-0.19398811,  0.26888583],\n",
       "       [-0.72000082, -0.60348074],\n",
       "       [-1.24247753, -1.47508922],\n",
       "       [-2.12374282, -1.70716059],\n",
       "       [-1.93539178, -2.02223253],\n",
       "       [-0.03455335,  0.26888583],\n",
       "       [-0.72000082, -1.28449532],\n",
       "       [-0.11344983,  0.40814245],\n",
       "       [ 1.1904517 ,  1.21866709],\n",
       "       [ 1.12958897,  0.60337981],\n",
       "       [ 1.25067523,  1.31789249],\n",
       "       [ 0.74953316,  0.78500622],\n",
       "       [ 1.06806314,  1.06349813],\n",
       "       [ 0.94291868,  1.00992197],\n",
       "       [ 0.26663401,  0.33951754],\n",
       "       [-0.62629143, -0.60348074],\n",
       "       [ 0.04281072, -0.60348074],\n",
       "       [ 1.00584876,  0.60337981],\n",
       "       [-1.48854554, -1.28449532],\n",
       "       [-0.81672914, -2.02223253],\n",
       "       [-0.72000082, -0.60348074],\n",
       "       [-0.03455335, -1.11979784],\n",
       "       [-1.24247753, -1.47508922],\n",
       "       [-0.62629143, -0.49655514],\n",
       "       [-1.6242611 , -1.47508922],\n",
       "       [-1.6242611 , -1.47508922],\n",
       "       [-1.48854554, -2.02223253],\n",
       "       [ 0.11873986,  0.47490923],\n",
       "       [-1.24247753, -1.11979784],\n",
       "       [ 1.3692931 ,  1.06349813],\n",
       "       [-1.02077234, -0.49655514],\n",
       "       [ 0.19332141, -1.47508922],\n",
       "       [ 0.19332141,  0.60337981],\n",
       "       [ 1.31028198,  0.84294347],\n",
       "       [-0.11344983,  0.33951754],\n",
       "       [ 0.33874878,  0.04312953],\n",
       "       [ 1.31028198,  0.89970038],\n",
       "       [ 0.19332141,  0.33951754],\n",
       "       [ 0.33874878,  0.72581897],\n",
       "       [-2.12374282, -1.70716059],\n",
       "       [ 0.54852367,  0.89970038],\n",
       "       [-0.72000082, -0.29986145],\n",
       "       [-0.81672914, -1.28449532],\n",
       "       [-0.36050053, -0.49655514],\n",
       "       [-0.72000082, -0.29986145],\n",
       "       [-0.53530047, -0.97317433],\n",
       "       [ 0.19332141,  0.47490923],\n",
       "       [-1.02077234, -0.60348074],\n",
       "       [-0.91683853, -0.49655514],\n",
       "       [-1.12908354, -1.28449532],\n",
       "       [-1.02077234, -0.60348074],\n",
       "       [-1.7717242 , -1.47508922],\n",
       "       [ 0.87924385,  1.06349813],\n",
       "       [-0.81672914, -0.29986145],\n",
       "       [-1.6242611 , -1.28449532],\n",
       "       [-1.02077234, -0.60348074],\n",
       "       [ 0.11873986, -0.2085903 ],\n",
       "       [ 1.00584876,  1.06349813],\n",
       "       [-0.27629162,  0.19607812],\n",
       "       [ 0.54852367,  1.31789249],\n",
       "       [-0.27629162, -1.47508922],\n",
       "       [ 1.59976363,  1.72997607],\n",
       "       [ 0.61643875,  0.33951754],\n",
       "       [ 1.00584876,  1.21866709],\n",
       "       [ 0.54852367,  0.60337981],\n",
       "       [-1.12908354, -1.28449532],\n",
       "       [-0.27629162, -1.28449532],\n",
       "       [ 0.40973026,  0.33951754],\n",
       "       [-1.7717242 , -1.70716059],\n",
       "       [-1.36187943, -1.47508922],\n",
       "       [ 1.48560705,  0.89970038],\n",
       "       [-0.27629162,  0.1209006 ],\n",
       "       [ 0.11873986,  0.40814245],\n",
       "       [-1.36187943, -1.47508922],\n",
       "       [-0.27629162,  0.26888583],\n",
       "       [-0.44677519, -0.03749559],\n",
       "       [ 1.12958897,  1.36634754],\n",
       "       [-1.93539178, -1.47508922],\n",
       "       [ 0.33874878,  0.72581897],\n",
       "       [-1.02077234, -0.71749486],\n",
       "       [-0.91683853, -0.97317433],\n",
       "       [-0.91683853, -0.71749486],\n",
       "       [-0.91683853, -0.71749486],\n",
       "       [ 1.1904517 ,  1.41407334],\n",
       "       [ 0.04281072,  0.40814245],\n",
       "       [-1.6242611 , -2.02223253],\n",
       "       [-0.27629162, -0.2085903 ],\n",
       "       [-0.62629143, -0.71749486],\n",
       "       [ 0.68342795, -0.03749559],\n",
       "       [ 1.3692931 ,  0.78500622],\n",
       "       [ 1.42772852,  0.72581897],\n",
       "       [ 0.54852367,  0.60337981],\n",
       "       [-0.36050053, -0.97317433],\n",
       "       [-0.03455335, -0.03749559],\n",
       "       [-0.19398811, -0.39562866],\n",
       "       [ 0.74953316,  0.89970038],\n",
       "       [-0.81672914, -0.60348074],\n",
       "       [-0.91683853, -0.60348074],\n",
       "       [-0.44677519, -0.60348074],\n",
       "       [ 1.31028198,  1.06349813],\n",
       "       [-0.03455335,  0.1209006 ],\n",
       "       [-0.11344983,  0.1209006 ],\n",
       "       [-1.7717242 , -1.70716059],\n",
       "       [ 1.12958897,  1.36634754],\n",
       "       [-0.72000082, -2.02223253],\n",
       "       [ 0.04281072, -0.49655514],\n",
       "       [ 0.68342795,  0.9553405 ],\n",
       "       [ 1.25067523,  1.31789249],\n",
       "       [-1.6242611 , -1.70716059],\n",
       "       [-1.48854554, -1.28449532],\n",
       "       [-0.53530047, -0.03749559],\n",
       "       [ 0.81479315,  1.11611808],\n",
       "       [ 0.26663401,  0.53994937],\n",
       "       [ 0.33874878,  0.53994937],\n",
       "       [ 0.26663401,  0.53994937],\n",
       "       [ 2.09000468,  1.89813923],\n",
       "       [ 0.54852367,  0.78500622],\n",
       "       [-1.93539178, -2.02223253],\n",
       "       [ 0.81479315,  1.00992197],\n",
       "       [-1.6242611 , -1.47508922],\n",
       "       [-0.81672914, -0.49655514],\n",
       "       [-0.91683853, -0.60348074],\n",
       "       [-1.7717242 , -1.70716059],\n",
       "       [ 1.00584876,  0.72581897],\n",
       "       [-0.03455335,  0.26888583],\n",
       "       [-0.36050053, -0.03749559],\n",
       "       [-0.27629162, -0.03749559],\n",
       "       [-0.91683853, -0.71749486],\n",
       "       [ 0.04281072,  0.26888583],\n",
       "       [-0.53530047, -0.60348074],\n",
       "       [-0.44677519, -0.39562866],\n",
       "       [-0.11344983, -0.29986145],\n",
       "       [-1.7717242 , -1.28449532],\n",
       "       [ 0.47963729,  0.84294347],\n",
       "       [ 0.54852367,  0.89970038],\n",
       "       [-1.6242611 , -1.11979784],\n",
       "       [ 0.47963729,  0.84294347],\n",
       "       [ 1.06806314,  0.78500622],\n",
       "       [-1.6242611 , -1.28449532],\n",
       "       [-0.53530047, -0.2085903 ],\n",
       "       [-1.6242611 , -1.11979784],\n",
       "       [ 0.04281072, -0.49655514],\n",
       "       [-0.72000082, -0.39562866],\n",
       "       [-1.6242611 , -2.02223253],\n",
       "       [ 0.04281072,  0.47490923],\n",
       "       [-0.72000082,  0.26888583],\n",
       "       [-2.12374282, -2.02223253],\n",
       "       [-1.36187943, -0.84005312],\n",
       "       [-0.44677519,  0.1209006 ],\n",
       "       [-1.93539178, -1.47508922],\n",
       "       [ 0.40973026,  0.33951754],\n",
       "       [ 0.11873986, -0.71749486],\n",
       "       [-1.7717242 , -1.28449532],\n",
       "       [-2.12374282, -2.02223253],\n",
       "       [ 0.04281072, -0.60348074],\n",
       "       [-0.36050053,  0.1209006 ],\n",
       "       [-0.19398811,  0.33951754],\n",
       "       [-1.12908354, -0.84005312],\n",
       "       [ 0.33874878,  0.26888583],\n",
       "       [-1.48854554, -0.97317433],\n",
       "       [-0.11344983,  0.33951754],\n",
       "       [ 1.12958897,  0.66530506],\n",
       "       [-0.03455335,  0.40814245],\n",
       "       [-0.27629162, -0.84005312],\n",
       "       [ 0.54852367,  0.72581897],\n",
       "       [-0.91683853, -0.71749486],\n",
       "       [-0.62629143, -0.49655514],\n",
       "       [ 0.47963729, -0.03749559],\n",
       "       [-1.7717242 , -1.28449532],\n",
       "       [-0.81672914, -0.29986145],\n",
       "       [-0.19398811, -0.97317433],\n",
       "       [-1.12908354, -0.60348074],\n",
       "       [ 0.40973026,  0.53994937],\n",
       "       [ 0.19332141,  0.60337981],\n",
       "       [ 0.87924385,  1.00992197],\n",
       "       [-0.62629143, -0.39562866],\n",
       "       [-0.19398811, -0.39562866],\n",
       "       [ 0.54852367,  0.89970038],\n",
       "       [ 0.33874878,  0.33951754],\n",
       "       [ 0.11873986, -0.49655514],\n",
       "       [ 1.48560705,  0.53994937],\n",
       "       [-0.11344983,  0.26888583],\n",
       "       [-0.11344983,  0.33951754],\n",
       "       [ 1.76723708,  2.05871693],\n",
       "       [-1.02077234, -0.71749486],\n",
       "       [-1.6242611 , -1.11979784],\n",
       "       [-1.6242611 , -1.11979784],\n",
       "       [ 0.94291868,  1.16782711],\n",
       "       [ 1.1904517 ,  0.53994937],\n",
       "       [-1.6242611 , -1.11979784],\n",
       "       [ 1.31028198,  1.50745235],\n",
       "       [ 0.54852367,  0.19607812],\n",
       "       [-0.27629162,  0.19607812],\n",
       "       [-0.11344983, -0.97317433],\n",
       "       [ 0.04281072, -1.47508922],\n",
       "       [ 1.00584876,  1.16782711],\n",
       "       [-0.19398811,  0.26888583],\n",
       "       [-1.24247753, -1.47508922],\n",
       "       [-0.03455335,  0.40814245],\n",
       "       [-1.6242611 , -1.28449532],\n",
       "       [ 1.25067523,  1.46109915],\n",
       "       [-0.44677519, -0.71749486],\n",
       "       [ 0.40973026,  0.33951754],\n",
       "       [-0.81672914, -1.70716059],\n",
       "       [-0.36050053, -0.29986145],\n",
       "       [-0.44677519, -0.29986145],\n",
       "       [ 0.61643875,  0.53994937],\n",
       "       [-0.53530047, -0.71749486],\n",
       "       [-0.62629143, -0.29986145],\n",
       "       [ 0.04281072,  0.47490923],\n",
       "       [ 0.19332141, -0.39562866],\n",
       "       [-0.62629143, -0.84005312],\n",
       "       [ 0.94291868,  0.40814245],\n",
       "       [ 1.1904517 ,  1.26867686],\n",
       "       [-0.03455335,  0.40814245],\n",
       "       [-1.7717242 , -1.70716059],\n",
       "       [-1.02077234, -0.71749486],\n",
       "       [-0.36050053, -0.29986145],\n",
       "       [ 1.25067523,  1.41407334],\n",
       "       [ 0.61643875,  0.84294347],\n",
       "       [ 0.40973026,  0.66530506],\n",
       "       [ 1.1904517 ,  0.33951754],\n",
       "       [ 1.06806314,  0.33951754],\n",
       "       [-1.12908354, -1.28449532],\n",
       "       [ 0.54852367,  0.19607812],\n",
       "       [ 0.33874878,  0.72581897],\n",
       "       [-1.24247753, -0.84005312],\n",
       "       [ 1.65607448,  1.50745235],\n",
       "       [-0.11344983, -0.84005312],\n",
       "       [-1.48854554, -1.28449532],\n",
       "       [ 0.74953316,  1.00992197],\n",
       "       [ 1.1904517 ,  1.36634754],\n",
       "       [ 0.19332141,  0.60337981],\n",
       "       [-0.11344983,  0.60337981],\n",
       "       [-0.27629162, -0.29986145],\n",
       "       [ 0.68342795,  0.60337981],\n",
       "       [ 0.04281072,  0.26888583],\n",
       "       [ 0.54852367,  0.60337981],\n",
       "       [ 0.61643875, -0.71749486],\n",
       "       [ 1.25067523,  1.46109915],\n",
       "       [-0.03455335, -0.60348074],\n",
       "       [ 0.74953316, -0.2085903 ],\n",
       "       [-1.6242611 , -1.47508922],\n",
       "       [ 0.54852367, -0.71749486],\n",
       "       [-0.72000082, -0.60348074],\n",
       "       [ 0.11873986,  0.53994937],\n",
       "       [ 0.68342795,  0.60337981],\n",
       "       [-1.02077234, -1.28449532],\n",
       "       [ 0.81479315,  1.00992197],\n",
       "       [ 1.3692931 ,  1.16782711],\n",
       "       [ 1.59976363,  1.72997607],\n",
       "       [ 0.74953316,  0.78500622],\n",
       "       [ 0.74953316,  1.06349813],\n",
       "       [ 1.12958897,  1.26867686],\n",
       "       [ 1.06806314,  1.00992197],\n",
       "       [ 1.48560705,  1.64272548],\n",
       "       [-0.53530047, -0.39562866],\n",
       "       [ 1.71189417,  1.68663008],\n",
       "       [-0.62629143, -0.71749486],\n",
       "       [ 1.42772852,  1.50745235],\n",
       "       [ 1.42772852,  0.26888583],\n",
       "       [-1.6242611 , -1.70716059],\n",
       "       [-1.12908354, -1.11979784],\n",
       "       [-1.12908354, -1.28449532],\n",
       "       [-0.72000082, -0.84005312],\n",
       "       [ 1.98410497,  1.85684746],\n",
       "       [ 0.74953316,  0.84294347],\n",
       "       [ 0.26663401,  0.26888583],\n",
       "       [ 1.65607448,  1.77278246],\n",
       "       [ 1.25067523,  1.41407334],\n",
       "       [ 1.12958897,  0.84294347],\n",
       "       [ 1.93053872,  1.97931794],\n",
       "       [ 1.59976363,  1.64272548],\n",
       "       [-1.12908354, -0.84005312],\n",
       "       [ 1.8221169 ,  1.89813923],\n",
       "       [ 0.54852367,  0.84294347],\n",
       "       [-1.93539178, -2.02223253],\n",
       "       [ 0.61643875,  0.84294347],\n",
       "       [-1.12908354, -0.97317433],\n",
       "       [ 0.87924385, -0.71749486],\n",
       "       [ 0.81479315,  0.89970038],\n",
       "       [ 1.25067523, -0.49655514],\n",
       "       [-0.81672914, -1.70716059],\n",
       "       [-0.11344983, -0.71749486],\n",
       "       [ 1.31028198,  1.31789249],\n",
       "       [-0.19398811,  0.26888583],\n",
       "       [-0.27629162, -0.29986145],\n",
       "       [ 1.8221169 ,  1.64272548],\n",
       "       [ 1.59976363,  1.46109915],\n",
       "       [ 1.25067523,  1.31789249],\n",
       "       [ 0.47963729,  0.1209006 ],\n",
       "       [ 0.54852367, -0.12128092],\n",
       "       [-0.53530047, -1.11979784],\n",
       "       [ 1.65607448,  1.68663008],\n",
       "       [ 0.87924385,  1.06349813],\n",
       "       [-1.24247753, -1.11979784],\n",
       "       [ 0.74953316,  0.89970038],\n",
       "       [-1.48854554, -2.02223253],\n",
       "       [ 0.11873986,  0.04312953],\n",
       "       [-0.03455335, -0.71749486],\n",
       "       [-0.53530047, -0.49655514],\n",
       "       [ 0.61643875,  0.33951754],\n",
       "       [ 1.00584876,  1.26867686],\n",
       "       [ 0.11873986, -0.84005312],\n",
       "       [-1.36187943, -1.28449532],\n",
       "       [-0.72000082, -0.49655514],\n",
       "       [ 1.65607448,  1.72997607],\n",
       "       [-0.36050053,  0.1209006 ],\n",
       "       [-0.36050053,  0.04312953],\n",
       "       [ 0.26663401,  0.60337981],\n",
       "       [-1.02077234, -0.49655514],\n",
       "       [-0.62629143, -0.29986145],\n",
       "       [ 0.26663401,  0.04312953],\n",
       "       [ 0.68342795,  1.06349813],\n",
       "       [-1.12908354, -1.11979784],\n",
       "       [ 0.19332141,  0.04312953],\n",
       "       [ 1.12958897,  1.36634754],\n",
       "       [-0.91683853, -0.39562866],\n",
       "       [ 0.19332141,  0.60337981],\n",
       "       [-0.03455335, -0.49655514],\n",
       "       [-0.19398811, -0.39562866],\n",
       "       [ 0.87924385,  0.33951754],\n",
       "       [-0.11344983, -0.84005312],\n",
       "       [ 1.06806314,  1.41407334],\n",
       "       [ 1.00584876,  0.60337981],\n",
       "       [-0.62629143, -0.2085903 ],\n",
       "       [ 0.81479315,  0.72581897],\n",
       "       [ 1.12958897,  0.04312953],\n",
       "       [-0.62629143, -0.29986145],\n",
       "       [-0.27629162,  0.19607812],\n",
       "       [ 1.1904517 ,  1.41407334],\n",
       "       [ 0.74953316,  1.06349813],\n",
       "       [ 0.81479315,  1.26867686],\n",
       "       [-0.44677519, -0.39562866],\n",
       "       [ 1.3692931 ,  0.84294347],\n",
       "       [ 1.25067523,  1.16782711],\n",
       "       [-1.6242611 , -1.28449532],\n",
       "       [ 0.47963729,  0.89970038],\n",
       "       [ 2.19433033,  1.89813923],\n",
       "       [ 1.1904517 ,  1.41407334],\n",
       "       [ 0.40973026,  0.84294347],\n",
       "       [ 0.11873986,  0.40814245],\n",
       "       [-1.12908354, -1.70716059],\n",
       "       [ 0.33874878,  0.47490923],\n",
       "       [ 1.8221169 ,  1.50745235],\n",
       "       [ 1.25067523,  1.26867686],\n",
       "       [ 0.54852367, -0.03749559],\n",
       "       [-0.81672914, -1.11979784],\n",
       "       [-0.53530047, -0.29986145],\n",
       "       [ 0.19332141,  0.04312953],\n",
       "       [ 0.68342795,  1.00992197],\n",
       "       [-0.03455335,  0.19607812],\n",
       "       [ 1.48560705,  1.50745235],\n",
       "       [-0.44677519, -0.39562866],\n",
       "       [-0.91683853, -1.70716059],\n",
       "       [ 1.00584876,  1.00992197],\n",
       "       [ 0.87924385,  1.06349813],\n",
       "       [-0.62629143, -0.60348074],\n",
       "       [ 0.19332141,  0.40814245],\n",
       "       [-0.72000082, -0.71749486],\n",
       "       [ 0.68342795,  0.78500622],\n",
       "       [ 0.47963729,  0.33951754],\n",
       "       [ 0.54852367,  0.78500622],\n",
       "       [-1.6242611 , -1.70716059],\n",
       "       [-1.36187943, -1.28449532],\n",
       "       [ 1.1904517 ,  1.41407334],\n",
       "       [-0.81672914, -0.60348074],\n",
       "       [-1.12908354, -1.28449532],\n",
       "       [ 0.47963729,  0.60337981],\n",
       "       [-1.12908354, -0.97317433],\n",
       "       [ 1.54294647,  1.68663008],\n",
       "       [ 0.47963729,  0.47490923],\n",
       "       [-0.44677519, -0.49655514],\n",
       "       [ 0.61643875,  0.84294347],\n",
       "       [ 0.61643875,  0.04312953],\n",
       "       [ 1.1904517 ,  1.31789249],\n",
       "       [ 0.87924385,  0.26888583],\n",
       "       [ 1.31028198,  0.33951754],\n",
       "       [ 0.68342795,  0.33951754],\n",
       "       [ 0.87924385,  1.00992197],\n",
       "       [ 0.74953316,  0.33951754],\n",
       "       [ 1.42772852,  0.72581897],\n",
       "       [ 0.33874878,  0.04312953],\n",
       "       [-1.12908354, -1.11979784]])"
      ]
     },
     "execution_count": 48,
     "metadata": {},
     "output_type": "execute_result"
    }
   ],
   "source": [
    "from sklearn.preprocessing import StandardScaler\n",
    "sc=StandardScaler()\n",
    "x=sc.fit_transform(x)\n",
    "x"
   ]
  },
  {
   "cell_type": "code",
   "execution_count": 49,
   "id": "e01af55e",
   "metadata": {},
   "outputs": [],
   "source": [
    "from sklearn.linear_model import LinearRegression\n",
    "from sklearn.metrics import mean_squared_error,mean_absolute_error,r2_score\n",
    "from sklearn.model_selection import train_test_split"
   ]
  },
  {
   "cell_type": "code",
   "execution_count": 50,
   "id": "af059fe7",
   "metadata": {},
   "outputs": [
    {
     "name": "stdout",
     "output_type": "stream",
     "text": [
      "At random state 176 The model performs very well\n",
      "At random state 176\n",
      "Training r2_score is: 20.966050070785634\n",
      "Testing r2_score is: 21.03925080204868\n",
      "At random state 316 The model performs very well\n",
      "At random state 316\n",
      "Training r2_score is: 21.271411294883325\n",
      "Testing r2_score is: 21.313198797435184\n",
      "At random state 317 The model performs very well\n",
      "At random state 317\n",
      "Training r2_score is: 20.8548980747718\n",
      "Testing r2_score is: 20.86017997453008\n",
      "At random state 984 The model performs very well\n",
      "At random state 984\n",
      "Training r2_score is: 21.06354325122213\n",
      "Testing r2_score is: 21.143375851198353\n"
     ]
    }
   ],
   "source": [
    "lr=LinearRegression()\n",
    "for i in range(0,1000):\n",
    "    x_train,x_test,y_train,y_test=train_test_split(x,y,random_state=i,test_size=0.20)\n",
    "    lr.fit(x_train,y_train)\n",
    "    pred_train=lr.predict(x_train)\n",
    "    pred_test=lr.predict(x_test)\n",
    "    if round(r2_score(y_train,pred_train)*100,1)==round(r2_score(y_test,pred_test)*100,1):\n",
    "        print(\"At random state\",i,\"The model performs very well\")\n",
    "        print(\"At random state\",i)\n",
    "        print(\"Training r2_score is:\",r2_score(y_train,pred_train)*100)\n",
    "        print(\"Testing r2_score is:\",r2_score(y_test,pred_test)*100)"
   ]
  },
  {
   "cell_type": "code",
   "execution_count": 51,
   "id": "ecc9af3d",
   "metadata": {},
   "outputs": [],
   "source": [
    "x_train,x_test,y_train,y_test=train_test_split(x,y,test_size=0.20,random_state=106)"
   ]
  },
  {
   "cell_type": "markdown",
   "id": "c259c812",
   "metadata": {},
   "source": [
    "# Cross validation score for linear regression:"
   ]
  },
  {
   "cell_type": "code",
   "execution_count": 52,
   "id": "252d6716",
   "metadata": {},
   "outputs": [
    {
     "name": "stdout",
     "output_type": "stream",
     "text": [
      "At cv: 2\n",
      "cross validation score:  17.54910966641251\n",
      "r2_score:  19.40189975236025\n",
      "\n",
      "\n",
      "At cv: 3\n",
      "cross validation score:  18.962452375457207\n",
      "r2_score:  19.40189975236025\n",
      "\n",
      "\n",
      "At cv: 4\n",
      "cross validation score:  19.03757152136178\n",
      "r2_score:  19.40189975236025\n",
      "\n",
      "\n",
      "At cv: 5\n",
      "cross validation score:  16.95702140698651\n",
      "r2_score:  19.40189975236025\n",
      "\n",
      "\n",
      "At cv: 6\n",
      "cross validation score:  18.199940538873136\n",
      "r2_score:  19.40189975236025\n",
      "\n",
      "\n",
      "At cv: 7\n",
      "cross validation score:  15.69237767062653\n",
      "r2_score:  19.40189975236025\n",
      "\n",
      "\n",
      "At cv: 8\n",
      "cross validation score:  18.13844636229376\n",
      "r2_score:  19.40189975236025\n",
      "\n",
      "\n",
      "At cv: 9\n",
      "cross validation score:  12.873730666944283\n",
      "r2_score:  19.40189975236025\n",
      "\n",
      "\n"
     ]
    }
   ],
   "source": [
    "pred_lr=lr.predict(x_test)\n",
    "from sklearn.model_selection import cross_val_score\n",
    "lss = r2_score(y_test,pred_lr)\n",
    "for j in range(2,10):\n",
    "    lsscore =cross_val_score(lr,x,y,cv=j)\n",
    "    lsc = lsscore.mean()\n",
    "    print(\"At cv:\",j)\n",
    "    print(\"cross validation score: \",lsc*100)\n",
    "    print(\"r2_score: \",lss*100)\n",
    "    print(\"\\n\")"
   ]
  },
  {
   "cell_type": "code",
   "execution_count": 53,
   "id": "3ce3fd13",
   "metadata": {},
   "outputs": [
    {
     "name": "stdout",
     "output_type": "stream",
     "text": [
      "The cv score is:  0.1903757152136178 \n",
      "The accuracy score is: 0.19401899752360252\n"
     ]
    }
   ],
   "source": [
    "lsscore_selected=cross_val_score(lr,x,y,cv=4).mean()\n",
    "print(\"The cv score is: \",lsscore_selected,\"\\nThe accuracy score is:\",lss)"
   ]
  },
  {
   "cell_type": "markdown",
   "id": "73fee474",
   "metadata": {},
   "source": [
    "# Model Saving:"
   ]
  },
  {
   "cell_type": "code",
   "execution_count": null,
   "id": "65abeb00",
   "metadata": {},
   "outputs": [],
   "source": [
    "import pickle\n",
    "filename= 'salary_model.pkl'\n",
    "pickle.dump(lr,open(filename,'wb'))"
   ]
  },
  {
   "cell_type": "code",
   "execution_count": null,
   "id": "2ca7418a",
   "metadata": {},
   "outputs": [],
   "source": []
  }
 ],
 "metadata": {
  "kernelspec": {
   "display_name": "Python 3 (ipykernel)",
   "language": "python",
   "name": "python3"
  },
  "language_info": {
   "codemirror_mode": {
    "name": "ipython",
    "version": 3
   },
   "file_extension": ".py",
   "mimetype": "text/x-python",
   "name": "python",
   "nbconvert_exporter": "python",
   "pygments_lexer": "ipython3",
   "version": "3.9.7"
  }
 },
 "nbformat": 4,
 "nbformat_minor": 5
}
