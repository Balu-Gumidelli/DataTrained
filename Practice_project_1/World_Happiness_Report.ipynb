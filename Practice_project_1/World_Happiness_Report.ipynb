{
 "cells": [
  {
   "cell_type": "markdown",
   "id": "fd4a44b7",
   "metadata": {},
   "source": [
    "Problem Statement:\n",
    "\n",
    "Context\n",
    "\n",
    "The World Happiness Report is a landmark survey of the state of global happiness. The first report was published in 2012, the second in 2013, the third in 2015, and the fourth in the 2016 Update. The World Happiness 2017, which ranks 155 countries by their happiness levels, was released at the United Nations at an event celebrating International Day of Happiness on March 20th. The report continues to gain global recognition as governments, organizations and civil society increasingly use happiness indicators to inform their policy-making decisions. Leading experts across fields – economics, psychology, survey analysis, national statistics, health, public policy and more – describe how measurements of well-being can be used effectively to assess the progress of nations. The reports review the state of happiness in the world today and show how the new science of happiness explains personal and national variations in happiness."
   ]
  },
  {
   "cell_type": "markdown",
   "id": "15dfd563",
   "metadata": {},
   "source": [
    "What is Dystopia?\n",
    "\n",
    "Dystopia is an imaginary country that has the world’s least-happy people. The purpose in establishing Dystopia is to have a benchmark against which all countries can be favorably compared (no country performs more poorly than Dystopia) in terms of each of the six key variables, thus allowing each sub-bar to be of positive width. The lowest scores observed for the six key variables, therefore, characterize Dystopia. Since life would be very unpleasant in a country with the world’s lowest incomes, lowest life expectancy, lowest generosity, most corruption, least freedom and least social support, it is referred to as “Dystopia,” in contrast to Utopia."
   ]
  },
  {
   "cell_type": "markdown",
   "id": "117ecace",
   "metadata": {},
   "source": [
    "What are the residuals?\n",
    "\n",
    "The residuals, or unexplained components, differ for each country, reflecting the extent to which the six variables either over- or under-explain average life evaluations. These residuals have an average value of approximately zero over the whole set of countries. "
   ]
  },
  {
   "cell_type": "markdown",
   "id": "6439e47d",
   "metadata": {},
   "source": [
    "What do the columns succeeding the Happiness Score(like Family, Generosity, etc.) describe?"
   ]
  },
  {
   "cell_type": "markdown",
   "id": "a2ae1079",
   "metadata": {},
   "source": [
    "The following columns: GDP per Capita, Family, Life Expectancy, Freedom, Generosity, Trust Government Corruption describe the extent to which these factors contribute in evaluating the happiness in each country.\n",
    "The Dystopia Residual metric actually is the Dystopia Happiness Score(1.85) + the Residual value or the unexplained value for each country.\n",
    "\n",
    "The Dystopia Residual is already provided in the dataset. \n",
    "\n",
    "If you add all these factors up, you get the happiness score so it might be un-reliable to model them to predict Happiness Scores.\n",
    "\n",
    "You need to predict the happiness score considering all the other factors mentioned in the dataset. "
   ]
  },
  {
   "cell_type": "code",
   "execution_count": 57,
   "id": "dfca3495",
   "metadata": {},
   "outputs": [],
   "source": [
    "import pandas as pd\n",
    "import numpy as np\n",
    "import warnings\n",
    "warnings.filterwarnings('ignore')"
   ]
  },
  {
   "cell_type": "code",
   "execution_count": 2,
   "id": "8b9ba1fa",
   "metadata": {},
   "outputs": [
    {
     "data": {
      "text/html": [
       "<div>\n",
       "<style scoped>\n",
       "    .dataframe tbody tr th:only-of-type {\n",
       "        vertical-align: middle;\n",
       "    }\n",
       "\n",
       "    .dataframe tbody tr th {\n",
       "        vertical-align: top;\n",
       "    }\n",
       "\n",
       "    .dataframe thead th {\n",
       "        text-align: right;\n",
       "    }\n",
       "</style>\n",
       "<table border=\"1\" class=\"dataframe\">\n",
       "  <thead>\n",
       "    <tr style=\"text-align: right;\">\n",
       "      <th></th>\n",
       "      <th>Country</th>\n",
       "      <th>Region</th>\n",
       "      <th>Happiness Rank</th>\n",
       "      <th>Happiness Score</th>\n",
       "      <th>Standard Error</th>\n",
       "      <th>Economy (GDP per Capita)</th>\n",
       "      <th>Family</th>\n",
       "      <th>Health (Life Expectancy)</th>\n",
       "      <th>Freedom</th>\n",
       "      <th>Trust (Government Corruption)</th>\n",
       "      <th>Generosity</th>\n",
       "      <th>Dystopia Residual</th>\n",
       "    </tr>\n",
       "  </thead>\n",
       "  <tbody>\n",
       "    <tr>\n",
       "      <th>0</th>\n",
       "      <td>Switzerland</td>\n",
       "      <td>Western Europe</td>\n",
       "      <td>1</td>\n",
       "      <td>7.587</td>\n",
       "      <td>0.03411</td>\n",
       "      <td>1.39651</td>\n",
       "      <td>1.34951</td>\n",
       "      <td>0.94143</td>\n",
       "      <td>0.66557</td>\n",
       "      <td>0.41978</td>\n",
       "      <td>0.29678</td>\n",
       "      <td>2.51738</td>\n",
       "    </tr>\n",
       "    <tr>\n",
       "      <th>1</th>\n",
       "      <td>Iceland</td>\n",
       "      <td>Western Europe</td>\n",
       "      <td>2</td>\n",
       "      <td>7.561</td>\n",
       "      <td>0.04884</td>\n",
       "      <td>1.30232</td>\n",
       "      <td>1.40223</td>\n",
       "      <td>0.94784</td>\n",
       "      <td>0.62877</td>\n",
       "      <td>0.14145</td>\n",
       "      <td>0.43630</td>\n",
       "      <td>2.70201</td>\n",
       "    </tr>\n",
       "    <tr>\n",
       "      <th>2</th>\n",
       "      <td>Denmark</td>\n",
       "      <td>Western Europe</td>\n",
       "      <td>3</td>\n",
       "      <td>7.527</td>\n",
       "      <td>0.03328</td>\n",
       "      <td>1.32548</td>\n",
       "      <td>1.36058</td>\n",
       "      <td>0.87464</td>\n",
       "      <td>0.64938</td>\n",
       "      <td>0.48357</td>\n",
       "      <td>0.34139</td>\n",
       "      <td>2.49204</td>\n",
       "    </tr>\n",
       "    <tr>\n",
       "      <th>3</th>\n",
       "      <td>Norway</td>\n",
       "      <td>Western Europe</td>\n",
       "      <td>4</td>\n",
       "      <td>7.522</td>\n",
       "      <td>0.03880</td>\n",
       "      <td>1.45900</td>\n",
       "      <td>1.33095</td>\n",
       "      <td>0.88521</td>\n",
       "      <td>0.66973</td>\n",
       "      <td>0.36503</td>\n",
       "      <td>0.34699</td>\n",
       "      <td>2.46531</td>\n",
       "    </tr>\n",
       "    <tr>\n",
       "      <th>4</th>\n",
       "      <td>Canada</td>\n",
       "      <td>North America</td>\n",
       "      <td>5</td>\n",
       "      <td>7.427</td>\n",
       "      <td>0.03553</td>\n",
       "      <td>1.32629</td>\n",
       "      <td>1.32261</td>\n",
       "      <td>0.90563</td>\n",
       "      <td>0.63297</td>\n",
       "      <td>0.32957</td>\n",
       "      <td>0.45811</td>\n",
       "      <td>2.45176</td>\n",
       "    </tr>\n",
       "    <tr>\n",
       "      <th>...</th>\n",
       "      <td>...</td>\n",
       "      <td>...</td>\n",
       "      <td>...</td>\n",
       "      <td>...</td>\n",
       "      <td>...</td>\n",
       "      <td>...</td>\n",
       "      <td>...</td>\n",
       "      <td>...</td>\n",
       "      <td>...</td>\n",
       "      <td>...</td>\n",
       "      <td>...</td>\n",
       "      <td>...</td>\n",
       "    </tr>\n",
       "    <tr>\n",
       "      <th>153</th>\n",
       "      <td>Rwanda</td>\n",
       "      <td>Sub-Saharan Africa</td>\n",
       "      <td>154</td>\n",
       "      <td>3.465</td>\n",
       "      <td>0.03464</td>\n",
       "      <td>0.22208</td>\n",
       "      <td>0.77370</td>\n",
       "      <td>0.42864</td>\n",
       "      <td>0.59201</td>\n",
       "      <td>0.55191</td>\n",
       "      <td>0.22628</td>\n",
       "      <td>0.67042</td>\n",
       "    </tr>\n",
       "    <tr>\n",
       "      <th>154</th>\n",
       "      <td>Benin</td>\n",
       "      <td>Sub-Saharan Africa</td>\n",
       "      <td>155</td>\n",
       "      <td>3.340</td>\n",
       "      <td>0.03656</td>\n",
       "      <td>0.28665</td>\n",
       "      <td>0.35386</td>\n",
       "      <td>0.31910</td>\n",
       "      <td>0.48450</td>\n",
       "      <td>0.08010</td>\n",
       "      <td>0.18260</td>\n",
       "      <td>1.63328</td>\n",
       "    </tr>\n",
       "    <tr>\n",
       "      <th>155</th>\n",
       "      <td>Syria</td>\n",
       "      <td>Middle East and Northern Africa</td>\n",
       "      <td>156</td>\n",
       "      <td>3.006</td>\n",
       "      <td>0.05015</td>\n",
       "      <td>0.66320</td>\n",
       "      <td>0.47489</td>\n",
       "      <td>0.72193</td>\n",
       "      <td>0.15684</td>\n",
       "      <td>0.18906</td>\n",
       "      <td>0.47179</td>\n",
       "      <td>0.32858</td>\n",
       "    </tr>\n",
       "    <tr>\n",
       "      <th>156</th>\n",
       "      <td>Burundi</td>\n",
       "      <td>Sub-Saharan Africa</td>\n",
       "      <td>157</td>\n",
       "      <td>2.905</td>\n",
       "      <td>0.08658</td>\n",
       "      <td>0.01530</td>\n",
       "      <td>0.41587</td>\n",
       "      <td>0.22396</td>\n",
       "      <td>0.11850</td>\n",
       "      <td>0.10062</td>\n",
       "      <td>0.19727</td>\n",
       "      <td>1.83302</td>\n",
       "    </tr>\n",
       "    <tr>\n",
       "      <th>157</th>\n",
       "      <td>Togo</td>\n",
       "      <td>Sub-Saharan Africa</td>\n",
       "      <td>158</td>\n",
       "      <td>2.839</td>\n",
       "      <td>0.06727</td>\n",
       "      <td>0.20868</td>\n",
       "      <td>0.13995</td>\n",
       "      <td>0.28443</td>\n",
       "      <td>0.36453</td>\n",
       "      <td>0.10731</td>\n",
       "      <td>0.16681</td>\n",
       "      <td>1.56726</td>\n",
       "    </tr>\n",
       "  </tbody>\n",
       "</table>\n",
       "<p>158 rows × 12 columns</p>\n",
       "</div>"
      ],
      "text/plain": [
       "         Country                           Region  Happiness Rank  \\\n",
       "0    Switzerland                   Western Europe               1   \n",
       "1        Iceland                   Western Europe               2   \n",
       "2        Denmark                   Western Europe               3   \n",
       "3         Norway                   Western Europe               4   \n",
       "4         Canada                    North America               5   \n",
       "..           ...                              ...             ...   \n",
       "153       Rwanda               Sub-Saharan Africa             154   \n",
       "154        Benin               Sub-Saharan Africa             155   \n",
       "155        Syria  Middle East and Northern Africa             156   \n",
       "156      Burundi               Sub-Saharan Africa             157   \n",
       "157         Togo               Sub-Saharan Africa             158   \n",
       "\n",
       "     Happiness Score  Standard Error  Economy (GDP per Capita)   Family  \\\n",
       "0              7.587         0.03411                   1.39651  1.34951   \n",
       "1              7.561         0.04884                   1.30232  1.40223   \n",
       "2              7.527         0.03328                   1.32548  1.36058   \n",
       "3              7.522         0.03880                   1.45900  1.33095   \n",
       "4              7.427         0.03553                   1.32629  1.32261   \n",
       "..               ...             ...                       ...      ...   \n",
       "153            3.465         0.03464                   0.22208  0.77370   \n",
       "154            3.340         0.03656                   0.28665  0.35386   \n",
       "155            3.006         0.05015                   0.66320  0.47489   \n",
       "156            2.905         0.08658                   0.01530  0.41587   \n",
       "157            2.839         0.06727                   0.20868  0.13995   \n",
       "\n",
       "     Health (Life Expectancy)  Freedom  Trust (Government Corruption)  \\\n",
       "0                     0.94143  0.66557                        0.41978   \n",
       "1                     0.94784  0.62877                        0.14145   \n",
       "2                     0.87464  0.64938                        0.48357   \n",
       "3                     0.88521  0.66973                        0.36503   \n",
       "4                     0.90563  0.63297                        0.32957   \n",
       "..                        ...      ...                            ...   \n",
       "153                   0.42864  0.59201                        0.55191   \n",
       "154                   0.31910  0.48450                        0.08010   \n",
       "155                   0.72193  0.15684                        0.18906   \n",
       "156                   0.22396  0.11850                        0.10062   \n",
       "157                   0.28443  0.36453                        0.10731   \n",
       "\n",
       "     Generosity  Dystopia Residual  \n",
       "0       0.29678            2.51738  \n",
       "1       0.43630            2.70201  \n",
       "2       0.34139            2.49204  \n",
       "3       0.34699            2.46531  \n",
       "4       0.45811            2.45176  \n",
       "..          ...                ...  \n",
       "153     0.22628            0.67042  \n",
       "154     0.18260            1.63328  \n",
       "155     0.47179            0.32858  \n",
       "156     0.19727            1.83302  \n",
       "157     0.16681            1.56726  \n",
       "\n",
       "[158 rows x 12 columns]"
      ]
     },
     "execution_count": 2,
     "metadata": {},
     "output_type": "execute_result"
    }
   ],
   "source": [
    "df=pd.read_csv(\"happiness_score_dataset.csv\")\n",
    "df"
   ]
  },
  {
   "cell_type": "code",
   "execution_count": 10,
   "id": "34a33db0",
   "metadata": {},
   "outputs": [],
   "source": [
    "df=df.rename(columns = {'Happiness Rank': 'Rank', 'Happiness Score': 'Happiness_Score','Standard Error':'Error','Economy (GDP per Capita)':'Economy','Health (Life Expectancy)':'Health','Trust (Government Corruption)':'Trust','Dystopia Residual':'Dystopia_Residual'})"
   ]
  },
  {
   "cell_type": "code",
   "execution_count": 11,
   "id": "005d69d5",
   "metadata": {},
   "outputs": [
    {
     "data": {
      "text/plain": [
       "Index(['Country', 'Region', 'Rank', 'Happiness_Score', 'Error', 'Economy',\n",
       "       'Family', 'Health', 'Freedom', 'Trust', 'Generosity',\n",
       "       'Dystopia_Residual'],\n",
       "      dtype='object')"
      ]
     },
     "execution_count": 11,
     "metadata": {},
     "output_type": "execute_result"
    }
   ],
   "source": [
    "df.columns"
   ]
  },
  {
   "cell_type": "markdown",
   "id": "961c62d7",
   "metadata": {},
   "source": [
    "# About the columns"
   ]
  },
  {
   "cell_type": "markdown",
   "id": "443d1a29",
   "metadata": {},
   "source": [
    "1.Country:\n",
    "    This column shows the list of 158 country names.\n",
    "\n",
    "2.Region:\n",
    "    This column shows the region of the countries.\n",
    "    \n",
    "3.Rank:\n",
    "     It shows the rank of the countries which is based on Happiness_Score.\n",
    "     \n",
    "4.Happiness_Score:\n",
    "     It provides the score of happiness of countries.\n",
    "    \n",
    "5.Error:\n",
    "     It shows the standard error.\n",
    "     \n",
    "6.Economy:\n",
    "    This column shows the GDP per capita.\n",
    "    \n",
    "7.Family:\n",
    "    The details of the family is shown in Family column.\n",
    "    \n",
    "8.Health:\n",
    "    The life expectancy is determined using this.\n",
    "    \n",
    "9.Freedom:\n",
    "    It shows the details about the freedom of people.\n",
    "    \n",
    "10.Trust:\n",
    "    This column shows the details about government corruption.\n",
    "    \n",
    "11.Generosity:\n",
    "      This column shows the quality of generous.\n",
    "      \n",
    "12.Dystopia_Residual:\n",
    "      The details of dystopia is provided in this column.\n",
    "     "
   ]
  },
  {
   "cell_type": "code",
   "execution_count": 12,
   "id": "0d9ae4a8",
   "metadata": {},
   "outputs": [
    {
     "data": {
      "text/plain": [
       "Country              0\n",
       "Region               0\n",
       "Rank                 0\n",
       "Happiness_Score      0\n",
       "Error                0\n",
       "Economy              0\n",
       "Family               0\n",
       "Health               0\n",
       "Freedom              0\n",
       "Trust                0\n",
       "Generosity           0\n",
       "Dystopia_Residual    0\n",
       "dtype: int64"
      ]
     },
     "execution_count": 12,
     "metadata": {},
     "output_type": "execute_result"
    }
   ],
   "source": [
    "df.isnull().sum()"
   ]
  },
  {
   "cell_type": "markdown",
   "id": "5ebabc53",
   "metadata": {},
   "source": [
    "# EDA"
   ]
  },
  {
   "cell_type": "markdown",
   "id": "5e0afd20",
   "metadata": {},
   "source": [
    "# Scatterplot:"
   ]
  },
  {
   "cell_type": "code",
   "execution_count": 13,
   "id": "38eeb9b6",
   "metadata": {},
   "outputs": [
    {
     "data": {
      "text/plain": [
       "<AxesSubplot:xlabel='Country', ylabel='Happiness_Score'>"
      ]
     },
     "execution_count": 13,
     "metadata": {},
     "output_type": "execute_result"
    },
    {
     "data": {
      "image/png": "[encoded data removed]",
      "text/plain": [
       "<Figure size 432x288 with 1 Axes>"
      ]
     },
     "metadata": {
      "needs_background": "light"
     },
     "output_type": "display_data"
    }
   ],
   "source": [
    "import seaborn as sns\n",
    "sns.scatterplot(x=\"Country\",y=\"Happiness_Score\",data=df)"
   ]
  },
  {
   "cell_type": "code",
   "execution_count": 15,
   "id": "df524eb2",
   "metadata": {},
   "outputs": [
    {
     "data": {
      "text/plain": [
       "<AxesSubplot:xlabel='Region', ylabel='Happiness_Score'>"
      ]
     },
     "execution_count": 15,
     "metadata": {},
     "output_type": "execute_result"
    },
    {
     "data": {
      "image/png": "[encoded data removed]",
      "text/plain": [
       "<Figure size 432x288 with 1 Axes>"
      ]
     },
     "metadata": {
      "needs_background": "light"
     },
     "output_type": "display_data"
    }
   ],
   "source": [
    "sns.scatterplot(x=\"Region\",y=\"Happiness_Score\",data=df)"
   ]
  },
  {
   "cell_type": "code",
   "execution_count": 19,
   "id": "621a1447",
   "metadata": {},
   "outputs": [
    {
     "data": {
      "text/plain": [
       "<AxesSubplot:xlabel='Rank', ylabel='Happiness_Score'>"
      ]
     },
     "execution_count": 19,
     "metadata": {},
     "output_type": "execute_result"
    },
    {
     "data": {
      "image/png": "[encoded data removed]",
      "text/plain": [
       "<Figure size 432x288 with 1 Axes>"
      ]
     },
     "metadata": {
      "needs_background": "light"
     },
     "output_type": "display_data"
    }
   ],
   "source": [
    "sns.scatterplot(x=\"Rank\",y=\"Happiness_Score\",data=df)"
   ]
  },
  {
   "cell_type": "code",
   "execution_count": 20,
   "id": "5d647095",
   "metadata": {},
   "outputs": [
    {
     "data": {
      "text/plain": [
       "<AxesSubplot:xlabel='Error', ylabel='Happiness_Score'>"
      ]
     },
     "execution_count": 20,
     "metadata": {},
     "output_type": "execute_result"
    },
    {
     "data": {
      "image/png": "[encoded data removed]",
      "text/plain": [
       "<Figure size 432x288 with 1 Axes>"
      ]
     },
     "metadata": {
      "needs_background": "light"
     },
     "output_type": "display_data"
    }
   ],
   "source": [
    "sns.scatterplot(x=\"Error\",y=\"Happiness_Score\",data=df)"
   ]
  },
  {
   "cell_type": "code",
   "execution_count": 21,
   "id": "90d6ef4b",
   "metadata": {},
   "outputs": [
    {
     "data": {
      "text/plain": [
       "<AxesSubplot:xlabel='Economy', ylabel='Happiness_Score'>"
      ]
     },
     "execution_count": 21,
     "metadata": {},
     "output_type": "execute_result"
    },
    {
     "data": {
      "image/png": "[encoded data removed]",
      "text/plain": [
       "<Figure size 432x288 with 1 Axes>"
      ]
     },
     "metadata": {
      "needs_background": "light"
     },
     "output_type": "display_data"
    }
   ],
   "source": [
    "sns.scatterplot(x=\"Economy\",y=\"Happiness_Score\",data=df)"
   ]
  },
  {
   "cell_type": "code",
   "execution_count": 22,
   "id": "b5e109d4",
   "metadata": {},
   "outputs": [
    {
     "data": {
      "text/plain": [
       "<AxesSubplot:xlabel='Family', ylabel='Happiness_Score'>"
      ]
     },
     "execution_count": 22,
     "metadata": {},
     "output_type": "execute_result"
    },
    {
     "data": {
      "image/png": "[encoded data removed]",
      "text/plain": [
       "<Figure size 432x288 with 1 Axes>"
      ]
     },
     "metadata": {
      "needs_background": "light"
     },
     "output_type": "display_data"
    }
   ],
   "source": [
    "sns.scatterplot(x=\"Family\",y=\"Happiness_Score\",data=df)"
   ]
  },
  {
   "cell_type": "code",
   "execution_count": 23,
   "id": "8d13117d",
   "metadata": {},
   "outputs": [
    {
     "data": {
      "text/plain": [
       "<AxesSubplot:xlabel='Health', ylabel='Happiness_Score'>"
      ]
     },
     "execution_count": 23,
     "metadata": {},
     "output_type": "execute_result"
    },
    {
     "data": {
      "image/png": "[encoded data removed]",
      "text/plain": [
       "<Figure size 432x288 with 1 Axes>"
      ]
     },
     "metadata": {
      "needs_background": "light"
     },
     "output_type": "display_data"
    }
   ],
   "source": [
    "sns.scatterplot(x=\"Health\",y=\"Happiness_Score\",data=df)"
   ]
  },
  {
   "cell_type": "code",
   "execution_count": 24,
   "id": "5a67956d",
   "metadata": {},
   "outputs": [
    {
     "data": {
      "text/plain": [
       "<AxesSubplot:xlabel='Freedom', ylabel='Happiness_Score'>"
      ]
     },
     "execution_count": 24,
     "metadata": {},
     "output_type": "execute_result"
    },
    {
     "data": {
      "image/png": "[encoded data removed]",
      "text/plain": [
       "<Figure size 432x288 with 1 Axes>"
      ]
     },
     "metadata": {
      "needs_background": "light"
     },
     "output_type": "display_data"
    }
   ],
   "source": [
    "sns.scatterplot(x=\"Freedom\",y=\"Happiness_Score\",data=df)"
   ]
  },
  {
   "cell_type": "code",
   "execution_count": 25,
   "id": "764c6b55",
   "metadata": {},
   "outputs": [
    {
     "data": {
      "text/plain": [
       "<AxesSubplot:xlabel='Trust', ylabel='Happiness_Score'>"
      ]
     },
     "execution_count": 25,
     "metadata": {},
     "output_type": "execute_result"
    },
    {
     "data": {
      "image/png": "[encoded data removed]",
      "text/plain": [
       "<Figure size 432x288 with 1 Axes>"
      ]
     },
     "metadata": {
      "needs_background": "light"
     },
     "output_type": "display_data"
    }
   ],
   "source": [
    "sns.scatterplot(x=\"Trust\",y=\"Happiness_Score\",data=df)"
   ]
  },
  {
   "cell_type": "code",
   "execution_count": 26,
   "id": "740ea6ac",
   "metadata": {},
   "outputs": [
    {
     "data": {
      "text/plain": [
       "(<AxesSubplot:xlabel='Generosity', ylabel='Happiness_Score'>,)"
      ]
     },
     "execution_count": 26,
     "metadata": {},
     "output_type": "execute_result"
    },
    {
     "data": {
      "image/png": "[encoded data removed]",
      "text/plain": [
       "<Figure size 432x288 with 1 Axes>"
      ]
     },
     "metadata": {
      "needs_background": "light"
     },
     "output_type": "display_data"
    }
   ],
   "source": [
    "sns.scatterplot(x=\"Generosity\",y=\"Happiness_Score\",data=df),"
   ]
  },
  {
   "cell_type": "code",
   "execution_count": 27,
   "id": "77628e51",
   "metadata": {},
   "outputs": [
    {
     "data": {
      "text/plain": [
       "<AxesSubplot:xlabel='Dystopia_Residual', ylabel='Happiness_Score'>"
      ]
     },
     "execution_count": 27,
     "metadata": {},
     "output_type": "execute_result"
    },
    {
     "data": {
      "image/png": "[encoded data removed]",
      "text/plain": [
       "<Figure size 432x288 with 1 Axes>"
      ]
     },
     "metadata": {
      "needs_background": "light"
     },
     "output_type": "display_data"
    }
   ],
   "source": [
    "sns.scatterplot(x=\"Dystopia_Residual\",y=\"Happiness_Score\",data=df)"
   ]
  },
  {
   "cell_type": "markdown",
   "id": "14e932a6",
   "metadata": {},
   "source": [
    "# Correlation:"
   ]
  },
  {
   "cell_type": "code",
   "execution_count": 28,
   "id": "298b42f6",
   "metadata": {},
   "outputs": [
    {
     "data": {
      "text/html": [
       "<div>\n",
       "<style scoped>\n",
       "    .dataframe tbody tr th:only-of-type {\n",
       "        vertical-align: middle;\n",
       "    }\n",
       "\n",
       "    .dataframe tbody tr th {\n",
       "        vertical-align: top;\n",
       "    }\n",
       "\n",
       "    .dataframe thead th {\n",
       "        text-align: right;\n",
       "    }\n",
       "</style>\n",
       "<table border=\"1\" class=\"dataframe\">\n",
       "  <thead>\n",
       "    <tr style=\"text-align: right;\">\n",
       "      <th></th>\n",
       "      <th>Rank</th>\n",
       "      <th>Happiness_Score</th>\n",
       "      <th>Error</th>\n",
       "      <th>Economy</th>\n",
       "      <th>Family</th>\n",
       "      <th>Health</th>\n",
       "      <th>Freedom</th>\n",
       "      <th>Trust</th>\n",
       "      <th>Generosity</th>\n",
       "      <th>Dystopia_Residual</th>\n",
       "    </tr>\n",
       "  </thead>\n",
       "  <tbody>\n",
       "    <tr>\n",
       "      <th>Rank</th>\n",
       "      <td>1.000000</td>\n",
       "      <td>-0.992105</td>\n",
       "      <td>0.158516</td>\n",
       "      <td>-0.785267</td>\n",
       "      <td>-0.733644</td>\n",
       "      <td>-0.735613</td>\n",
       "      <td>-0.556886</td>\n",
       "      <td>-0.372315</td>\n",
       "      <td>-0.160142</td>\n",
       "      <td>-0.521999</td>\n",
       "    </tr>\n",
       "    <tr>\n",
       "      <th>Happiness_Score</th>\n",
       "      <td>-0.992105</td>\n",
       "      <td>1.000000</td>\n",
       "      <td>-0.177254</td>\n",
       "      <td>0.780966</td>\n",
       "      <td>0.740605</td>\n",
       "      <td>0.724200</td>\n",
       "      <td>0.568211</td>\n",
       "      <td>0.395199</td>\n",
       "      <td>0.180319</td>\n",
       "      <td>0.530474</td>\n",
       "    </tr>\n",
       "    <tr>\n",
       "      <th>Error</th>\n",
       "      <td>0.158516</td>\n",
       "      <td>-0.177254</td>\n",
       "      <td>1.000000</td>\n",
       "      <td>-0.217651</td>\n",
       "      <td>-0.120728</td>\n",
       "      <td>-0.310287</td>\n",
       "      <td>-0.129773</td>\n",
       "      <td>-0.178325</td>\n",
       "      <td>-0.088439</td>\n",
       "      <td>0.083981</td>\n",
       "    </tr>\n",
       "    <tr>\n",
       "      <th>Economy</th>\n",
       "      <td>-0.785267</td>\n",
       "      <td>0.780966</td>\n",
       "      <td>-0.217651</td>\n",
       "      <td>1.000000</td>\n",
       "      <td>0.645299</td>\n",
       "      <td>0.816478</td>\n",
       "      <td>0.370300</td>\n",
       "      <td>0.307885</td>\n",
       "      <td>-0.010465</td>\n",
       "      <td>0.040059</td>\n",
       "    </tr>\n",
       "    <tr>\n",
       "      <th>Family</th>\n",
       "      <td>-0.733644</td>\n",
       "      <td>0.740605</td>\n",
       "      <td>-0.120728</td>\n",
       "      <td>0.645299</td>\n",
       "      <td>1.000000</td>\n",
       "      <td>0.531104</td>\n",
       "      <td>0.441518</td>\n",
       "      <td>0.205605</td>\n",
       "      <td>0.087513</td>\n",
       "      <td>0.148117</td>\n",
       "    </tr>\n",
       "    <tr>\n",
       "      <th>Health</th>\n",
       "      <td>-0.735613</td>\n",
       "      <td>0.724200</td>\n",
       "      <td>-0.310287</td>\n",
       "      <td>0.816478</td>\n",
       "      <td>0.531104</td>\n",
       "      <td>1.000000</td>\n",
       "      <td>0.360477</td>\n",
       "      <td>0.248335</td>\n",
       "      <td>0.108335</td>\n",
       "      <td>0.018979</td>\n",
       "    </tr>\n",
       "    <tr>\n",
       "      <th>Freedom</th>\n",
       "      <td>-0.556886</td>\n",
       "      <td>0.568211</td>\n",
       "      <td>-0.129773</td>\n",
       "      <td>0.370300</td>\n",
       "      <td>0.441518</td>\n",
       "      <td>0.360477</td>\n",
       "      <td>1.000000</td>\n",
       "      <td>0.493524</td>\n",
       "      <td>0.373916</td>\n",
       "      <td>0.062783</td>\n",
       "    </tr>\n",
       "    <tr>\n",
       "      <th>Trust</th>\n",
       "      <td>-0.372315</td>\n",
       "      <td>0.395199</td>\n",
       "      <td>-0.178325</td>\n",
       "      <td>0.307885</td>\n",
       "      <td>0.205605</td>\n",
       "      <td>0.248335</td>\n",
       "      <td>0.493524</td>\n",
       "      <td>1.000000</td>\n",
       "      <td>0.276123</td>\n",
       "      <td>-0.033105</td>\n",
       "    </tr>\n",
       "    <tr>\n",
       "      <th>Generosity</th>\n",
       "      <td>-0.160142</td>\n",
       "      <td>0.180319</td>\n",
       "      <td>-0.088439</td>\n",
       "      <td>-0.010465</td>\n",
       "      <td>0.087513</td>\n",
       "      <td>0.108335</td>\n",
       "      <td>0.373916</td>\n",
       "      <td>0.276123</td>\n",
       "      <td>1.000000</td>\n",
       "      <td>-0.101301</td>\n",
       "    </tr>\n",
       "    <tr>\n",
       "      <th>Dystopia_Residual</th>\n",
       "      <td>-0.521999</td>\n",
       "      <td>0.530474</td>\n",
       "      <td>0.083981</td>\n",
       "      <td>0.040059</td>\n",
       "      <td>0.148117</td>\n",
       "      <td>0.018979</td>\n",
       "      <td>0.062783</td>\n",
       "      <td>-0.033105</td>\n",
       "      <td>-0.101301</td>\n",
       "      <td>1.000000</td>\n",
       "    </tr>\n",
       "  </tbody>\n",
       "</table>\n",
       "</div>"
      ],
      "text/plain": [
       "                       Rank  Happiness_Score     Error   Economy    Family  \\\n",
       "Rank               1.000000        -0.992105  0.158516 -0.785267 -0.733644   \n",
       "Happiness_Score   -0.992105         1.000000 -0.177254  0.780966  0.740605   \n",
       "Error              0.158516        -0.177254  1.000000 -0.217651 -0.120728   \n",
       "Economy           -0.785267         0.780966 -0.217651  1.000000  0.645299   \n",
       "Family            -0.733644         0.740605 -0.120728  0.645299  1.000000   \n",
       "Health            -0.735613         0.724200 -0.310287  0.816478  0.531104   \n",
       "Freedom           -0.556886         0.568211 -0.129773  0.370300  0.441518   \n",
       "Trust             -0.372315         0.395199 -0.178325  0.307885  0.205605   \n",
       "Generosity        -0.160142         0.180319 -0.088439 -0.010465  0.087513   \n",
       "Dystopia_Residual -0.521999         0.530474  0.083981  0.040059  0.148117   \n",
       "\n",
       "                     Health   Freedom     Trust  Generosity  Dystopia_Residual  \n",
       "Rank              -0.735613 -0.556886 -0.372315   -0.160142          -0.521999  \n",
       "Happiness_Score    0.724200  0.568211  0.395199    0.180319           0.530474  \n",
       "Error             -0.310287 -0.129773 -0.178325   -0.088439           0.083981  \n",
       "Economy            0.816478  0.370300  0.307885   -0.010465           0.040059  \n",
       "Family             0.531104  0.441518  0.205605    0.087513           0.148117  \n",
       "Health             1.000000  0.360477  0.248335    0.108335           0.018979  \n",
       "Freedom            0.360477  1.000000  0.493524    0.373916           0.062783  \n",
       "Trust              0.248335  0.493524  1.000000    0.276123          -0.033105  \n",
       "Generosity         0.108335  0.373916  0.276123    1.000000          -0.101301  \n",
       "Dystopia_Residual  0.018979  0.062783 -0.033105   -0.101301           1.000000  "
      ]
     },
     "execution_count": 28,
     "metadata": {},
     "output_type": "execute_result"
    }
   ],
   "source": [
    "df.corr()"
   ]
  },
  {
   "cell_type": "markdown",
   "id": "15bc56d4",
   "metadata": {},
   "source": [
    "# Correlation using Heatmap:"
   ]
  },
  {
   "cell_type": "code",
   "execution_count": 30,
   "id": "53f198ef",
   "metadata": {},
   "outputs": [
    {
     "data": {
      "text/plain": [
       "<AxesSubplot:>"
      ]
     },
     "execution_count": 30,
     "metadata": {},
     "output_type": "execute_result"
    },
    {
     "data": {
      "image/png": "[encoded data removed]",
      "text/plain": [
       "<Figure size 1080x504 with 2 Axes>"
      ]
     },
     "metadata": {
      "needs_background": "light"
     },
     "output_type": "display_data"
    }
   ],
   "source": [
    "import matplotlib.pyplot as plt\n",
    "plt.figure(figsize=(15,7))\n",
    "sns.heatmap(df.corr(),annot=True,linewidth=0.5,fmt='.2f')"
   ]
  },
  {
   "cell_type": "markdown",
   "id": "c610c932",
   "metadata": {},
   "source": [
    "# Outcome of Correlation:"
   ]
  },
  {
   "cell_type": "markdown",
   "id": "42f9262f",
   "metadata": {},
   "source": [
    "Except standard error column all other columns are positively correlated with target column.\n",
    "\n",
    "Economy with 78 percent,Family with 74 percent and Health with 72 percent correlated with the target column which can be considered as a strong bond.Other columns are also having good correlation except standard_error."
   ]
  },
  {
   "cell_type": "markdown",
   "id": "a22a19e3",
   "metadata": {},
   "source": [
    "# Describing Datasets:"
   ]
  },
  {
   "cell_type": "code",
   "execution_count": 31,
   "id": "bb551194",
   "metadata": {},
   "outputs": [
    {
     "data": {
      "text/html": [
       "<div>\n",
       "<style scoped>\n",
       "    .dataframe tbody tr th:only-of-type {\n",
       "        vertical-align: middle;\n",
       "    }\n",
       "\n",
       "    .dataframe tbody tr th {\n",
       "        vertical-align: top;\n",
       "    }\n",
       "\n",
       "    .dataframe thead th {\n",
       "        text-align: right;\n",
       "    }\n",
       "</style>\n",
       "<table border=\"1\" class=\"dataframe\">\n",
       "  <thead>\n",
       "    <tr style=\"text-align: right;\">\n",
       "      <th></th>\n",
       "      <th>Rank</th>\n",
       "      <th>Happiness_Score</th>\n",
       "      <th>Error</th>\n",
       "      <th>Economy</th>\n",
       "      <th>Family</th>\n",
       "      <th>Health</th>\n",
       "      <th>Freedom</th>\n",
       "      <th>Trust</th>\n",
       "      <th>Generosity</th>\n",
       "      <th>Dystopia_Residual</th>\n",
       "    </tr>\n",
       "  </thead>\n",
       "  <tbody>\n",
       "    <tr>\n",
       "      <th>count</th>\n",
       "      <td>158.000000</td>\n",
       "      <td>158.000000</td>\n",
       "      <td>158.000000</td>\n",
       "      <td>158.000000</td>\n",
       "      <td>158.000000</td>\n",
       "      <td>158.000000</td>\n",
       "      <td>158.000000</td>\n",
       "      <td>158.000000</td>\n",
       "      <td>158.000000</td>\n",
       "      <td>158.000000</td>\n",
       "    </tr>\n",
       "    <tr>\n",
       "      <th>mean</th>\n",
       "      <td>79.493671</td>\n",
       "      <td>5.375734</td>\n",
       "      <td>0.047885</td>\n",
       "      <td>0.846137</td>\n",
       "      <td>0.991046</td>\n",
       "      <td>0.630259</td>\n",
       "      <td>0.428615</td>\n",
       "      <td>0.143422</td>\n",
       "      <td>0.237296</td>\n",
       "      <td>2.098977</td>\n",
       "    </tr>\n",
       "    <tr>\n",
       "      <th>std</th>\n",
       "      <td>45.754363</td>\n",
       "      <td>1.145010</td>\n",
       "      <td>0.017146</td>\n",
       "      <td>0.403121</td>\n",
       "      <td>0.272369</td>\n",
       "      <td>0.247078</td>\n",
       "      <td>0.150693</td>\n",
       "      <td>0.120034</td>\n",
       "      <td>0.126685</td>\n",
       "      <td>0.553550</td>\n",
       "    </tr>\n",
       "    <tr>\n",
       "      <th>min</th>\n",
       "      <td>1.000000</td>\n",
       "      <td>2.839000</td>\n",
       "      <td>0.018480</td>\n",
       "      <td>0.000000</td>\n",
       "      <td>0.000000</td>\n",
       "      <td>0.000000</td>\n",
       "      <td>0.000000</td>\n",
       "      <td>0.000000</td>\n",
       "      <td>0.000000</td>\n",
       "      <td>0.328580</td>\n",
       "    </tr>\n",
       "    <tr>\n",
       "      <th>25%</th>\n",
       "      <td>40.250000</td>\n",
       "      <td>4.526000</td>\n",
       "      <td>0.037268</td>\n",
       "      <td>0.545808</td>\n",
       "      <td>0.856823</td>\n",
       "      <td>0.439185</td>\n",
       "      <td>0.328330</td>\n",
       "      <td>0.061675</td>\n",
       "      <td>0.150553</td>\n",
       "      <td>1.759410</td>\n",
       "    </tr>\n",
       "    <tr>\n",
       "      <th>50%</th>\n",
       "      <td>79.500000</td>\n",
       "      <td>5.232500</td>\n",
       "      <td>0.043940</td>\n",
       "      <td>0.910245</td>\n",
       "      <td>1.029510</td>\n",
       "      <td>0.696705</td>\n",
       "      <td>0.435515</td>\n",
       "      <td>0.107220</td>\n",
       "      <td>0.216130</td>\n",
       "      <td>2.095415</td>\n",
       "    </tr>\n",
       "    <tr>\n",
       "      <th>75%</th>\n",
       "      <td>118.750000</td>\n",
       "      <td>6.243750</td>\n",
       "      <td>0.052300</td>\n",
       "      <td>1.158448</td>\n",
       "      <td>1.214405</td>\n",
       "      <td>0.811013</td>\n",
       "      <td>0.549092</td>\n",
       "      <td>0.180255</td>\n",
       "      <td>0.309883</td>\n",
       "      <td>2.462415</td>\n",
       "    </tr>\n",
       "    <tr>\n",
       "      <th>max</th>\n",
       "      <td>158.000000</td>\n",
       "      <td>7.587000</td>\n",
       "      <td>0.136930</td>\n",
       "      <td>1.690420</td>\n",
       "      <td>1.402230</td>\n",
       "      <td>1.025250</td>\n",
       "      <td>0.669730</td>\n",
       "      <td>0.551910</td>\n",
       "      <td>0.795880</td>\n",
       "      <td>3.602140</td>\n",
       "    </tr>\n",
       "  </tbody>\n",
       "</table>\n",
       "</div>"
      ],
      "text/plain": [
       "             Rank  Happiness_Score       Error     Economy      Family  \\\n",
       "count  158.000000       158.000000  158.000000  158.000000  158.000000   \n",
       "mean    79.493671         5.375734    0.047885    0.846137    0.991046   \n",
       "std     45.754363         1.145010    0.017146    0.403121    0.272369   \n",
       "min      1.000000         2.839000    0.018480    0.000000    0.000000   \n",
       "25%     40.250000         4.526000    0.037268    0.545808    0.856823   \n",
       "50%     79.500000         5.232500    0.043940    0.910245    1.029510   \n",
       "75%    118.750000         6.243750    0.052300    1.158448    1.214405   \n",
       "max    158.000000         7.587000    0.136930    1.690420    1.402230   \n",
       "\n",
       "           Health     Freedom       Trust  Generosity  Dystopia_Residual  \n",
       "count  158.000000  158.000000  158.000000  158.000000         158.000000  \n",
       "mean     0.630259    0.428615    0.143422    0.237296           2.098977  \n",
       "std      0.247078    0.150693    0.120034    0.126685           0.553550  \n",
       "min      0.000000    0.000000    0.000000    0.000000           0.328580  \n",
       "25%      0.439185    0.328330    0.061675    0.150553           1.759410  \n",
       "50%      0.696705    0.435515    0.107220    0.216130           2.095415  \n",
       "75%      0.811013    0.549092    0.180255    0.309883           2.462415  \n",
       "max      1.025250    0.669730    0.551910    0.795880           3.602140  "
      ]
     },
     "execution_count": 31,
     "metadata": {},
     "output_type": "execute_result"
    }
   ],
   "source": [
    "df.describe()"
   ]
  },
  {
   "cell_type": "code",
   "execution_count": 32,
   "id": "cc18cfcd",
   "metadata": {},
   "outputs": [
    {
     "data": {
      "image/png": "[encoded data removed]",
      "text/plain": [
       "<Figure size 1080x864 with 2 Axes>"
      ]
     },
     "metadata": {
      "needs_background": "light"
     },
     "output_type": "display_data"
    }
   ],
   "source": [
    "plt.figure(figsize=(15,12))\n",
    "sns.heatmap(round(df.describe()[1:].transpose(),2),linewidth=2,annot=True,fmt=\"f\")\n",
    "plt.xticks(fontsize=18)\n",
    "plt.yticks(fontsize=12)\n",
    "plt.title(\"Variables summary\")\n",
    "plt.show()"
   ]
  },
  {
   "cell_type": "markdown",
   "id": "0ddcd6fc",
   "metadata": {},
   "source": [
    "# Outcome of describe of datasets:"
   ]
  },
  {
   "cell_type": "markdown",
   "id": "25a901e5",
   "metadata": {},
   "source": [
    "From the above plotting we are determining mean,stadard deviation,minimum and maximum value of each column.It helps us further in data cleaning.\n",
    "\n",
    "Total No.of rows in the dataset:\n",
    "\n",
    "158\n",
    "\n",
    "Total No.of columns in the dataset:\n",
    "\n",
    "12\n",
    "\n",
    "Rank:\n",
    "\n",
    "\n",
    "1.Mean = 79.493671\n",
    "\n",
    "2.std = 45.754363\n",
    "\n",
    "3.max_value = 158.000000\n",
    "\n",
    "4.min_value = 1.000000\n",
    "\n",
    "Happiness_Score:\n",
    "\n",
    "\n",
    "1.Mean = 5.375734\n",
    "\n",
    "2.std = 1.145010\n",
    "\n",
    "3.max_value = 7.587000\n",
    "\n",
    "4.min_value = 2.839000\n",
    "\n",
    "Error:\n",
    "\n",
    "\n",
    "1.Mean = 0.047885\n",
    "\n",
    "2.std = 0.017146\n",
    "\n",
    "3.max_value = 0.136930\n",
    "\n",
    "4.min_value = 0.018480\n",
    "\n",
    "Economy:\n",
    "\n",
    "\n",
    "1.Mean = 0.846137\n",
    "\n",
    "2.std = 0.403121\n",
    "\n",
    "3.max_value = 1.690420\n",
    "\n",
    "4.min_value = 0.000000\n",
    "\n",
    "Family:\n",
    "\n",
    "\n",
    "1.Mean = 0.991046\n",
    "\n",
    "2.std = 0.272369\n",
    "\n",
    "3.max_value = 1.402230\n",
    "\n",
    "4.min_value = 0.000000\n",
    "\n",
    "Health:\n",
    "\n",
    "\n",
    "1.Mean = 0.630259\n",
    "\n",
    "2.std = 0.247078\n",
    "\n",
    "3.max_value = 1.025250\n",
    "\n",
    "4.min_value = 0.000000\n",
    "\n",
    "Freedom:\n",
    "\n",
    "\n",
    "1.Mean = 0.428615\n",
    "\n",
    "2.std = 0.150693\n",
    "\n",
    "3.max_value = 0.669730\n",
    "\n",
    "4.min_value = 0.000000\n",
    "\n",
    "Trust:\n",
    "\n",
    "\n",
    "1.Mean = 0.143422\n",
    "\n",
    "2.std = 0.120034\n",
    "\n",
    "3.max_value = 0.551910\n",
    "\n",
    "4.min_value = 0.000000\n",
    "\n",
    "Generosity:\n",
    "\n",
    "\n",
    "1.Mean = 0.237296\n",
    "\n",
    "2.std = 0.126685\n",
    "\n",
    "3.max_value = 0.795880\n",
    "\n",
    "4.min_value = 0.000000\n",
    "\n",
    "Dystopia_Residual:\n",
    "\n",
    "\n",
    "1.Mean = 2.098977\n",
    "\n",
    "2.std = 0.553550\n",
    "\n",
    "3.max_value = 3.602140\n",
    "\n",
    "4.min_value = 0.328580\n",
    "\n",
    "\n"
   ]
  },
  {
   "cell_type": "code",
   "execution_count": 33,
   "id": "82f97d4d",
   "metadata": {},
   "outputs": [
    {
     "name": "stdout",
     "output_type": "stream",
     "text": [
      "<class 'pandas.core.frame.DataFrame'>\n",
      "RangeIndex: 158 entries, 0 to 157\n",
      "Data columns (total 12 columns):\n",
      " #   Column             Non-Null Count  Dtype  \n",
      "---  ------             --------------  -----  \n",
      " 0   Country            158 non-null    object \n",
      " 1   Region             158 non-null    object \n",
      " 2   Rank               158 non-null    int64  \n",
      " 3   Happiness_Score    158 non-null    float64\n",
      " 4   Error              158 non-null    float64\n",
      " 5   Economy            158 non-null    float64\n",
      " 6   Family             158 non-null    float64\n",
      " 7   Health             158 non-null    float64\n",
      " 8   Freedom            158 non-null    float64\n",
      " 9   Trust              158 non-null    float64\n",
      " 10  Generosity         158 non-null    float64\n",
      " 11  Dystopia_Residual  158 non-null    float64\n",
      "dtypes: float64(9), int64(1), object(2)\n",
      "memory usage: 14.9+ KB\n"
     ]
    }
   ],
   "source": [
    "df.info()"
   ]
  },
  {
   "cell_type": "markdown",
   "id": "4faac075",
   "metadata": {},
   "source": [
    "From the above code we can have the columns datatype and memory used by the dataframe."
   ]
  },
  {
   "cell_type": "markdown",
   "id": "bed35673",
   "metadata": {},
   "source": [
    "# Outliers Checking:"
   ]
  },
  {
   "cell_type": "code",
   "execution_count": 39,
   "id": "901013d7",
   "metadata": {},
   "outputs": [
    {
     "data": {
      "text/plain": [
       "<AxesSubplot:>"
      ]
     },
     "execution_count": 39,
     "metadata": {},
     "output_type": "execute_result"
    },
    {
     "data": {
      "image/png": "[encoded data removed]",
      "text/plain": [
       "<Figure size 432x288 with 1 Axes>"
      ]
     },
     "metadata": {
      "needs_background": "light"
     },
     "output_type": "display_data"
    }
   ],
   "source": [
    "df['Rank'].plot.box()"
   ]
  },
  {
   "cell_type": "markdown",
   "id": "7f076f49",
   "metadata": {},
   "source": [
    "We can see no outliers in this column"
   ]
  },
  {
   "cell_type": "code",
   "execution_count": 45,
   "id": "e0091805",
   "metadata": {},
   "outputs": [
    {
     "data": {
      "text/plain": [
       "<AxesSubplot:>"
      ]
     },
     "execution_count": 45,
     "metadata": {},
     "output_type": "execute_result"
    },
    {
     "data": {
      "image/png": "[encoded data removed]",
      "text/plain": [
       "<Figure size 432x288 with 1 Axes>"
      ]
     },
     "metadata": {
      "needs_background": "light"
     },
     "output_type": "display_data"
    }
   ],
   "source": [
    "df['Happiness_Score'].plot.box()"
   ]
  },
  {
   "cell_type": "markdown",
   "id": "9469eaf3",
   "metadata": {},
   "source": [
    "No outliers are present in this column."
   ]
  },
  {
   "cell_type": "code",
   "execution_count": 46,
   "id": "0f040933",
   "metadata": {},
   "outputs": [
    {
     "data": {
      "text/plain": [
       "<AxesSubplot:>"
      ]
     },
     "execution_count": 46,
     "metadata": {},
     "output_type": "execute_result"
    },
    {
     "data": {
      "image/png": "[encoded data removed]",
      "text/plain": [
       "<Figure size 432x288 with 1 Axes>"
      ]
     },
     "metadata": {
      "needs_background": "light"
     },
     "output_type": "display_data"
    }
   ],
   "source": [
    "df['Error'].plot.box()"
   ]
  },
  {
   "cell_type": "markdown",
   "id": "f4896d94",
   "metadata": {},
   "source": [
    "From above boxplot we can say that 'error' column have outliers."
   ]
  },
  {
   "cell_type": "code",
   "execution_count": 47,
   "id": "3eb66118",
   "metadata": {},
   "outputs": [
    {
     "data": {
      "text/plain": [
       "<AxesSubplot:>"
      ]
     },
     "execution_count": 47,
     "metadata": {},
     "output_type": "execute_result"
    },
    {
     "data": {
      "image/png": "[encoded data removed]",
      "text/plain": [
       "<Figure size 432x288 with 1 Axes>"
      ]
     },
     "metadata": {
      "needs_background": "light"
     },
     "output_type": "display_data"
    }
   ],
   "source": [
    "df['Economy'].plot.box()"
   ]
  },
  {
   "cell_type": "markdown",
   "id": "3a5e89a8",
   "metadata": {},
   "source": [
    "No outliers are present in Economy column."
   ]
  },
  {
   "cell_type": "code",
   "execution_count": 48,
   "id": "29d5327e",
   "metadata": {},
   "outputs": [
    {
     "data": {
      "text/plain": [
       "<AxesSubplot:>"
      ]
     },
     "execution_count": 48,
     "metadata": {},
     "output_type": "execute_result"
    },
    {
     "data": {
      "image/png": "[encoded data removed]",
      "text/plain": [
       "<Figure size 432x288 with 1 Axes>"
      ]
     },
     "metadata": {
      "needs_background": "light"
     },
     "output_type": "display_data"
    }
   ],
   "source": [
    "df['Family'].plot.box()"
   ]
  },
  {
   "cell_type": "markdown",
   "id": "a66a22bc",
   "metadata": {},
   "source": [
    "From above boxplot we can observe that the family column also have some outliers"
   ]
  },
  {
   "cell_type": "code",
   "execution_count": 49,
   "id": "08bd0332",
   "metadata": {},
   "outputs": [
    {
     "data": {
      "text/plain": [
       "<AxesSubplot:>"
      ]
     },
     "execution_count": 49,
     "metadata": {},
     "output_type": "execute_result"
    },
    {
     "data": {
      "image/png": "[encoded data removed]",
      "text/plain": [
       "<Figure size 432x288 with 1 Axes>"
      ]
     },
     "metadata": {
      "needs_background": "light"
     },
     "output_type": "display_data"
    }
   ],
   "source": [
    "df['Health'].plot.box()"
   ]
  },
  {
   "cell_type": "code",
   "execution_count": 50,
   "id": "a9c033af",
   "metadata": {},
   "outputs": [
    {
     "data": {
      "text/plain": [
       "<AxesSubplot:>"
      ]
     },
     "execution_count": 50,
     "metadata": {},
     "output_type": "execute_result"
    },
    {
     "data": {
      "image/png": "[encoded data removed]",
      "text/plain": [
       "<Figure size 432x288 with 1 Axes>"
      ]
     },
     "metadata": {
      "needs_background": "light"
     },
     "output_type": "display_data"
    }
   ],
   "source": [
    "df['Freedom'].plot.box()"
   ]
  },
  {
   "cell_type": "code",
   "execution_count": 51,
   "id": "af17161d",
   "metadata": {},
   "outputs": [
    {
     "data": {
      "text/plain": [
       "<AxesSubplot:>"
      ]
     },
     "execution_count": 51,
     "metadata": {},
     "output_type": "execute_result"
    },
    {
     "data": {
      "image/png": "[encoded data removed]",
      "text/plain": [
       "<Figure size 432x288 with 1 Axes>"
      ]
     },
     "metadata": {
      "needs_background": "light"
     },
     "output_type": "display_data"
    }
   ],
   "source": [
    "df['Trust'].plot.box()"
   ]
  },
  {
   "cell_type": "markdown",
   "id": "c214bbf3",
   "metadata": {},
   "source": [
    "above trust column also have some outliers"
   ]
  },
  {
   "cell_type": "code",
   "execution_count": 52,
   "id": "03c1234c",
   "metadata": {},
   "outputs": [
    {
     "data": {
      "text/plain": [
       "<AxesSubplot:>"
      ]
     },
     "execution_count": 52,
     "metadata": {},
     "output_type": "execute_result"
    },
    {
     "data": {
      "image/png": "[encoded data removed]",
      "text/plain": [
       "<Figure size 432x288 with 1 Axes>"
      ]
     },
     "metadata": {
      "needs_background": "light"
     },
     "output_type": "display_data"
    }
   ],
   "source": [
    "df['Generosity'].plot.box()"
   ]
  },
  {
   "cell_type": "markdown",
   "id": "3025d23f",
   "metadata": {},
   "source": [
    "The Genorosity column also have some outliers"
   ]
  },
  {
   "cell_type": "code",
   "execution_count": 54,
   "id": "21188fcf",
   "metadata": {},
   "outputs": [
    {
     "data": {
      "text/plain": [
       "<AxesSubplot:>"
      ]
     },
     "execution_count": 54,
     "metadata": {},
     "output_type": "execute_result"
    },
    {
     "data": {
      "image/png": "[encoded data removed]",
      "text/plain": [
       "<Figure size 432x288 with 1 Axes>"
      ]
     },
     "metadata": {
      "needs_background": "light"
     },
     "output_type": "display_data"
    }
   ],
   "source": [
    "df['Dystopia_Residual'].plot.box()"
   ]
  },
  {
   "cell_type": "markdown",
   "id": "e2f23252",
   "metadata": {},
   "source": [
    "# Skewness:"
   ]
  },
  {
   "cell_type": "code",
   "execution_count": 58,
   "id": "35b91599",
   "metadata": {},
   "outputs": [
    {
     "data": {
      "text/plain": [
       "Rank                 0.000418\n",
       "Happiness_Score      0.097769\n",
       "Error                1.983439\n",
       "Economy             -0.317575\n",
       "Family              -1.006893\n",
       "Health              -0.705328\n",
       "Freedom             -0.413462\n",
       "Trust                1.385463\n",
       "Generosity           1.001961\n",
       "Dystopia_Residual   -0.238911\n",
       "dtype: float64"
      ]
     },
     "execution_count": 58,
     "metadata": {},
     "output_type": "execute_result"
    }
   ],
   "source": [
    "df.skew()"
   ]
  },
  {
   "cell_type": "markdown",
   "id": "d7cbf7e9",
   "metadata": {},
   "source": [
    "Outcome of Skewness:\n",
    "\n",
    "    Skewness threshold is taken as +/-0.5.The columns which are having skewness are\n",
    "    Error,Family,Health,Trust,Generosity"
   ]
  },
  {
   "cell_type": "markdown",
   "id": "362bf1dd",
   "metadata": {},
   "source": [
    "# Normal Distribution Curve:"
   ]
  },
  {
   "cell_type": "code",
   "execution_count": 61,
   "id": "408cf379",
   "metadata": {},
   "outputs": [
    {
     "data": {
      "text/plain": [
       "<AxesSubplot:xlabel='Rank', ylabel='Density'>"
      ]
     },
     "execution_count": 61,
     "metadata": {},
     "output_type": "execute_result"
    },
    {
     "data": {
      "image/png": "[encoded data removed]",
      "text/plain": [
       "<Figure size 432x288 with 1 Axes>"
      ]
     },
     "metadata": {
      "needs_background": "light"
     },
     "output_type": "display_data"
    }
   ],
   "source": [
    "sns.distplot(df[\"Rank\"])"
   ]
  },
  {
   "cell_type": "markdown",
   "id": "34a56c55",
   "metadata": {},
   "source": [
    "The above data is not normalized,the building blocks are out of the normalized curve."
   ]
  },
  {
   "cell_type": "code",
   "execution_count": 62,
   "id": "d552cd6d",
   "metadata": {},
   "outputs": [
    {
     "data": {
      "text/plain": [
       "<AxesSubplot:xlabel='Happiness_Score', ylabel='Density'>"
      ]
     },
     "execution_count": 62,
     "metadata": {},
     "output_type": "execute_result"
    },
    {
     "data": {
      "image/png": "[encoded data removed]",
      "text/plain": [
       "<Figure size 432x288 with 1 Axes>"
      ]
     },
     "metadata": {
      "needs_background": "light"
     },
     "output_type": "display_data"
    }
   ],
   "source": [
    "sns.distplot(df[\"Happiness_Score\"])"
   ]
  },
  {
   "cell_type": "markdown",
   "id": "d2dec583",
   "metadata": {},
   "source": [
    "The above data is not normalized,the building blocks are out of the normalized curve"
   ]
  },
  {
   "cell_type": "code",
   "execution_count": 63,
   "id": "381f164b",
   "metadata": {},
   "outputs": [
    {
     "data": {
      "text/plain": [
       "<AxesSubplot:xlabel='Error', ylabel='Density'>"
      ]
     },
     "execution_count": 63,
     "metadata": {},
     "output_type": "execute_result"
    },
    {
     "data": {
      "image/png": "[encoded data removed]",
      "text/plain": [
       "<Figure size 432x288 with 1 Axes>"
      ]
     },
     "metadata": {
      "needs_background": "light"
     },
     "output_type": "display_data"
    }
   ],
   "source": [
    "sns.distplot(df[\"Error\"])"
   ]
  },
  {
   "cell_type": "markdown",
   "id": "8030af8f",
   "metadata": {},
   "source": [
    "The above data is not normalized,the building blocks are out of the normalized curve"
   ]
  },
  {
   "cell_type": "code",
   "execution_count": 65,
   "id": "0c0bb87f",
   "metadata": {},
   "outputs": [
    {
     "data": {
      "text/plain": [
       "<AxesSubplot:xlabel='Economy', ylabel='Density'>"
      ]
     },
     "execution_count": 65,
     "metadata": {},
     "output_type": "execute_result"
    },
    {
     "data": {
      "image/png": "[encoded data removed]",
      "text/plain": [
       "<Figure size 432x288 with 1 Axes>"
      ]
     },
     "metadata": {
      "needs_background": "light"
     },
     "output_type": "display_data"
    }
   ],
   "source": [
    "sns.distplot(df[\"Economy\"])"
   ]
  },
  {
   "cell_type": "markdown",
   "id": "9d2b47ce",
   "metadata": {},
   "source": [
    "The above data is not normalized,the building blocks are out of the normalized curve"
   ]
  },
  {
   "cell_type": "code",
   "execution_count": 66,
   "id": "a84f4af0",
   "metadata": {},
   "outputs": [
    {
     "data": {
      "text/plain": [
       "<AxesSubplot:xlabel='Family', ylabel='Density'>"
      ]
     },
     "execution_count": 66,
     "metadata": {},
     "output_type": "execute_result"
    },
    {
     "data": {
      "image/png": "[encoded data removed]",
      "text/plain": [
       "<Figure size 432x288 with 1 Axes>"
      ]
     },
     "metadata": {
      "needs_background": "light"
     },
     "output_type": "display_data"
    }
   ],
   "source": [
    "sns.distplot(df[\"Family\"])"
   ]
  },
  {
   "cell_type": "markdown",
   "id": "826d5e32",
   "metadata": {},
   "source": [
    "The above data is not normalized,the building blocks are out of the normalized curve"
   ]
  },
  {
   "cell_type": "code",
   "execution_count": 67,
   "id": "3fe3866b",
   "metadata": {},
   "outputs": [
    {
     "data": {
      "text/plain": [
       "<AxesSubplot:xlabel='Health', ylabel='Density'>"
      ]
     },
     "execution_count": 67,
     "metadata": {},
     "output_type": "execute_result"
    },
    {
     "data": {
      "image/png": "[encoded data removed]",
      "text/plain": [
       "<Figure size 432x288 with 1 Axes>"
      ]
     },
     "metadata": {
      "needs_background": "light"
     },
     "output_type": "display_data"
    }
   ],
   "source": [
    "sns.distplot(df[\"Health\"])"
   ]
  },
  {
   "cell_type": "markdown",
   "id": "6a029b58",
   "metadata": {},
   "source": [
    "The above data is not normalized,the building blocks are out of the normalized curve"
   ]
  },
  {
   "cell_type": "code",
   "execution_count": 68,
   "id": "76e5c73d",
   "metadata": {},
   "outputs": [
    {
     "data": {
      "text/plain": [
       "<AxesSubplot:xlabel='Freedom', ylabel='Density'>"
      ]
     },
     "execution_count": 68,
     "metadata": {},
     "output_type": "execute_result"
    },
    {
     "data": {
      "image/png": "[encoded data removed]",
      "text/plain": [
       "<Figure size 432x288 with 1 Axes>"
      ]
     },
     "metadata": {
      "needs_background": "light"
     },
     "output_type": "display_data"
    }
   ],
   "source": [
    "sns.distplot(df[\"Freedom\"])"
   ]
  },
  {
   "cell_type": "markdown",
   "id": "abd2e085",
   "metadata": {},
   "source": [
    "The above data is not normalized,the building blocks are out of the normalized curve"
   ]
  },
  {
   "cell_type": "code",
   "execution_count": 69,
   "id": "ffcfa860",
   "metadata": {},
   "outputs": [
    {
     "data": {
      "text/plain": [
       "<AxesSubplot:xlabel='Trust', ylabel='Density'>"
      ]
     },
     "execution_count": 69,
     "metadata": {},
     "output_type": "execute_result"
    },
    {
     "data": {
      "image/png": "[encoded data removed]",
      "text/plain": [
       "<Figure size 432x288 with 1 Axes>"
      ]
     },
     "metadata": {
      "needs_background": "light"
     },
     "output_type": "display_data"
    }
   ],
   "source": [
    "sns.distplot(df[\"Trust\"])"
   ]
  },
  {
   "cell_type": "markdown",
   "id": "d616a997",
   "metadata": {},
   "source": [
    "The above data is not normalized,the building blocks are out of the normalized curve"
   ]
  },
  {
   "cell_type": "code",
   "execution_count": 70,
   "id": "52348417",
   "metadata": {},
   "outputs": [
    {
     "data": {
      "text/plain": [
       "<AxesSubplot:xlabel='Generosity', ylabel='Density'>"
      ]
     },
     "execution_count": 70,
     "metadata": {},
     "output_type": "execute_result"
    },
    {
     "data": {
      "image/png": "[encoded data removed]",
      "text/plain": [
       "<Figure size 432x288 with 1 Axes>"
      ]
     },
     "metadata": {
      "needs_background": "light"
     },
     "output_type": "display_data"
    }
   ],
   "source": [
    "sns.distplot(df[\"Generosity\"])"
   ]
  },
  {
   "cell_type": "markdown",
   "id": "8238106f",
   "metadata": {},
   "source": [
    "The above data is not normalized,the building blocks are out of the normalized curve"
   ]
  },
  {
   "cell_type": "code",
   "execution_count": 72,
   "id": "0a32161c",
   "metadata": {},
   "outputs": [
    {
     "data": {
      "text/plain": [
       "<AxesSubplot:xlabel='Dystopia_Residual', ylabel='Density'>"
      ]
     },
     "execution_count": 72,
     "metadata": {},
     "output_type": "execute_result"
    },
    {
     "data": {
      "image/png": "[encoded data removed]",
      "text/plain": [
       "<Figure size 432x288 with 1 Axes>"
      ]
     },
     "metadata": {
      "needs_background": "light"
     },
     "output_type": "display_data"
    }
   ],
   "source": [
    "sns.distplot(df[\"Dystopia_Residual\"])"
   ]
  },
  {
   "cell_type": "markdown",
   "id": "b3a79f64",
   "metadata": {},
   "source": [
    "The above data is not normalized,the building blocks are out of the normalized curve"
   ]
  },
  {
   "cell_type": "markdown",
   "id": "d2ea84bf",
   "metadata": {},
   "source": [
    "# Data Cleaning:"
   ]
  },
  {
   "cell_type": "code",
   "execution_count": 75,
   "id": "c678082d",
   "metadata": {},
   "outputs": [
    {
     "data": {
      "text/html": [
       "<div>\n",
       "<style scoped>\n",
       "    .dataframe tbody tr th:only-of-type {\n",
       "        vertical-align: middle;\n",
       "    }\n",
       "\n",
       "    .dataframe tbody tr th {\n",
       "        vertical-align: top;\n",
       "    }\n",
       "\n",
       "    .dataframe thead th {\n",
       "        text-align: right;\n",
       "    }\n",
       "</style>\n",
       "<table border=\"1\" class=\"dataframe\">\n",
       "  <thead>\n",
       "    <tr style=\"text-align: right;\">\n",
       "      <th></th>\n",
       "      <th>Rank</th>\n",
       "      <th>Happiness_Score</th>\n",
       "      <th>Economy</th>\n",
       "      <th>Family</th>\n",
       "      <th>Health</th>\n",
       "      <th>Freedom</th>\n",
       "      <th>Trust</th>\n",
       "      <th>Generosity</th>\n",
       "      <th>Dystopia_Residual</th>\n",
       "    </tr>\n",
       "  </thead>\n",
       "  <tbody>\n",
       "    <tr>\n",
       "      <th>0</th>\n",
       "      <td>1</td>\n",
       "      <td>7.587</td>\n",
       "      <td>1.39651</td>\n",
       "      <td>1.34951</td>\n",
       "      <td>0.94143</td>\n",
       "      <td>0.66557</td>\n",
       "      <td>0.41978</td>\n",
       "      <td>0.29678</td>\n",
       "      <td>2.51738</td>\n",
       "    </tr>\n",
       "    <tr>\n",
       "      <th>1</th>\n",
       "      <td>2</td>\n",
       "      <td>7.561</td>\n",
       "      <td>1.30232</td>\n",
       "      <td>1.40223</td>\n",
       "      <td>0.94784</td>\n",
       "      <td>0.62877</td>\n",
       "      <td>0.14145</td>\n",
       "      <td>0.43630</td>\n",
       "      <td>2.70201</td>\n",
       "    </tr>\n",
       "    <tr>\n",
       "      <th>2</th>\n",
       "      <td>3</td>\n",
       "      <td>7.527</td>\n",
       "      <td>1.32548</td>\n",
       "      <td>1.36058</td>\n",
       "      <td>0.87464</td>\n",
       "      <td>0.64938</td>\n",
       "      <td>0.48357</td>\n",
       "      <td>0.34139</td>\n",
       "      <td>2.49204</td>\n",
       "    </tr>\n",
       "    <tr>\n",
       "      <th>3</th>\n",
       "      <td>4</td>\n",
       "      <td>7.522</td>\n",
       "      <td>1.45900</td>\n",
       "      <td>1.33095</td>\n",
       "      <td>0.88521</td>\n",
       "      <td>0.66973</td>\n",
       "      <td>0.36503</td>\n",
       "      <td>0.34699</td>\n",
       "      <td>2.46531</td>\n",
       "    </tr>\n",
       "    <tr>\n",
       "      <th>4</th>\n",
       "      <td>5</td>\n",
       "      <td>7.427</td>\n",
       "      <td>1.32629</td>\n",
       "      <td>1.32261</td>\n",
       "      <td>0.90563</td>\n",
       "      <td>0.63297</td>\n",
       "      <td>0.32957</td>\n",
       "      <td>0.45811</td>\n",
       "      <td>2.45176</td>\n",
       "    </tr>\n",
       "    <tr>\n",
       "      <th>...</th>\n",
       "      <td>...</td>\n",
       "      <td>...</td>\n",
       "      <td>...</td>\n",
       "      <td>...</td>\n",
       "      <td>...</td>\n",
       "      <td>...</td>\n",
       "      <td>...</td>\n",
       "      <td>...</td>\n",
       "      <td>...</td>\n",
       "    </tr>\n",
       "    <tr>\n",
       "      <th>153</th>\n",
       "      <td>154</td>\n",
       "      <td>3.465</td>\n",
       "      <td>0.22208</td>\n",
       "      <td>0.77370</td>\n",
       "      <td>0.42864</td>\n",
       "      <td>0.59201</td>\n",
       "      <td>0.55191</td>\n",
       "      <td>0.22628</td>\n",
       "      <td>0.67042</td>\n",
       "    </tr>\n",
       "    <tr>\n",
       "      <th>154</th>\n",
       "      <td>155</td>\n",
       "      <td>3.340</td>\n",
       "      <td>0.28665</td>\n",
       "      <td>0.35386</td>\n",
       "      <td>0.31910</td>\n",
       "      <td>0.48450</td>\n",
       "      <td>0.08010</td>\n",
       "      <td>0.18260</td>\n",
       "      <td>1.63328</td>\n",
       "    </tr>\n",
       "    <tr>\n",
       "      <th>155</th>\n",
       "      <td>156</td>\n",
       "      <td>3.006</td>\n",
       "      <td>0.66320</td>\n",
       "      <td>0.47489</td>\n",
       "      <td>0.72193</td>\n",
       "      <td>0.15684</td>\n",
       "      <td>0.18906</td>\n",
       "      <td>0.47179</td>\n",
       "      <td>0.32858</td>\n",
       "    </tr>\n",
       "    <tr>\n",
       "      <th>156</th>\n",
       "      <td>157</td>\n",
       "      <td>2.905</td>\n",
       "      <td>0.01530</td>\n",
       "      <td>0.41587</td>\n",
       "      <td>0.22396</td>\n",
       "      <td>0.11850</td>\n",
       "      <td>0.10062</td>\n",
       "      <td>0.19727</td>\n",
       "      <td>1.83302</td>\n",
       "    </tr>\n",
       "    <tr>\n",
       "      <th>157</th>\n",
       "      <td>158</td>\n",
       "      <td>2.839</td>\n",
       "      <td>0.20868</td>\n",
       "      <td>0.13995</td>\n",
       "      <td>0.28443</td>\n",
       "      <td>0.36453</td>\n",
       "      <td>0.10731</td>\n",
       "      <td>0.16681</td>\n",
       "      <td>1.56726</td>\n",
       "    </tr>\n",
       "  </tbody>\n",
       "</table>\n",
       "<p>158 rows × 9 columns</p>\n",
       "</div>"
      ],
      "text/plain": [
       "     Rank  Happiness_Score  Economy   Family   Health  Freedom    Trust  \\\n",
       "0       1            7.587  1.39651  1.34951  0.94143  0.66557  0.41978   \n",
       "1       2            7.561  1.30232  1.40223  0.94784  0.62877  0.14145   \n",
       "2       3            7.527  1.32548  1.36058  0.87464  0.64938  0.48357   \n",
       "3       4            7.522  1.45900  1.33095  0.88521  0.66973  0.36503   \n",
       "4       5            7.427  1.32629  1.32261  0.90563  0.63297  0.32957   \n",
       "..    ...              ...      ...      ...      ...      ...      ...   \n",
       "153   154            3.465  0.22208  0.77370  0.42864  0.59201  0.55191   \n",
       "154   155            3.340  0.28665  0.35386  0.31910  0.48450  0.08010   \n",
       "155   156            3.006  0.66320  0.47489  0.72193  0.15684  0.18906   \n",
       "156   157            2.905  0.01530  0.41587  0.22396  0.11850  0.10062   \n",
       "157   158            2.839  0.20868  0.13995  0.28443  0.36453  0.10731   \n",
       "\n",
       "     Generosity  Dystopia_Residual  \n",
       "0       0.29678            2.51738  \n",
       "1       0.43630            2.70201  \n",
       "2       0.34139            2.49204  \n",
       "3       0.34699            2.46531  \n",
       "4       0.45811            2.45176  \n",
       "..          ...                ...  \n",
       "153     0.22628            0.67042  \n",
       "154     0.18260            1.63328  \n",
       "155     0.47179            0.32858  \n",
       "156     0.19727            1.83302  \n",
       "157     0.16681            1.56726  \n",
       "\n",
       "[158 rows x 9 columns]"
      ]
     },
     "execution_count": 75,
     "metadata": {},
     "output_type": "execute_result"
    }
   ],
   "source": [
    "df1=df.drop(['Country','Region','Error'],axis=1)\n",
    "df1"
   ]
  },
  {
   "cell_type": "markdown",
   "id": "1dfe4f03",
   "metadata": {},
   "source": [
    "# Removing Outliers:"
   ]
  },
  {
   "cell_type": "markdown",
   "id": "1c04fecc",
   "metadata": {},
   "source": [
    "Z-score Technique"
   ]
  },
  {
   "cell_type": "code",
   "execution_count": 76,
   "id": "a984a900",
   "metadata": {},
   "outputs": [
    {
     "data": {
      "text/plain": [
       "(158, 9)"
      ]
     },
     "execution_count": 76,
     "metadata": {},
     "output_type": "execute_result"
    }
   ],
   "source": [
    "from scipy.stats import zscore\n",
    "import numpy as np\n",
    "z=np.abs(zscore(df1))\n",
    "z.shape"
   ]
  },
  {
   "cell_type": "code",
   "execution_count": 77,
   "id": "5c46f404",
   "metadata": {},
   "outputs": [
    {
     "name": "stdout",
     "output_type": "stream",
     "text": [
      "(array([ 27, 128, 147, 153, 155, 157], dtype=int64), array([6, 7, 3, 6, 8, 3], dtype=int64))\n"
     ]
    }
   ],
   "source": [
    "threshold=3\n",
    "print(np.where(z>3))"
   ]
  },
  {
   "cell_type": "code",
   "execution_count": 78,
   "id": "e5b17e7b",
   "metadata": {},
   "outputs": [
    {
     "name": "stdout",
     "output_type": "stream",
     "text": [
      "(158, 9)\n",
      "(152, 9)\n"
     ]
    }
   ],
   "source": [
    "df2=df1[(z<3).all(axis=1)]\n",
    "print(df1.shape)\n",
    "print(df2.shape)"
   ]
  },
  {
   "cell_type": "markdown",
   "id": "b3fed975",
   "metadata": {},
   "source": [
    "# Percentage Data Loss:"
   ]
  },
  {
   "cell_type": "code",
   "execution_count": 79,
   "id": "8cf8b334",
   "metadata": {},
   "outputs": [
    {
     "data": {
      "text/plain": [
       "3.79746835443038"
      ]
     },
     "execution_count": 79,
     "metadata": {},
     "output_type": "execute_result"
    }
   ],
   "source": [
    "loss_percent=(158-152)/158*100\n",
    "loss_percent"
   ]
  },
  {
   "cell_type": "code",
   "execution_count": 93,
   "id": "e3b03ac4",
   "metadata": {},
   "outputs": [],
   "source": [
    "x=df2.iloc[:,:-1]\n",
    "y=df2.iloc[:,-1]"
   ]
  },
  {
   "cell_type": "code",
   "execution_count": 94,
   "id": "b5222f2f",
   "metadata": {},
   "outputs": [
    {
     "data": {
      "text/plain": [
       "array([[-2.06118488,  1.8387073 ,  1.49611068, ...,  1.76230969,\n",
       "         1.8220699 ,  0.65595135],\n",
       "       [-2.00536253,  1.81883275,  1.19771756, ...,  1.44688503,\n",
       "         0.35523024,  1.57166845],\n",
       "       [-1.95460445,  1.79278922,  1.27024568, ...,  1.6221701 ,\n",
       "         1.95457489,  0.97742359],\n",
       "       ...,\n",
       "       [ 1.5407485 , -1.79965538, -1.35114936, ..., -1.27152318,\n",
       "        -0.16357633,  1.13659521],\n",
       "       [ 1.57594638, -2.06377822, -1.4183337 , ...,  0.3154582 ,\n",
       "        -0.40394411, -0.32359556],\n",
       "       [ 1.61101853, -2.57588281, -1.91827051, ..., -1.85450203,\n",
       "        -0.11827784, -0.18319784]])"
      ]
     },
     "execution_count": 94,
     "metadata": {},
     "output_type": "execute_result"
    }
   ],
   "source": [
    "from sklearn.preprocessing import power_transform\n",
    "x=power_transform(x,method='yeo-johnson')\n",
    "x"
   ]
  },
  {
   "cell_type": "code",
   "execution_count": 95,
   "id": "1213e99c",
   "metadata": {},
   "outputs": [
    {
     "data": {
      "text/plain": [
       "array([[-2.06118488,  1.8387073 ,  1.49611068, ...,  1.76230969,\n",
       "         1.8220699 ,  0.65595135],\n",
       "       [-2.00536253,  1.81883275,  1.19771756, ...,  1.44688503,\n",
       "         0.35523024,  1.57166845],\n",
       "       [-1.95460445,  1.79278922,  1.27024568, ...,  1.6221701 ,\n",
       "         1.95457489,  0.97742359],\n",
       "       ...,\n",
       "       [ 1.5407485 , -1.79965538, -1.35114936, ..., -1.27152318,\n",
       "        -0.16357633,  1.13659521],\n",
       "       [ 1.57594638, -2.06377822, -1.4183337 , ...,  0.3154582 ,\n",
       "        -0.40394411, -0.32359556],\n",
       "       [ 1.61101853, -2.57588281, -1.91827051, ..., -1.85450203,\n",
       "        -0.11827784, -0.18319784]])"
      ]
     },
     "execution_count": 95,
     "metadata": {},
     "output_type": "execute_result"
    }
   ],
   "source": [
    "from sklearn.preprocessing import StandardScaler\n",
    "sc=StandardScaler()\n",
    "x=sc.fit_transform(x)\n",
    "x"
   ]
  },
  {
   "cell_type": "code",
   "execution_count": 108,
   "id": "19829a2c",
   "metadata": {},
   "outputs": [],
   "source": [
    "from sklearn.linear_model import LinearRegression\n",
    "from sklearn.metrics import mean_squared_error,mean_absolute_error,r2_score\n",
    "from sklearn.model_selection import train_test_split"
   ]
  },
  {
   "cell_type": "code",
   "execution_count": 110,
   "id": "f46047b8",
   "metadata": {},
   "outputs": [
    {
     "name": "stdout",
     "output_type": "stream",
     "text": [
      "At random state 12 The model performs very well\n",
      "At random state 12\n",
      "Training r2_score is: 96.86926136348974\n",
      "Testing r2_score is: 96.9262882415719\n",
      "At random state 17 The model performs very well\n",
      "At random state 17\n",
      "Training r2_score is: 96.86314495121638\n",
      "Testing r2_score is: 96.90604931706179\n",
      "At random state 106 The model performs very well\n",
      "At random state 106\n",
      "Training r2_score is: 96.92312388035266\n",
      "Testing r2_score is: 96.92022203710914\n",
      "At random state 141 The model performs very well\n",
      "At random state 141\n",
      "Training r2_score is: 96.83738879598219\n",
      "Testing r2_score is: 96.81027554814385\n",
      "At random state 208 The model performs very well\n",
      "At random state 208\n",
      "Training r2_score is: 96.87637464094199\n",
      "Testing r2_score is: 96.92324543938753\n",
      "At random state 227 The model performs very well\n",
      "At random state 227\n",
      "Training r2_score is: 96.89918243596199\n",
      "Testing r2_score is: 96.85307518336113\n",
      "At random state 257 The model performs very well\n",
      "At random state 257\n",
      "Training r2_score is: 96.88767061887451\n",
      "Testing r2_score is: 96.91520042663959\n",
      "At random state 258 The model performs very well\n",
      "At random state 258\n",
      "Training r2_score is: 96.9387971859408\n",
      "Testing r2_score is: 96.87193141551231\n",
      "At random state 274 The model performs very well\n",
      "At random state 274\n",
      "Training r2_score is: 96.80590562767243\n",
      "Testing r2_score is: 96.80752249991392\n",
      "At random state 283 The model performs very well\n",
      "At random state 283\n",
      "Training r2_score is: 96.86658992175282\n",
      "Testing r2_score is: 96.88016531664417\n",
      "At random state 290 The model performs very well\n",
      "At random state 290\n",
      "Training r2_score is: 96.93333386409236\n",
      "Testing r2_score is: 96.89755917014075\n",
      "At random state 309 The model performs very well\n",
      "At random state 309\n",
      "Training r2_score is: 96.92149872916544\n",
      "Testing r2_score is: 96.88186472413976\n",
      "At random state 330 The model performs very well\n",
      "At random state 330\n",
      "Training r2_score is: 96.8379215802613\n",
      "Testing r2_score is: 96.79316812608877\n",
      "At random state 346 The model performs very well\n",
      "At random state 346\n",
      "Training r2_score is: 96.9076910761945\n",
      "Testing r2_score is: 96.85799527777534\n",
      "At random state 406 The model performs very well\n",
      "At random state 406\n",
      "Training r2_score is: 96.89121707606306\n",
      "Testing r2_score is: 96.88492897836728\n",
      "At random state 454 The model performs very well\n",
      "At random state 454\n",
      "Training r2_score is: 96.86464719238225\n",
      "Testing r2_score is: 96.9193950293226\n",
      "At random state 463 The model performs very well\n",
      "At random state 463\n",
      "Training r2_score is: 96.87826612895678\n",
      "Testing r2_score is: 96.9438182917095\n",
      "At random state 478 The model performs very well\n",
      "At random state 478\n",
      "Training r2_score is: 96.91851537159435\n",
      "Testing r2_score is: 96.93391162416532\n",
      "At random state 482 The model performs very well\n",
      "At random state 482\n",
      "Training r2_score is: 96.66161139251128\n",
      "Testing r2_score is: 96.73586925307185\n",
      "At random state 490 The model performs very well\n",
      "At random state 490\n",
      "Training r2_score is: 96.85263035188612\n",
      "Testing r2_score is: 96.93173601921336\n",
      "At random state 551 The model performs very well\n",
      "At random state 551\n",
      "Training r2_score is: 96.85494347292985\n",
      "Testing r2_score is: 96.94103539610593\n",
      "At random state 574 The model performs very well\n",
      "At random state 574\n",
      "Training r2_score is: 96.91282161416196\n",
      "Testing r2_score is: 96.85253386572575\n",
      "At random state 625 The model performs very well\n",
      "At random state 625\n",
      "Training r2_score is: 96.82809960050581\n",
      "Testing r2_score is: 96.7896406619455\n",
      "At random state 654 The model performs very well\n",
      "At random state 654\n",
      "Training r2_score is: 96.88082335320848\n",
      "Testing r2_score is: 96.89421531277786\n",
      "At random state 700 The model performs very well\n",
      "At random state 700\n",
      "Training r2_score is: 96.83539169853631\n",
      "Testing r2_score is: 96.82204774270099\n",
      "At random state 713 The model performs very well\n",
      "At random state 713\n",
      "Training r2_score is: 96.79414048926002\n",
      "Testing r2_score is: 96.82054322433365\n",
      "At random state 732 The model performs very well\n",
      "At random state 732\n",
      "Training r2_score is: 96.8047459717632\n",
      "Testing r2_score is: 96.82602702453018\n",
      "At random state 780 The model performs very well\n",
      "At random state 780\n",
      "Training r2_score is: 96.89413414311534\n",
      "Testing r2_score is: 96.86960022957528\n",
      "At random state 808 The model performs very well\n",
      "At random state 808\n",
      "Training r2_score is: 96.84790075527022\n",
      "Testing r2_score is: 96.79691402477665\n",
      "At random state 828 The model performs very well\n",
      "At random state 828\n",
      "Training r2_score is: 96.89412954780738\n",
      "Testing r2_score is: 96.8851491100615\n",
      "At random state 854 The model performs very well\n",
      "At random state 854\n",
      "Training r2_score is: 96.91611763361469\n",
      "Testing r2_score is: 96.93937451184529\n",
      "At random state 878 The model performs very well\n",
      "At random state 878\n",
      "Training r2_score is: 96.75643191245146\n",
      "Testing r2_score is: 96.80615406050738\n",
      "At random state 904 The model performs very well\n",
      "At random state 904\n",
      "Training r2_score is: 96.83075616841201\n",
      "Testing r2_score is: 96.78357038391621\n"
     ]
    }
   ],
   "source": [
    "lr=LinearRegression()\n",
    "for i in range(0,1000):\n",
    "    x_train,x_test,y_train,y_test=train_test_split(x,y,random_state=i,test_size=0.20)\n",
    "    lr.fit(x_train,y_train)\n",
    "    pred_train=lr.predict(x_train)\n",
    "    pred_test=lr.predict(x_test)\n",
    "    if round(r2_score(y_train,pred_train)*100,1)==round(r2_score(y_test,pred_test)*100,1):\n",
    "        print(\"At random state\",i,\"The model performs very well\")\n",
    "        print(\"At random state\",i)\n",
    "        print(\"Training r2_score is:\",r2_score(y_train,pred_train)*100)\n",
    "        print(\"Testing r2_score is:\",r2_score(y_test,pred_test)*100)"
   ]
  },
  {
   "cell_type": "code",
   "execution_count": 111,
   "id": "3b866e2f",
   "metadata": {},
   "outputs": [],
   "source": [
    "x_train,x_test,y_train,y_test=train_test_split(x,y,test_size=0.20,random_state=106)"
   ]
  },
  {
   "cell_type": "markdown",
   "id": "86b98e65",
   "metadata": {},
   "source": [
    "# Cross validation score for linear regression:"
   ]
  },
  {
   "cell_type": "code",
   "execution_count": 112,
   "id": "384b9b3f",
   "metadata": {},
   "outputs": [
    {
     "name": "stdout",
     "output_type": "stream",
     "text": [
      "At cv: 2\n",
      "cross validation score:  39.93117329133066\n",
      "r2_score:  97.09730303584873\n",
      "\n",
      "\n",
      "At cv: 3\n",
      "cross validation score:  77.37509445539598\n",
      "r2_score:  97.09730303584873\n",
      "\n",
      "\n",
      "At cv: 4\n",
      "cross validation score:  82.42018262599542\n",
      "r2_score:  97.09730303584873\n",
      "\n",
      "\n",
      "At cv: 5\n",
      "cross validation score:  81.70204858348369\n",
      "r2_score:  97.09730303584873\n",
      "\n",
      "\n",
      "At cv: 6\n",
      "cross validation score:  86.21164822919677\n",
      "r2_score:  97.09730303584873\n",
      "\n",
      "\n",
      "At cv: 7\n",
      "cross validation score:  86.31800074008085\n",
      "r2_score:  97.09730303584873\n",
      "\n",
      "\n",
      "At cv: 8\n",
      "cross validation score:  86.76334048073416\n",
      "r2_score:  97.09730303584873\n",
      "\n",
      "\n",
      "At cv: 9\n",
      "cross validation score:  91.21583072367946\n",
      "r2_score:  97.09730303584873\n",
      "\n",
      "\n"
     ]
    }
   ],
   "source": [
    "pred_lr=lr.predict(x_test)\n",
    "from sklearn.model_selection import cross_val_score\n",
    "lss = r2_score(y_test,pred_lr)\n",
    "for j in range(2,10):\n",
    "    lsscore =cross_val_score(lr,x,y,cv=j)\n",
    "    lsc = lsscore.mean()\n",
    "    print(\"At cv:\",j)\n",
    "    print(\"cross validation score: \",lsc*100)\n",
    "    print(\"r2_score: \",lss*100)\n",
    "    print(\"\\n\")"
   ]
  },
  {
   "cell_type": "code",
   "execution_count": 113,
   "id": "b4586969",
   "metadata": {},
   "outputs": [
    {
     "name": "stdout",
     "output_type": "stream",
     "text": [
      "The cv score is:  0.8242018262599542 \n",
      "The accuracy score is: 0.9709730303584873\n"
     ]
    }
   ],
   "source": [
    "lsscore_selected=cross_val_score(lr,x,y,cv=4).mean()\n",
    "print(\"The cv score is: \",lsscore_selected,\"\\nThe accuracy score is:\",lss)"
   ]
  },
  {
   "cell_type": "markdown",
   "id": "bc67039e",
   "metadata": {},
   "source": [
    "# Model Saving:"
   ]
  },
  {
   "cell_type": "code",
   "execution_count": 116,
   "id": "b1bf7cda",
   "metadata": {},
   "outputs": [],
   "source": [
    "import pickle\n",
    "filename= 'WHR-Model.pkl'\n",
    "pickle.dump(lr,open(filename,'wb'))"
   ]
  }
 ],
 "metadata": {
  "kernelspec": {
   "display_name": "Python 3 (ipykernel)",
   "language": "python",
   "name": "python3"
  },
  "language_info": {
   "codemirror_mode": {
    "name": "ipython",
    "version": 3
   },
   "file_extension": ".py",
   "mimetype": "text/x-python",
   "name": "python",
   "nbconvert_exporter": "python",
   "pygments_lexer": "ipython3",
   "version": "3.9.7"
  }
 },
 "nbformat": 4,
 "nbformat_minor": 5
}
